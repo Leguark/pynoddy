{
 "cells": [
  {
   "cell_type": "markdown",
   "metadata": {},
   "source": [
    "Change Noddy input file and recompute model\n",
    "===========================================\n",
    "\n",
    "In this section, we will briefly present possibilities to access the properties defined in the Noddy history input file and show how simple adjustments can be performed, for example changing the cube size to obtain a model with a higher resolution.\n",
    "\n",
    "Also outlined here is the way that events are stored in the history file as single objects. For more information on accessing and changing the events themselves, please be patient until we get to the next section."
   ]
  },
  {
   "cell_type": "code",
   "execution_count": 1,
   "metadata": {
    "collapsed": false
   },
   "outputs": [
    {
     "data": {
      "text/html": [
       "<link href='http://fonts.googleapis.com/css?family=Alegreya+Sans:100,300,400,500,700,800,900,100italic,300italic,400italic,500italic,700italic,800italic,900italic' rel='stylesheet' type='text/css'>\n",
       "<link href='http://fonts.googleapis.com/css?family=Arvo:400,700,400italic' rel='stylesheet' type='text/css'>\n",
       "<link href='http://fonts.googleapis.com/css?family=PT+Mono' rel='stylesheet' type='text/css'>\n",
       "<link href='http://fonts.googleapis.com/css?family=Shadows+Into+Light' rel='stylesheet' type='text/css'>\n",
       "<link rel=\"stylesheet\" type=\"text/css\" href=\"http://fonts.googleapis.com/css?family=Tangerine\">\n",
       "<link href='http://fonts.googleapis.com/css?family=Philosopher:400,700,400italic,700italic' rel='stylesheet' type='text/css'>\n",
       "<link href='http://fonts.googleapis.com/css?family=Libre+Baskerville:400,400italic' rel='stylesheet' type='text/css'>\n",
       "<link href='http://fonts.googleapis.com/css?family=Lora:400,400italic' rel='stylesheet' type='text/css'>\n",
       "<link href='http://fonts.googleapis.com/css?family=Karla:400,400italic' rel='stylesheet' type='text/css'>\n",
       "\n",
       "<style>\n",
       "\n",
       "@font-face {\n",
       "    font-family: \"Computer Modern\";\n",
       "    src: url('http://mirrors.ctan.org/fonts/cm-unicode/fonts/otf/cmunss.otf');\n",
       "}\n",
       "\n",
       "#notebook_panel { /* main background */\n",
       "    background: #888;\n",
       "    color: #f6f6f6;\n",
       "}\n",
       "\n",
       "div.cell { /* set cell width to about 80 chars */\n",
       "    width: 800px;\n",
       "}\n",
       "\n",
       "div #notebook { /* centre the content */\n",
       "    background: #fff; /* white background for content */\n",
       "    width: 1000px;\n",
       "    margin: auto;\n",
       "    padding-left: 1em;\n",
       "}\n",
       "\n",
       "#notebook li { /* More space between bullet points */\n",
       "margin-top:0.8em;\n",
       "}\n",
       "\n",
       "/* draw border around running cells */\n",
       "div.cell.border-box-sizing.code_cell.running { \n",
       "    border: 3px solid #111;\n",
       "}\n",
       "\n",
       "/* Put a solid color box around each cell and its output, visually linking them together */\n",
       "div.cell.code_cell {\n",
       "    background: #ddd;  /* rgba(230,230,230,1.0);  */\n",
       "    border-radius: 10px; /* rounded borders */\n",
       "    width: 900px;\n",
       "    padding: 1em;\n",
       "    margin-top: 1em;\n",
       "}\n",
       "\n",
       "div.text_cell_render{\n",
       "    font-family: 'Arvo' sans-serif;\n",
       "    line-height: 130%;\n",
       "    font-size: 115%;\n",
       "    width:700px;\n",
       "    margin-left:auto;\n",
       "    margin-right:auto;\n",
       "}\n",
       "\n",
       "\n",
       "/* Formatting for header cells */\n",
       ".text_cell_render h1 {\n",
       "    font-family: 'Alegreya Sans', sans-serif;\n",
       "    /* font-family: 'Tangerine', serif; */\n",
       "    /* font-family: 'Libre Baskerville', serif; */\n",
       "    /* font-family: 'Karla', sans-serif;\n",
       "    /* font-family: 'Lora', serif; */\n",
       "    font-size: 50px;\n",
       "    text-align: center;\n",
       "    /* font-style: italic; */\n",
       "    font-weight: 400;\n",
       "    /* font-size: 40pt; */\n",
       "    /* text-shadow: 4px 4px 4px #aaa; */\n",
       "    line-height: 120%;\n",
       "    color: rgb(12,85,97);\n",
       "    margin-bottom: .5em;\n",
       "    margin-top: 0.1em;\n",
       "    display: block;\n",
       "}\t\n",
       ".text_cell_render h2 {\n",
       "    /* font-family: 'Arial', serif; */\n",
       "    /* font-family: 'Lora', serif; */\n",
       "    font-family: 'Alegreya Sans', sans-serif;\n",
       "    font-weight: 700;\n",
       "    font-size: 24pt;\n",
       "    line-height: 100%;\n",
       "    /* color: rgb(171,165,131); */\n",
       "    color: rgb(12,85,97);\n",
       "    margin-bottom: 0.1em;\n",
       "    margin-top: 0.1em;\n",
       "    display: block;\n",
       "}\t\n",
       "\n",
       ".text_cell_render h3 {\n",
       "    font-family: 'Arial', serif;\n",
       "    margin-top:12px;\n",
       "    margin-bottom: 3px;\n",
       "    font-style: italic;\n",
       "    color: rgb(95,92,72);\n",
       "}\n",
       "\n",
       ".text_cell_render h4 {\n",
       "    font-family: 'Arial', serif;\n",
       "}\n",
       "\n",
       ".text_cell_render h5 {\n",
       "    font-family: 'Alegreya Sans', sans-serif;\n",
       "    font-weight: 300;\n",
       "    font-size: 16pt;\n",
       "    color: grey;\n",
       "    font-style: italic;\n",
       "    margin-bottom: .1em;\n",
       "    margin-top: 0.1em;\n",
       "    display: block;\n",
       "}\n",
       "\n",
       ".text_cell_render h6 {\n",
       "    font-family: 'PT Mono', sans-serif;\n",
       "    font-weight: 300;\n",
       "    font-size: 10pt;\n",
       "    color: grey;\n",
       "    margin-bottom: 1px;\n",
       "    margin-top: 1px;\n",
       "}\n",
       "\n",
       ".CodeMirror{\n",
       "        font-family: \"PT Mono\";\n",
       "        font-size: 100%;\n",
       "}\n",
       "\n",
       "</style>\n"
      ],
      "text/plain": [
       "<IPython.core.display.HTML object>"
      ]
     },
     "execution_count": 1,
     "metadata": {},
     "output_type": "execute_result"
    }
   ],
   "source": [
    "from IPython.core.display import HTML\n",
    "css_file = 'pynoddy.css'\n",
    "HTML(open(css_file, \"r\").read())"
   ]
  },
  {
   "cell_type": "code",
   "execution_count": 7,
   "metadata": {
    "collapsed": false
   },
   "outputs": [
    {
     "name": "stdout",
     "output_type": "stream",
     "text": [
      "/Users/flow/git/pynoddy/docs/notebooks\n"
     ]
    }
   ],
   "source": [
    "cd ../docs/notebooks/"
   ]
  },
  {
   "cell_type": "code",
   "execution_count": 8,
   "metadata": {
    "collapsed": false
   },
   "outputs": [],
   "source": [
    "%matplotlib inline"
   ]
  },
  {
   "cell_type": "code",
   "execution_count": 20,
   "metadata": {
    "collapsed": false
   },
   "outputs": [],
   "source": [
    "import sys, os\n",
    "import matplotlib.pyplot as plt\n",
    "import numpy as np\n",
    "# adjust some settings for matplotlib\n",
    "from matplotlib import rcParams\n",
    "# print rcParams\n",
    "rcParams['font.size'] = 15\n",
    "# determine path of repository to set paths corretly below\n",
    "repo_path = os.path.realpath('../..')\n",
    "import pynoddy\n",
    "import pynoddy.history\n",
    "import pynoddy.output"
   ]
  },
  {
   "cell_type": "markdown",
   "metadata": {},
   "source": [
    "First step: load the history file into a Python object:"
   ]
  },
  {
   "cell_type": "code",
   "execution_count": 10,
   "metadata": {
    "collapsed": false
   },
   "outputs": [],
   "source": [
    "# Change to sandbox directory to store results\n",
    "os.chdir(os.path.join(repo_path, 'sandbox'))\n",
    "# Path to exmaple directory in this repository\n",
    "example_directory = os.path.join(repo_path,'examples')\n",
    "# Compute noddy model for history file\n",
    "history_file = 'simple_two_faults.his'\n",
    "history = os.path.join(example_directory, history_file)\n",
    "output_name = 'noddy_out'\n",
    "H1 = pynoddy.history.NoddyHistory(history)"
   ]
  },
  {
   "cell_type": "markdown",
   "metadata": {},
   "source": [
    "**Technical note**: the `NoddyHistory` class can be accessed on the level of pynoddy (as it is imported in the `__init__.py` module) with the shortcut:\n",
    "\n",
    "`H1 = pynoddy.NoddyHistory(history)`\n",
    "\n",
    "I am using the long version `pynoddy.history.NoddyHistory` here to ensure that the correct package is loaded with the `reload()` function. If you don't make changes to any of the pynoddy files, this is not required. So for any practical cases, the shortcuts are absolutely fine!"
   ]
  },
  {
   "cell_type": "markdown",
   "metadata": {},
   "source": [
    "Get basic information on the model\n",
    "-----------------------------------\n",
    "\n",
    "The history file contains the entire information on the Noddy model. Some information can be accessed through the NoddyHistory object (and more will be added soon!), for example the total number of events:"
   ]
  },
  {
   "cell_type": "code",
   "execution_count": 11,
   "metadata": {
    "collapsed": false
   },
   "outputs": [
    {
     "name": "stdout",
     "output_type": "stream",
     "text": [
      "The history contains 3 events\n"
     ]
    }
   ],
   "source": [
    "print(\"The history contains %d events\" % H1.n_events)"
   ]
  },
  {
   "cell_type": "markdown",
   "metadata": {},
   "source": [
    "Events are implemented as objects, the classes are defined in `H1.events`. All events are accessible in a list on the level of the history object:\n"
   ]
  },
  {
   "cell_type": "code",
   "execution_count": 12,
   "metadata": {
    "collapsed": false
   },
   "outputs": [
    {
     "data": {
      "text/plain": [
       "{1: <pynoddy.events.Stratigraphy at 0x103ac2a50>,\n",
       " 2: <pynoddy.events.Fault at 0x103ac2a90>,\n",
       " 3: <pynoddy.events.Fault at 0x103ac2ad0>}"
      ]
     },
     "execution_count": 12,
     "metadata": {},
     "output_type": "execute_result"
    }
   ],
   "source": [
    "H1.events"
   ]
  },
  {
   "cell_type": "markdown",
   "metadata": {},
   "source": [
    "The properties of an event are stored in the event objects themselves. To date, only a subset of the properties (deemed as relevant for the purpose of pynoddy so far) are parsed. The .his file contains a lot more information! If access to this information is required, adjustments in pynoddy.events have to be made.\n",
    "\n",
    "For example, the properties of a fault object are:"
   ]
  },
  {
   "cell_type": "code",
   "execution_count": 13,
   "metadata": {
    "collapsed": false
   },
   "outputs": [
    {
     "data": {
      "text/plain": [
       "{'Amplitude': 2000.0,\n",
       " 'Blue': 254.0,\n",
       " 'Color Name': 'Custom Colour 8',\n",
       " 'Cyl Index': 0.0,\n",
       " 'Dip': 60.0,\n",
       " 'Dip Direction': 90.0,\n",
       " 'Geometry': 'Translation',\n",
       " 'Green': 0.0,\n",
       " 'Movement': 'Hanging Wall',\n",
       " 'Pitch': 90.0,\n",
       " 'Profile Pitch': 90.0,\n",
       " 'Radius': 1000.0,\n",
       " 'Red': 0.0,\n",
       " 'Rotation': 30.0,\n",
       " 'Slip': 1000.0,\n",
       " 'X': 5500.0,\n",
       " 'XAxis': 2000.0,\n",
       " 'Y': 3968.0,\n",
       " 'YAxis': 2000.0,\n",
       " 'Z': 0.0,\n",
       " 'ZAxis': 2000.0}"
      ]
     },
     "execution_count": 13,
     "metadata": {},
     "output_type": "execute_result"
    }
   ],
   "source": [
    "H1.events[2].properties\n",
    "# print H1.events[5].properties.keys()"
   ]
  },
  {
   "cell_type": "markdown",
   "metadata": {},
   "source": [
    "Change model cube size and recompute model\n",
    "------------------------------------------\n",
    "\n",
    "The Noddy model itself is, once computed, a continuous model in 3-D space. However, for most visualisations and further calculations (e.g. geophysics), a discretised version is suitable. The discretisation (or block size) can be adapted in the history file. The according pynoddy function is change_cube_size. \n",
    "\n",
    "A simple example to change the cube size and write a new history file:"
   ]
  },
  {
   "cell_type": "code",
   "execution_count": 14,
   "metadata": {
    "collapsed": false
   },
   "outputs": [],
   "source": [
    "# We will first recompute the model and store results in an output file for comparison\n",
    "NH1 = pynoddy.history.NoddyHistory(history)\n",
    "pynoddy.compute_model(history, output_name) \n",
    "NO1 = pynoddy.output.NoddyOutput(output_name)"
   ]
  },
  {
   "cell_type": "code",
   "execution_count": 15,
   "metadata": {
    "collapsed": false
   },
   "outputs": [],
   "source": [
    "# Now: change cubsize, write to new file and recompute\n",
    "NH1.change_cube_size(50)\n",
    "# Save model to a new history file and recompute (Note: may take a while to compute now)\n",
    "new_history = \"fault_model_changed_cubesize.his\"\n",
    "new_output_name = \"noddy_out_changed_cube\"\n",
    "NH1.write_history(new_history)\n",
    "pynoddy.compute_model(new_history, new_output_name)\n",
    "NO2 = pynoddy.output.NoddyOutput(new_output_name)"
   ]
  },
  {
   "cell_type": "markdown",
   "metadata": {},
   "source": [
    "The different cell sizes are also represented in the output files:"
   ]
  },
  {
   "cell_type": "code",
   "execution_count": 16,
   "metadata": {
    "collapsed": false
   },
   "outputs": [
    {
     "name": "stdout",
     "output_type": "stream",
     "text": [
      "Model 1 contains a total of  582800 cells with a blocksize 100 m\n",
      "Model 2 contains a total of 4662400 cells with a blocksize 50 m\n"
     ]
    }
   ],
   "source": [
    "print(\"Model 1 contains a total of %7d cells with a blocksize %.0f m\" %\n",
    "      (NO1.n_total, NO1.delx))\n",
    "print(\"Model 2 contains a total of %7d cells with a blocksize %.0f m\" %\n",
    "      (NO2.n_total, NO2.delx)) "
   ]
  },
  {
   "cell_type": "markdown",
   "metadata": {},
   "source": [
    "We can compare the effect of the different model discretisations in section plots, created with the plot_section method described before. Let's get a bit more fancy here and use the functionality to pass axes to the plot_section method, and to create one figure as direct comparison:"
   ]
  },
  {
   "cell_type": "code",
   "execution_count": 17,
   "metadata": {
    "collapsed": false
   },
   "outputs": [
    {
     "data": {
      "image/png": "[encoded data removed]",
      "text/plain": [
       "<matplotlib.figure.Figure at 0x103a92e10>"
      ]
     },
     "metadata": {},
     "output_type": "display_data"
    }
   ],
   "source": [
    "# create basic figure layout\n",
    "fig = plt.figure(figsize = (15,5))\n",
    "ax1 = fig.add_subplot(121)\n",
    "ax2 = fig.add_subplot(122)\n",
    "NO1.plot_section('y', position=0, ax = ax1, colorbar=False, title=\"Low resolution\")\n",
    "NO2.plot_section('y', position=1, ax = ax2, colorbar=False, title=\"High resolution\")\n",
    "\n",
    "plt.show()\n"
   ]
  },
  {
   "cell_type": "markdown",
   "metadata": {},
   "source": [
    "Note: the following two subsections contain some slighly advanced examples on how to use the possibility to adjust cell sizes through scripts directly to autmote processes that are infeasible using the GUI version of Noddy - as a 'peek preview' of the automation for uncertainty estimation that follows in a later section. Feel free to skip those two sections if you are only interested in the basic features so far."
   ]
  },
  {
   "cell_type": "markdown",
   "metadata": {},
   "source": [
    "Estimating computation time for a high-resolution model\n",
    "--------------------------------------------------------\n",
    "\n",
    "You surely realised (if you ran these examples in an actual interactive ipython notebook) that the computation of the high-resolution model takes siginificantly longer than the low-resolution model. In a practical case, this can be very important. "
   ]
  },
  {
   "cell_type": "code",
   "execution_count": 18,
   "metadata": {
    "collapsed": false
   },
   "outputs": [
    {
     "name": "stdout",
     "output_type": "stream",
     "text": [
      "Simulation time for low-resolution model:  0.73 seconds\n",
      "Simulation time for high-resolution model:  5.78 seconds\n"
     ]
    }
   ],
   "source": [
    "# We use here simply the time() function to evaulate the simualtion time.\n",
    "# This is not the best possible way to do it, but probably the simplest.\n",
    "import time\n",
    "start_time = time.time()\n",
    "pynoddy.compute_model(history, output_name) \n",
    "end_time = time.time()\n",
    "\n",
    "print(\"Simulation time for low-resolution model: %5.2f seconds\" % (end_time - start_time))\n",
    "\n",
    "start_time = time.time()\n",
    "pynoddy.compute_model(new_history, new_output_name)\n",
    "end_time = time.time()\n",
    "\n",
    "print(\"Simulation time for high-resolution model: %5.2f seconds\" % (end_time - start_time))\n"
   ]
  },
  {
   "cell_type": "markdown",
   "metadata": {},
   "source": [
    "For an estimation of required computing time for a given discretisation, let's evaulate the time for a couple of steps, plot, and extrapolate:"
   ]
  },
  {
   "cell_type": "code",
   "execution_count": 21,
   "metadata": {
    "collapsed": false
   },
   "outputs": [],
   "source": [
    "# perform computation for a range of cube sizes\n",
    "cube_sizes = np.arange(200,49,-5)\n",
    "times = []\n",
    "NH1 = pynoddy.history.NoddyHistory(history)\n",
    "tmp_history = \"tmp_history\"\n",
    "tmp_output = \"tmp_output\"\n",
    "for cube_size in cube_sizes:\n",
    "    NH1.change_cube_size(cube_size)\n",
    "    NH1.write_history(tmp_history)\n",
    "    start_time = time.time()\n",
    "    pynoddy.compute_model(tmp_history, tmp_output)\n",
    "    end_time = time.time()\n",
    "    times.append(end_time - start_time)\n",
    "times = np.array(times)\n"
   ]
  },
  {
   "cell_type": "code",
   "execution_count": 22,
   "metadata": {
    "collapsed": false
   },
   "outputs": [
    {
     "data": {
      "text/plain": [
       "(200.0, 40.0)"
      ]
     },
     "execution_count": 22,
     "metadata": {},
     "output_type": "execute_result"
    },
    {
     "data": {
      "image/png": "[encoded data removed]",
      "text/plain": [
       "<matplotlib.figure.Figure at 0x10655d510>"
      ]
     },
     "metadata": {},
     "output_type": "display_data"
    }
   ],
   "source": [
    "# create plot \n",
    "fig = plt.figure(figsize=(18,4))\n",
    "ax1 = fig.add_subplot(131)\n",
    "ax2 = fig.add_subplot(132)\n",
    "ax3 = fig.add_subplot(133)\n",
    "\n",
    "ax1.plot(cube_sizes, np.array(times), 'ro-')\n",
    "ax1.set_xlabel('cubesize [m]')\n",
    "ax1.set_ylabel('time [s]')\n",
    "ax1.set_title('Computation time')\n",
    "ax1.set_xlim(ax1.get_xlim()[::-1])\n",
    "\n",
    "ax2.plot(cube_sizes, times**(1/3.), 'bo-')\n",
    "ax2.set_xlabel('cubesize [m]')\n",
    "ax2.set_ylabel('(time [s])**(1/3)')\n",
    "ax2.set_title('Computation time (cuberoot)')\n",
    "ax2.set_xlim(ax2.get_xlim()[::-1])\n",
    "\n",
    "ax3.semilogy(cube_sizes, times, 'go-')\n",
    "ax3.set_xlabel('cubesize [m]')\n",
    "ax3.set_ylabel('time [s]')\n",
    "ax3.set_title('Computation time (y-log)')\n",
    "ax3.set_xlim(ax3.get_xlim()[::-1])"
   ]
  },
  {
   "cell_type": "markdown",
   "metadata": {},
   "source": [
    "It is actually quite interesting that the computation time does not scale with cubesize to the power of three (as could be expected, given that we have a mesh in three dimensions). Or am I missing something?\n",
    "\n",
    "Anyway, just because we can: let's assume that the scaling is somehow exponential and try to fit a model for a time prediction. Given the last plot, it looks like we could fit a logarithmic model with probably an additional exponent (as the line is obviously not straight), so something like:\n",
    "\n",
    "$$ f(x) = a + \\left( b \\log_{10}(x) \\right)^{-c} $$\n",
    "\n",
    "Let's try to fit the curve with `scipy.optimize.curve_fit`:"
   ]
  },
  {
   "cell_type": "code",
   "execution_count": 28,
   "metadata": {
    "collapsed": false
   },
   "outputs": [
    {
     "data": {
      "text/plain": [
       "array([ -0.05618538,   0.50990774,  12.45183398])"
      ]
     },
     "execution_count": 28,
     "metadata": {},
     "output_type": "execute_result"
    }
   ],
   "source": [
    "# perform curve fitting with scipy.optimize\n",
    "import scipy.optimize\n",
    "# define function to be fit\n",
    "def func(x,a,b,c):\n",
    "    return a + (b*np.log10(x))**(-c)\n",
    "\n",
    "popt, pcov = scipy.optimize.curve_fit(func, cube_sizes, np.array(times), p0 = [-1, 0.5, 2])\n",
    "popt"
   ]
  },
  {
   "cell_type": "markdown",
   "metadata": {},
   "source": [
    "Interesting, it looks like Noody scales with something like:\n",
    "\n",
    "$$ f(x) = \\left( 0.5 \\log_{10}(x) \\right)^{-12} $$\n",
    "\n",
    "**Note**: if you understand more about computational complexity than me, it might not be that interesting to you at all - if this is the case, please contact me and tell me why this result could be expected..."
   ]
  },
  {
   "cell_type": "code",
   "execution_count": 30,
   "metadata": {
    "collapsed": false
   },
   "outputs": [
    {
     "data": {
      "text/plain": [
       "(200.0, 20.0)"
      ]
     },
     "execution_count": 30,
     "metadata": {},
     "output_type": "execute_result"
    },
    {
     "data": {
      "image/png": "[encoded data removed]",
      "text/plain": [
       "<matplotlib.figure.Figure at 0x106521e50>"
      ]
     },
     "metadata": {},
     "output_type": "display_data"
    }
   ],
   "source": [
    "a,b,c = popt\n",
    "cube_range = np.arange(200,20,-1)\n",
    "times_eval = func(cube_range, a, b, c)\n",
    "fig = plt.figure()\n",
    "ax = fig.add_subplot(111)\n",
    "ax.semilogy(cube_range, times_eval, '-')\n",
    "ax.semilogy(cube_sizes, times, 'ko')\n",
    "# reverse x-axis\n",
    "ax.set_xlim(ax.get_xlim()[::-1])"
   ]
  },
  {
   "cell_type": "markdown",
   "metadata": {},
   "source": [
    "Not too bad... let's evaluate the time for a cube size of 40 m:"
   ]
  },
  {
   "cell_type": "code",
   "execution_count": 31,
   "metadata": {
    "collapsed": false
   },
   "outputs": [
    {
     "name": "stdout",
     "output_type": "stream",
     "text": [
      "Estimated time for a cube size of 40 m: 12.4 seconds\n"
     ]
    }
   ],
   "source": [
    "cube_size = 40 # m\n",
    "time_est = func(cube_size, a, b, c)\n",
    "print(\"Estimated time for a cube size of %d m: %.1f seconds\" % (cube_size, time_est))"
   ]
  },
  {
   "cell_type": "markdown",
   "metadata": {},
   "source": [
    "Now let's check the actual simulation time:"
   ]
  },
  {
   "cell_type": "code",
   "execution_count": 32,
   "metadata": {
    "collapsed": false
   },
   "outputs": [
    {
     "name": "stdout",
     "output_type": "stream",
     "text": [
      "Actual computation time for a cube size of 40 m: 11.6 seconds\n"
     ]
    }
   ],
   "source": [
    "NH1.change_cube_size(cube_size)\n",
    "NH1.write_history(tmp_history)\n",
    "start_time = time.time()\n",
    "pynoddy.compute_model(tmp_history, tmp_output)\n",
    "end_time = time.time()\n",
    "time_comp = end_time - start_time\n",
    "\n",
    "print(\"Actual computation time for a cube size of %d m: %.1f seconds\" % (cube_size, time_comp))"
   ]
  },
  {
   "cell_type": "markdown",
   "metadata": {},
   "source": [
    "Not too bad, probably in the range of the inherent variability... and if we check it in the plot:"
   ]
  },
  {
   "cell_type": "code",
   "execution_count": 33,
   "metadata": {
    "collapsed": false
   },
   "outputs": [
    {
     "data": {
      "text/plain": [
       "(200.0, 20.0)"
      ]
     },
     "execution_count": 33,
     "metadata": {},
     "output_type": "execute_result"
    },
    {
     "data": {
      "image/png": "[encoded data removed]",
      "text/plain": [
       "<matplotlib.figure.Figure at 0x107cb74d0>"
      ]
     },
     "metadata": {},
     "output_type": "display_data"
    }
   ],
   "source": [
    "fig = plt.figure()\n",
    "ax = fig.add_subplot(111)\n",
    "ax.semilogy(cube_range, times_eval, '-')\n",
    "ax.semilogy(cube_sizes, times, 'ko')\n",
    "ax.semilogy(cube_size, time_comp, 'ro')\n",
    "# reverse x-axis\n",
    "ax.set_xlim(ax.get_xlim()[::-1])"
   ]
  },
  {
   "cell_type": "markdown",
   "metadata": {},
   "source": [
    "Anyway, the point of this excercise was not a precise evaluation of Noddy's computational complexity, but to provide a simple means of evaluating computation time for a high resolution model, using the flexibility of writing simple scripts using pynoddy, and a couple of additional python modules. \n",
    "\n",
    "For a realistic case, it should, of course, be sufficient to determine the time based on a lot less computed points. If you like, test it with your favourite model and tell me if it proved useful (or not)!"
   ]
  },
  {
   "cell_type": "markdown",
   "metadata": {},
   "source": [
    "Simple convergence study\n",
    "-----------------------------------------\n",
    "\n",
    "So: why would we want to run a high-resolution model, anyway? Well, of course, it produces nicer pictures - but on a scientific level, that's completely irrelevant (haha, not true - so nice if it would be...). \n",
    "\n",
    "Anyway, if we want to use the model in a scientific study, for example to evaluate volume of specific units, or to estimate the geological topology (Mark is working on this topic with some cool ideas - example to be implemented here, \"soon\"), we want to know if the resolution of the model is actually high enough to produce meaningful results.\n",
    "\n",
    "As a simple example of the evaluation of model resolution, we will here inlcude a volume convergence study, i.e. we will estimate at which level of increasing model resolution the estimated block volumes do not change anymore.\n",
    "\n",
    "The entire procedure is very similar to the computational time evaluation above, only that we now also analyse the output and determine the rock volumes of each defined geological unit:"
   ]
  },
  {
   "cell_type": "code",
   "execution_count": 34,
   "metadata": {
    "collapsed": false
   },
   "outputs": [],
   "source": [
    "# perform computation for a range of cube sizes\n",
    "reload(pynoddy.output)\n",
    "cube_sizes = np.arange(200,49,-5)\n",
    "all_volumes = []\n",
    "N_tmp = pynoddy.history.NoddyHistory(history)\n",
    "tmp_history = \"tmp_history\"\n",
    "tmp_output = \"tmp_output\"\n",
    "for cube_size in cube_sizes:\n",
    "    # adjust cube size\n",
    "    N_tmp.change_cube_size(cube_size)\n",
    "    N_tmp.write_history(tmp_history)\n",
    "    pynoddy.compute_model(tmp_history, tmp_output)\n",
    "    # open simulated model and determine volumes\n",
    "    O_tmp = pynoddy.output.NoddyOutput(tmp_output)\n",
    "    O_tmp.determine_unit_volumes()\n",
    "    all_volumes.append(O_tmp.unit_volumes)"
   ]
  },
  {
   "cell_type": "code",
   "execution_count": 35,
   "metadata": {
    "collapsed": false
   },
   "outputs": [
    {
     "data": {
      "text/plain": [
       "<matplotlib.text.Text at 0x107eb7250>"
      ]
     },
     "execution_count": 35,
     "metadata": {},
     "output_type": "execute_result"
    },
    {
     "data": {
      "image/png": "[encoded data removed]",
      "text/plain": [
       "<matplotlib.figure.Figure at 0x1080b1610>"
      ]
     },
     "metadata": {},
     "output_type": "display_data"
    }
   ],
   "source": [
    "all_volumes = np.array(all_volumes)\n",
    "fig = plt.figure(figsize=(16,4))\n",
    "ax1 = fig.add_subplot(121)\n",
    "ax2 = fig.add_subplot(122)\n",
    "\n",
    "# separate into two plots for better visibility:\n",
    "for i in range(np.shape(all_volumes)[1]):\n",
    "    if i < 4:\n",
    "        ax1.plot(cube_sizes, all_volumes[:,i], 'o-', label='unit %d' %i)\n",
    "    else:\n",
    "        ax2.plot(cube_sizes, all_volumes[:,i], 'o-', label='unit %d' %i)\n",
    "\n",
    "ax1.legend(loc=2)\n",
    "ax2.legend(loc=2)\n",
    "# reverse axes\n",
    "ax1.set_xlim(ax1.get_xlim()[::-1])\n",
    "ax2.set_xlim(ax2.get_xlim()[::-1])\n",
    "\n",
    "ax1.set_xlabel(\"Block size [m]\")\n",
    "ax1.set_ylabel(\"Total unit volume [m**3]\")\n",
    "ax2.set_xlabel(\"Block size [m]\")\n",
    "ax2.set_ylabel(\"Total unit volume [m**3]\")"
   ]
  },
  {
   "cell_type": "markdown",
   "metadata": {},
   "source": [
    "It looks like the volumes would start to converge from about a block size of 100 m. The example model is pretty small and simple, probably not the best example for this study. Try it out with your own, highly complex, favourite pet model :-)"
   ]
  }
 ],
 "metadata": {
  "kernelspec": {
   "display_name": "Python 2",
   "language": "python",
   "name": "python2"
  },
  "language_info": {
   "codemirror_mode": {
    "name": "ipython",
    "version": 2
   },
   "file_extension": ".py",
   "mimetype": "text/x-python",
   "name": "python",
   "nbconvert_exporter": "python",
   "pygments_lexer": "ipython2",
   "version": "2.7.11"
  }
 },
 "nbformat": 4,
 "nbformat_minor": 0
}
