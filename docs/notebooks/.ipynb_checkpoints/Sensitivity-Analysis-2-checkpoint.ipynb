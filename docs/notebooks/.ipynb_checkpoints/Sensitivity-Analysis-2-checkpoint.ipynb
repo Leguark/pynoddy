{
 "cells": [
  {
   "cell_type": "markdown",
   "metadata": {},
   "source": [
    "# Sensitivity analysis with SALib\n",
    "\n",
    "We have got the single parts now for the sensitivity analysis. We are now using the global sensitivity analysis methods of the Python package SALib, available on:\n",
    "\n",
    "https://github.com/jdherman/SALib\n",
    "\n",
    "As a start, we will test the sensitivity of the model at each drillhole position separately. As parameters, we will use the parameters of the fault events: dip, dip direction, and slip."
   ]
  },
  {
   "cell_type": "code",
   "execution_count": 1,
   "metadata": {
    "collapsed": false
   },
   "outputs": [
    {
     "data": {
      "text/html": [
       "<link href='http://fonts.googleapis.com/css?family=Alegreya+Sans:100,300,400,500,700,800,900,100italic,300italic,400italic,500italic,700italic,800italic,900italic' rel='stylesheet' type='text/css'>\n",
       "<link href='http://fonts.googleapis.com/css?family=Arvo:400,700,400italic' rel='stylesheet' type='text/css'>\n",
       "<link href='http://fonts.googleapis.com/css?family=PT+Mono' rel='stylesheet' type='text/css'>\n",
       "<link href='http://fonts.googleapis.com/css?family=Shadows+Into+Light' rel='stylesheet' type='text/css'>\n",
       "<link rel=\"stylesheet\" type=\"text/css\" href=\"http://fonts.googleapis.com/css?family=Tangerine\">\n",
       "<link href='http://fonts.googleapis.com/css?family=Philosopher:400,700,400italic,700italic' rel='stylesheet' type='text/css'>\n",
       "<link href='http://fonts.googleapis.com/css?family=Libre+Baskerville:400,400italic' rel='stylesheet' type='text/css'>\n",
       "<link href='http://fonts.googleapis.com/css?family=Lora:400,400italic' rel='stylesheet' type='text/css'>\n",
       "<link href='http://fonts.googleapis.com/css?family=Karla:400,400italic' rel='stylesheet' type='text/css'>\n",
       "\n",
       "<style>\n",
       "\n",
       "@font-face {\n",
       "    font-family: \"Computer Modern\";\n",
       "    src: url('http://mirrors.ctan.org/fonts/cm-unicode/fonts/otf/cmunss.otf');\n",
       "}\n",
       "\n",
       "#notebook_panel { /* main background */\n",
       "    background: #888;\n",
       "    color: #f6f6f6;\n",
       "}\n",
       "\n",
       "div.cell { /* set cell width to about 80 chars */\n",
       "    width: 800px;\n",
       "}\n",
       "\n",
       "div #notebook { /* centre the content */\n",
       "    background: #fff; /* white background for content */\n",
       "    width: 1000px;\n",
       "    margin: auto;\n",
       "    padding-left: 1em;\n",
       "}\n",
       "\n",
       "#notebook li { /* More space between bullet points */\n",
       "margin-top:0.8em;\n",
       "}\n",
       "\n",
       "/* draw border around running cells */\n",
       "div.cell.border-box-sizing.code_cell.running { \n",
       "    border: 3px solid #111;\n",
       "}\n",
       "\n",
       "/* Put a solid color box around each cell and its output, visually linking them together */\n",
       "div.cell.code_cell {\n",
       "    background: #ddd;  /* rgba(230,230,230,1.0);  */\n",
       "    border-radius: 10px; /* rounded borders */\n",
       "    width: 900px;\n",
       "    padding: 1em;\n",
       "    margin-top: 1em;\n",
       "}\n",
       "\n",
       "div.text_cell_render{\n",
       "    font-family: 'Arvo' sans-serif;\n",
       "    line-height: 130%;\n",
       "    font-size: 115%;\n",
       "    width:700px;\n",
       "    margin-left:auto;\n",
       "    margin-right:auto;\n",
       "}\n",
       "\n",
       "\n",
       "/* Formatting for header cells */\n",
       ".text_cell_render h1 {\n",
       "    font-family: 'Alegreya Sans', sans-serif;\n",
       "    /* font-family: 'Tangerine', serif; */\n",
       "    /* font-family: 'Libre Baskerville', serif; */\n",
       "    /* font-family: 'Karla', sans-serif;\n",
       "    /* font-family: 'Lora', serif; */\n",
       "    font-size: 50px;\n",
       "    text-align: center;\n",
       "    /* font-style: italic; */\n",
       "    font-weight: 400;\n",
       "    /* font-size: 40pt; */\n",
       "    /* text-shadow: 4px 4px 4px #aaa; */\n",
       "    line-height: 120%;\n",
       "    color: rgb(12,85,97);\n",
       "    margin-bottom: .5em;\n",
       "    margin-top: 0.1em;\n",
       "    display: block;\n",
       "}\t\n",
       ".text_cell_render h2 {\n",
       "    /* font-family: 'Arial', serif; */\n",
       "    /* font-family: 'Lora', serif; */\n",
       "    font-family: 'Alegreya Sans', sans-serif;\n",
       "    font-weight: 700;\n",
       "    font-size: 24pt;\n",
       "    line-height: 100%;\n",
       "    /* color: rgb(171,165,131); */\n",
       "    color: rgb(12,85,97);\n",
       "    margin-bottom: 0.1em;\n",
       "    margin-top: 0.1em;\n",
       "    display: block;\n",
       "}\t\n",
       "\n",
       ".text_cell_render h3 {\n",
       "    font-family: 'Arial', serif;\n",
       "    margin-top:12px;\n",
       "    margin-bottom: 3px;\n",
       "    font-style: italic;\n",
       "    color: rgb(95,92,72);\n",
       "}\n",
       "\n",
       ".text_cell_render h4 {\n",
       "    font-family: 'Arial', serif;\n",
       "}\n",
       "\n",
       ".text_cell_render h5 {\n",
       "    font-family: 'Alegreya Sans', sans-serif;\n",
       "    font-weight: 300;\n",
       "    font-size: 16pt;\n",
       "    color: grey;\n",
       "    font-style: italic;\n",
       "    margin-bottom: .1em;\n",
       "    margin-top: 0.1em;\n",
       "    display: block;\n",
       "}\n",
       "\n",
       ".text_cell_render h6 {\n",
       "    font-family: 'PT Mono', sans-serif;\n",
       "    font-weight: 300;\n",
       "    font-size: 10pt;\n",
       "    color: grey;\n",
       "    margin-bottom: 1px;\n",
       "    margin-top: 1px;\n",
       "}\n",
       "\n",
       ".CodeMirror{\n",
       "        font-family: \"PT Mono\";\n",
       "        font-size: 100%;\n",
       "}\n",
       "\n",
       "</style>\n"
      ],
      "text/plain": [
       "<IPython.core.display.HTML object>"
      ]
     },
     "execution_count": 1,
     "metadata": {},
     "output_type": "execute_result"
    }
   ],
   "source": [
    "from IPython.core.display import HTML\n",
    "css_file = 'pynoddy.css'\n",
    "HTML(open(css_file, \"r\").read())"
   ]
  },
  {
   "cell_type": "code",
   "execution_count": 2,
   "metadata": {
    "collapsed": false
   },
   "outputs": [],
   "source": [
    "%matplotlib inline"
   ]
  },
  {
   "cell_type": "code",
   "execution_count": 3,
   "metadata": {
    "collapsed": false
   },
   "outputs": [],
   "source": [
    "import sys, os\n",
    "import matplotlib.pyplot as plt\n",
    "import numpy as np\n",
    "# adjust some settings for matplotlib\n",
    "from matplotlib import rcParams\n",
    "# print rcParams\n",
    "rcParams['font.size'] = 15\n",
    "# determine path of repository to set paths corretly below\n",
    "os.chdir(r'../../../pynoddy/docs/notebooks/')\n",
    "repo_path = os.path.realpath('../..')\n",
    "import pynoddy.history\n",
    "import pynoddy.experiment\n",
    "rcParams.update({'font.size': 20})"
   ]
  },
  {
   "cell_type": "markdown",
   "metadata": {},
   "source": [
    "## Model set-up\n",
    "\n",
    "We use the two-fault model from previous examples and assign parameter ranges with a dictionary:"
   ]
  },
  {
   "cell_type": "code",
   "execution_count": 6,
   "metadata": {
    "collapsed": false
   },
   "outputs": [],
   "source": [
    "reload(pynoddy.history)\n",
    "import pynoddy.experiment.sensitivity_analysis\n",
    "reload(pynoddy.experiment.sensitivity_analysis)\n",
    "# Start again with the original model\n",
    "his_filename = \"two_faults_sensi.his\"\n",
    "sa = pynoddy.experiment.sensitivity_analysis.SensitivityAnalysis(history = his_filename)\n",
    "\n",
    "# Initialise list\n",
    "param_stats = []\n",
    "\n",
    "# Add one entry as dictionary with relevant properties:\n",
    "\n",
    "# for event 2:\n",
    "param_stats.append({'event' : 2, 'parameter' : 'Dip', 'min' : 55., 'max' : 65., \n",
    "                    'type' : 'normal', 'stdev' : 10., 'mean' : 60., 'initial' : 60.})\n",
    "param_stats.append({'event' : 2, 'parameter' : 'Dip Direction', 'min' : 85., 'max' : 95., \n",
    "                    'type' : 'normal', 'stdev' : 10., 'mean' : 90., 'initial' : 90.})\n",
    "param_stats.append({'event' : 2, 'parameter' : 'Slip', 'min' : 900., 'max' : 1100., \n",
    "                    'type' : 'normal', 'stdev' : 500, 'mean' : 1000., 'initial' : 1000.})\n",
    "# for event 3:\n",
    "param_stats.append({'event' : 3, 'parameter' : 'Dip', 'min' : 55., 'max' : 65., \n",
    "                    'type' : 'normal', 'stdev' : 10., 'mean' : 60., 'initial' : 60.})\n",
    "param_stats.append({'event' : 3, 'parameter' : 'Dip Direction', 'min' : 265., 'max' : 275., \n",
    "                    'type' : 'normal', 'stdev' : 10., 'mean' : 270., 'initial' : 270.})\n",
    "param_stats.append({'event' : 3, 'parameter' : 'Slip', 'min' : 900., 'max' : 1100., \n",
    "                    'type' : 'normal', 'stdev' : 500, 'mean' : 1000., 'initial' : 1000.})\n",
    "\n",
    "sa.set_parameter_statistics(param_stats)"
   ]
  },
  {
   "cell_type": "markdown",
   "metadata": {},
   "source": [
    "## Define sampling lines\n",
    "\n",
    "As before, we need to define points in the model (or lines) which we want to evaluate the sensitivity for:"
   ]
  },
  {
   "cell_type": "code",
   "execution_count": 7,
   "metadata": {
    "collapsed": false
   },
   "outputs": [],
   "source": [
    "# sa.add_sampling_line(5000, 3500, label = 'centre')\n",
    "sa.add_sampling_line(2500, 3500, label = 'left')\n",
    "# sa.add_sampling_line(7500, 3500, label = 'right')\n",
    "# sa.add_sampling_line(4000, 3500, label = 'compare')"
   ]
  },
  {
   "cell_type": "markdown",
   "metadata": {},
   "source": [
    "And, again, we \"freeze\" the base state for later comparison and distance caluclations:"
   ]
  },
  {
   "cell_type": "code",
   "execution_count": 16,
   "metadata": {
    "collapsed": false
   },
   "outputs": [],
   "source": [
    "sa.freeze()"
   ]
  },
  {
   "cell_type": "markdown",
   "metadata": {},
   "source": [
    "## Setting-up the parameter set\n",
    "\n",
    "For use with SALib, we have to define a parameter set as a text file (maybe there is a different way directly in Python - something to figure out for the future). The sensitivity object has a method to do that automatically:"
   ]
  },
  {
   "cell_type": "code",
   "execution_count": 17,
   "metadata": {
    "collapsed": false
   },
   "outputs": [],
   "source": [
    "param_file = \"params_file_tmp.txt\"\n",
    "sa.create_params_file(filename = param_file)"
   ]
  },
  {
   "cell_type": "markdown",
   "metadata": {},
   "source": [
    "We now invoke the methods of the SALib library to generate parameter data sets that are required for the type of sensitivity analysis that we want to perform:"
   ]
  },
  {
   "cell_type": "code",
   "execution_count": 18,
   "metadata": {
    "collapsed": false
   },
   "outputs": [],
   "source": [
    "# import SALib method\n",
    "from SALib.sample import saltelli"
   ]
  },
  {
   "cell_type": "code",
   "execution_count": 19,
   "metadata": {
    "collapsed": false
   },
   "outputs": [
    {
     "ename": "TypeError",
     "evalue": "'int' object has no attribute '__getitem__'",
     "output_type": "error",
     "traceback": [
      "\u001b[0;31m---------------------------------------------------------------------------\u001b[0m\n\u001b[0;31mTypeError\u001b[0m                                 Traceback (most recent call last)",
      "\u001b[0;32m<ipython-input-19-b4266f3f8fc6>\u001b[0m in \u001b[0;36m<module>\u001b[0;34m()\u001b[0m\n\u001b[0;32m----> 1\u001b[0;31m \u001b[0mparam_values\u001b[0m \u001b[0;34m=\u001b[0m \u001b[0msaltelli\u001b[0m\u001b[0;34m.\u001b[0m\u001b[0msample\u001b[0m\u001b[0;34m(\u001b[0m\u001b[0;36m10\u001b[0m\u001b[0;34m,\u001b[0m \u001b[0mparam_file\u001b[0m\u001b[0;34m,\u001b[0m \u001b[0mcalc_second_order\u001b[0m \u001b[0;34m=\u001b[0m \u001b[0mTrue\u001b[0m\u001b[0;34m)\u001b[0m\u001b[0;34m\u001b[0m\u001b[0m\n\u001b[0m",
      "\u001b[0;32m/usr/local/Cellar/python/2.7.9/Frameworks/Python.framework/Versions/2.7/lib/python2.7/site-packages/SALib-0.4-py2.7.egg/SALib/sample/saltelli.py\u001b[0m in \u001b[0;36msample\u001b[0;34m(problem, N, calc_second_order)\u001b[0m\n\u001b[1;32m     12\u001b[0m \u001b[0;32mdef\u001b[0m \u001b[0msample\u001b[0m\u001b[0;34m(\u001b[0m\u001b[0mproblem\u001b[0m\u001b[0;34m,\u001b[0m \u001b[0mN\u001b[0m\u001b[0;34m,\u001b[0m \u001b[0mcalc_second_order\u001b[0m\u001b[0;34m=\u001b[0m\u001b[0mTrue\u001b[0m\u001b[0;34m)\u001b[0m\u001b[0;34m:\u001b[0m\u001b[0;34m\u001b[0m\u001b[0m\n\u001b[1;32m     13\u001b[0m \u001b[0;34m\u001b[0m\u001b[0m\n\u001b[0;32m---> 14\u001b[0;31m     \u001b[0mD\u001b[0m \u001b[0;34m=\u001b[0m \u001b[0mproblem\u001b[0m\u001b[0;34m[\u001b[0m\u001b[0;34m'num_vars'\u001b[0m\u001b[0;34m]\u001b[0m\u001b[0;34m\u001b[0m\u001b[0m\n\u001b[0m\u001b[1;32m     15\u001b[0m \u001b[0;34m\u001b[0m\u001b[0m\n\u001b[1;32m     16\u001b[0m     \u001b[0;31m# How many values of the Sobol sequence to skip\u001b[0m\u001b[0;34m\u001b[0m\u001b[0;34m\u001b[0m\u001b[0m\n",
      "\u001b[0;31mTypeError\u001b[0m: 'int' object has no attribute '__getitem__'"
     ]
    }
   ],
   "source": [
    "param_values = saltelli.sample(10, param_file, calc_second_order = True)\n"
   ]
  },
  {
   "cell_type": "markdown",
   "metadata": {},
   "source": [
    "The object 'param_values' is a list of samples for the parameters that are defined in the model, in the order of appearance in param_file, e.g.:"
   ]
  },
  {
   "cell_type": "code",
   "execution_count": null,
   "metadata": {
    "collapsed": false
   },
   "outputs": [],
   "source": [
    "param_values[0]"
   ]
  },
  {
   "cell_type": "markdown",
   "metadata": {},
   "source": [
    "## Calculating distances for all parameter sets\n",
    "\n",
    "We now need to create a model realisation for each of these parameter sets and calculate the distance between the realisation and the base model at the position of the defined sampling lines. As we are not (always) interested in keeping the results of all realisations, those steps are combined and only the calculated distance is retained (per default):\n",
    "\n"
   ]
  },
  {
   "cell_type": "code",
   "execution_count": null,
   "metadata": {
    "collapsed": false
   },
   "outputs": [],
   "source": [
    "distances = sa.determine_distances(param_values = param_values)"
   ]
  },
  {
   "cell_type": "code",
   "execution_count": null,
   "metadata": {
    "collapsed": false
   },
   "outputs": [],
   "source": [
    "# plot(sa.get_model_lines(model_type = 'base'))\n",
    "plt.plot(sa.get_model_lines(model_type = 'current'))"
   ]
  },
  {
   "cell_type": "code",
   "execution_count": null,
   "metadata": {
    "collapsed": false
   },
   "outputs": [],
   "source": [
    "# Just to check if we actualy did get different models:\n",
    "plt.plot(distances, '.-k')\n",
    "plt.title(\"Model distances\")\n",
    "plt.xlabel(\"Sensitivity step\")\n",
    "plt.ylabel(\"Distance\")"
   ]
  },
  {
   "cell_type": "markdown",
   "metadata": {},
   "source": [
    "## Sensitivity analysis\n",
    "\n",
    "We can now analyse the sensitivity of the modelled stratigraphy along the defined vertical lines (\"drillholes\") with respect to the model parameters:"
   ]
  },
  {
   "cell_type": "code",
   "execution_count": null,
   "metadata": {
    "collapsed": false
   },
   "outputs": [],
   "source": [
    "# save results\n",
    "results_file = 'dist_tmp.txt'\n",
    "np.savetxt(results_file, distances, delimiter=' ')"
   ]
  },
  {
   "cell_type": "code",
   "execution_count": null,
   "metadata": {
    "collapsed": false
   },
   "outputs": [],
   "source": [
    "from SALib.analyze import sobol"
   ]
  },
  {
   "cell_type": "code",
   "execution_count": null,
   "metadata": {
    "collapsed": false
   },
   "outputs": [],
   "source": [
    "Si = sobol.analyze(param_file, results_file, \n",
    "                   column = 0, \n",
    "                   conf_level = 0.95,\n",
    "                   calc_second_order = True, \n",
    "                   print_to_console=False)"
   ]
  },
  {
   "cell_type": "code",
   "execution_count": null,
   "metadata": {
    "collapsed": false
   },
   "outputs": [],
   "source": [
    "# create composite matrix for sensitivities\n",
    "n_params = 6\n",
    "comp_matrix = np.ndarray(shape = (n_params,n_params))\n",
    "for j in range(n_params):\n",
    "    for i in range(n_params):\n",
    "        if i == j:\n",
    "            comp_matrix[i,j] = Si['S1'][i]\n",
    "        else:\n",
    "            comp_matrix[i,j] = Si['S2'][i,j]\n",
    "            comp_matrix[j,i] = Si['S2'][i,j]\n",
    "            \n",
    "# print comp_matrix\n",
    "\n",
    "# define labels for figure: phi = dip, d = dip direction, s = slip, subscript = fault event\n",
    "label_names = [\"\",\"$\\phi_1$\", \"$d_1$\", \"$s_1$\", \"$\\phi_2$\", \"$d_2$\", \"$s_2$\"]\n",
    "\n",
    "# Create figure\n",
    "fig = plt.figure()\n",
    "ax = fig.add_subplot(111)\n",
    "im = ax.imshow(comp_matrix, interpolation='nearest', cmap='RdBu_r', \n",
    "               vmax = np.max(np.abs(comp_matrix)),\n",
    "                vmin = -np.max(np.abs(comp_matrix)),\n",
    "\n",
    ")\n",
    "\n",
    "ax.yaxis.set_ticks_position(\"both\")\n",
    "ax.xaxis.set_ticks_position(\"top\")\n",
    "\n",
    "ax.set_xticklabels(label_names)\n",
    "ax.set_yticklabels(label_names)\n",
    "\n",
    "# ax.set_title(\"Sensitivities\")\n",
    "\n",
    "ax.set_xlabel(\"Parameter Sensitivities\")\n",
    "\n",
    "fig.colorbar(im)\n",
    "\n",
    "plt.tight_layout()\n",
    "# plt.savefig(\"two_fault_sensi.png\")"
   ]
  },
  {
   "cell_type": "markdown",
   "metadata": {},
   "source": [
    "## Reading parameter ranges from file\n",
    "\n",
    "So, now that we have all the required ingredients for the sensitivity analysis, we can make life a bit easier with more automation. First, instead of defining parameters in a dictionary as above, we can actually read them in from a csv file (e.g. saved from Excel as Windows-csv file).\n",
    "\n",
    "In order to be read in correctly, the header should contain the labels:\n",
    "\n",
    "- 'event' : event id\n",
    "- 'parameter' : Noddy parameter ('Dip', 'Dip Direction', etc.)\n",
    "- 'min' : minimum value\n",
    "- 'max' : maximum value\n",
    "- 'initial' : initial value\n",
    "\n",
    "In addition, it is possible to define PDF type and parameters. For now, the following settings are supported:\n",
    "\n",
    "- 'type' = 'normal' \n",
    "- 'stdev' : standard deviation\n",
    "- 'mean' : mean value (default: 'initial' value)\n",
    "\n",
    "We can read in the parameters simply with:"
   ]
  },
  {
   "cell_type": "code",
   "execution_count": null,
   "metadata": {
    "collapsed": false
   },
   "outputs": [],
   "source": [
    "reload(pynoddy.history)\n",
    "reload(pynoddy.experiment)\n",
    "# Start again with the original model\n",
    "his_filename = \"two_faults_sensi.his\"\n",
    "sa = pynoddy.experiment.SensitivityAnalysis(history = his_filename)\n",
    "sa.load_parameter_file(\"params_fault_model.csv\")"
   ]
  },
  {
   "cell_type": "markdown",
   "metadata": {},
   "source": [
    "The only further aspect we need to define are the sampling lines:"
   ]
  },
  {
   "cell_type": "code",
   "execution_count": null,
   "metadata": {
    "collapsed": false
   },
   "outputs": [],
   "source": [
    "# sa.add_sampling_line(5000, 3500, label = 'centre')\n",
    "sa.add_sampling_line(2500, 3500, label = 'left')\n",
    "# sa.add_sampling_line(7500, 3500, label = 'right')\n",
    "# sa.add_sampling_line(4000, 3500, label = 'compare')"
   ]
  },
  {
   "cell_type": "markdown",
   "metadata": {},
   "source": [
    "And then we know everything to perform the sensitivity analysis. The relevant steps are combined in one method:"
   ]
  },
  {
   "cell_type": "code",
   "execution_count": null,
   "metadata": {
    "collapsed": false
   },
   "outputs": [],
   "source": [
    "sa.perform_analsis(10)"
   ]
  },
  {
   "cell_type": "code",
   "execution_count": null,
   "metadata": {
    "collapsed": false
   },
   "outputs": [],
   "source": [
    "sa.plot_distances()"
   ]
  },
  {
   "cell_type": "code",
   "execution_count": null,
   "metadata": {
    "collapsed": false
   },
   "outputs": [],
   "source": [
    "sa.plot_sensitivity_matrix()"
   ]
  },
  {
   "cell_type": "code",
   "execution_count": null,
   "metadata": {
    "collapsed": false
   },
   "outputs": [],
   "source": [
    "# for event 2:\n",
    "param_stats.append({'event' : 2, 'parameter' : 'Dip', 'min' : 55., 'max' : 65., \n",
    "                    'type' : 'normal', 'stdev' : 10., 'mean' : 60., 'initial' : 60.})\n",
    "param_stats.append({'event' : 2, 'parameter' : 'Dip Direction', 'min' : 85., 'max' : 95., \n",
    "                    'type' : 'normal', 'stdev' : 10., 'mean' : 90., 'initial' : 90.})\n",
    "param_stats.append({'event' : 2, 'parameter' : 'Slip', 'min' : 900., 'max' : 1100., \n",
    "                    'type' : 'normal', 'stdev' : 500, 'mean' : 1000., 'initial' : 1000.})\n",
    "# for event 3:\n",
    "param_stats.append({'event' : 3, 'parameter' : 'Dip', 'min' : 55., 'max' : 65., \n",
    "                    'type' : 'normal', 'stdev' : 10., 'mean' : 60., 'initial' : 60.})\n",
    "param_stats.append({'event' : 3, 'parameter' : 'Dip Direction', 'min' : 265., 'max' : 275., \n",
    "                    'type' : 'normal', 'stdev' : 10., 'mean' : 270., 'initial' : 270.})\n",
    "param_stats.append({'event' : 3, 'parameter' : 'Slip', 'min' : 900., 'max' : 1100., \n",
    "                    'type' : 'normal', 'stdev' : 500, 'mean' : 1000., 'initial' : 1000.})\n",
    "\n"
   ]
  },
  {
   "cell_type": "code",
   "execution_count": null,
   "metadata": {
    "collapsed": false
   },
   "outputs": [],
   "source": [
    "sa.param_stats"
   ]
  },
  {
   "cell_type": "code",
   "execution_count": null,
   "metadata": {
    "collapsed": false
   },
   "outputs": [],
   "source": [
    "sa.plot_section(model_type = \"base\")"
   ]
  },
  {
   "cell_type": "code",
   "execution_count": null,
   "metadata": {
    "collapsed": false
   },
   "outputs": [],
   "source": [
    "plt.plot(sa.get_drillhole_data(4000, 3500))\n",
    "plt.plot(sa.get_model_lines())"
   ]
  },
  {
   "cell_type": "code",
   "execution_count": null,
   "metadata": {
    "collapsed": false
   },
   "outputs": [],
   "source": [
    "reload(pynoddy.history)\n",
    "reload(pynoddy.experiment)\n",
    "sa2 = pynoddy.experiment.Experiment(history = \"two_faults_sensi.his\")\n"
   ]
  },
  {
   "cell_type": "code",
   "execution_count": null,
   "metadata": {
    "collapsed": false
   },
   "outputs": [],
   "source": [
    "sa2.write_history(\"test5.his\")"
   ]
  },
  {
   "cell_type": "code",
   "execution_count": null,
   "metadata": {
    "collapsed": false
   },
   "outputs": [],
   "source": [
    "nm = pynoddy.history.NoddyHistory(history = \"two_faults_sensi.his\")\n",
    "# nm.determine_events()\n",
    "nm.write_history(\"test6.his\")"
   ]
  },
  {
   "cell_type": "code",
   "execution_count": null,
   "metadata": {
    "collapsed": false
   },
   "outputs": [],
   "source": [
    "param_values[0]"
   ]
  },
  {
   "cell_type": "code",
   "execution_count": 22,
   "metadata": {
    "collapsed": false
   },
   "outputs": [
    {
     "ename": "TypeError",
     "evalue": "'module' object is not callable",
     "output_type": "error",
     "traceback": [
      "\u001b[0;31m---------------------------------------------------------------------------\u001b[0m\n\u001b[0;31mTypeError\u001b[0m                                 Traceback (most recent call last)",
      "\u001b[0;32m<ipython-input-22-3455686c98cb>\u001b[0m in \u001b[0;36m<module>\u001b[0;34m()\u001b[0m\n\u001b[1;32m      3\u001b[0m \u001b[0;31m# Start again with the original model\u001b[0m\u001b[0;34m\u001b[0m\u001b[0;34m\u001b[0m\u001b[0m\n\u001b[1;32m      4\u001b[0m \u001b[0mhis_filename\u001b[0m \u001b[0;34m=\u001b[0m \u001b[0;34m\"two_faults_sensi.his\"\u001b[0m\u001b[0;34m\u001b[0m\u001b[0m\n\u001b[0;32m----> 5\u001b[0;31m \u001b[0msa\u001b[0m \u001b[0;34m=\u001b[0m \u001b[0mpynoddy\u001b[0m\u001b[0;34m.\u001b[0m\u001b[0mexperiment\u001b[0m\u001b[0;34m.\u001b[0m\u001b[0mSensitivityAnalysis\u001b[0m\u001b[0;34m(\u001b[0m\u001b[0mhistory\u001b[0m \u001b[0;34m=\u001b[0m \u001b[0mhis_filename\u001b[0m\u001b[0;34m)\u001b[0m\u001b[0;34m\u001b[0m\u001b[0m\n\u001b[0m\u001b[1;32m      6\u001b[0m \u001b[0;34m\u001b[0m\u001b[0m\n\u001b[1;32m      7\u001b[0m \u001b[0msa\u001b[0m\u001b[0;34m.\u001b[0m\u001b[0mfreeze\u001b[0m\u001b[0;34m(\u001b[0m\u001b[0;34m)\u001b[0m\u001b[0;34m\u001b[0m\u001b[0m\n",
      "\u001b[0;31mTypeError\u001b[0m: 'module' object is not callable"
     ]
    }
   ],
   "source": [
    "reload(pynoddy.history)\n",
    "reload(pynoddy.experiment)\n",
    "# Start again with the original model\n",
    "his_filename = \"two_faults_sensi.his\"\n",
    "sa = pynoddy.experiment.SensitivityAnalysis(history = his_filename)\n",
    "\n",
    "sa.freeze()\n",
    "# sa.change_event_params({3 : {'Slip' : 500.}})\n",
    "sa.change_event_params({3 : {'Dip' : 15.}})"
   ]
  },
  {
   "cell_type": "code",
   "execution_count": 23,
   "metadata": {
    "collapsed": false
   },
   "outputs": [
    {
     "data": {
      "image/png": "[encoded data removed]",
      "text/plain": [
       "<matplotlib.figure.Figure at 0x114420890>"
      ]
     },
     "metadata": {},
     "output_type": "display_data"
    }
   ],
   "source": [
    "fig = plt.figure(figsize = (12,6))\n",
    "ax1 = fig.add_subplot(121)\n",
    "ax2 = fig.add_subplot(122)\n",
    "sa.plot_section(ax = ax1, colorbar = False, title = \"\")\n",
    "sa.plot_section(ax = ax2, model_type = \"base\", colorbar = False, title = \"\")"
   ]
  },
  {
   "cell_type": "code",
   "execution_count": 21,
   "metadata": {
    "collapsed": false
   },
   "outputs": [
    {
     "data": {
      "image/png": "[encoded data removed]",
      "text/plain": [
       "<matplotlib.figure.Figure at 0x1144b51d0>"
      ]
     },
     "metadata": {},
     "output_type": "display_data"
    }
   ],
   "source": [
    "sa.change_event_params({3 : {'Slip' : 100.}})\n",
    "sa.plot_section()"
   ]
  },
  {
   "cell_type": "code",
   "execution_count": 20,
   "metadata": {
    "collapsed": false
   },
   "outputs": [
    {
     "data": {
      "text/plain": [
       "[<matplotlib.lines.Line2D at 0x113c09a90>]"
      ]
     },
     "execution_count": 20,
     "metadata": {},
     "output_type": "execute_result"
    },
    {
     "data": {
      "image/png": "[encoded data removed]",
      "text/plain": [
       "<matplotlib.figure.Figure at 0x113b28350>"
      ]
     },
     "metadata": {},
     "output_type": "display_data"
    }
   ],
   "source": [
    "# sa.add_sampling_line(5000, 3500, label = 'centre')\n",
    "# sa.add_sampling_line(2500, 3500, label = 'left')\n",
    "sa.add_sampling_line(7500, 3500, label = 'right')\n",
    "# sa.add_sampling_line(4000, 3500, label = 'compare')\n",
    "plt.plot(sa.get_model_lines(), 'k')\n",
    "plt.plot(sa.get_model_lines(model_type = \"base\"), 'b')"
   ]
  },
  {
   "cell_type": "code",
   "execution_count": null,
   "metadata": {
    "collapsed": false
   },
   "outputs": [],
   "source": [
    "pwd"
   ]
  },
  {
   "cell_type": "code",
   "execution_count": null,
   "metadata": {
    "collapsed": false
   },
   "outputs": [],
   "source": []
  }
 ],
 "metadata": {
  "kernelspec": {
   "display_name": "Python 2",
   "language": "python",
   "name": "python2"
  },
  "language_info": {
   "codemirror_mode": {
    "name": "ipython",
    "version": 2
   },
   "file_extension": ".py",
   "mimetype": "text/x-python",
   "name": "python",
   "nbconvert_exporter": "python",
   "pygments_lexer": "ipython2",
   "version": "2.7.10"
  }
 },
 "nbformat": 4,
 "nbformat_minor": 0
}
