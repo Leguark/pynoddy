{
 "cells": [
  {
   "cell_type": "markdown",
   "metadata": {},
   "source": [
    "Read and Visualise Geophysical Potential-Fields\n",
    "==========\n",
    "\n",
    "Geophysical potential fields (gravity and magnetics) can be calculated directly from the generated kinematic model. A wide range of options also exists to consider effects of geological events on the relevant rock properties. We will here use pynoddy to simply and quickly test the effect of changing geological structures on the calculated geophysical response."
   ]
  },
  {
   "cell_type": "code",
   "execution_count": 1,
   "metadata": {
    "collapsed": false
   },
   "outputs": [],
   "source": [
    "%matplotlib inline"
   ]
  },
  {
   "cell_type": "code",
   "execution_count": 2,
   "metadata": {
    "collapsed": false
   },
   "outputs": [],
   "source": [
    "import sys, os\n",
    "import matplotlib.pyplot as plt\n",
    "# adjust some settings for matplotlib\n",
    "from matplotlib import rcParams\n",
    "# print rcParams\n",
    "rcParams['font.size'] = 15\n",
    "# determine path of repository to set paths corretly below\n",
    "repo_path = os.path.realpath('../..')\n",
    "import pynoddy"
   ]
  },
  {
   "cell_type": "code",
   "execution_count": 3,
   "metadata": {
    "collapsed": false
   },
   "outputs": [],
   "source": [
    "import matplotlib.pyplot as plt\n",
    "import numpy as np"
   ]
  },
  {
   "cell_type": "code",
   "execution_count": 4,
   "metadata": {
    "collapsed": false
   },
   "outputs": [
    {
     "data": {
      "text/html": [
       "<link href='http://fonts.googleapis.com/css?family=Alegreya+Sans:100,300,400,500,700,800,900,100italic,300italic,400italic,500italic,700italic,800italic,900italic' rel='stylesheet' type='text/css'>\n",
       "<link href='http://fonts.googleapis.com/css?family=Arvo:400,700,400italic' rel='stylesheet' type='text/css'>\n",
       "<link href='http://fonts.googleapis.com/css?family=PT+Mono' rel='stylesheet' type='text/css'>\n",
       "<link href='http://fonts.googleapis.com/css?family=Shadows+Into+Light' rel='stylesheet' type='text/css'>\n",
       "<link rel=\"stylesheet\" type=\"text/css\" href=\"http://fonts.googleapis.com/css?family=Tangerine\">\n",
       "<link href='http://fonts.googleapis.com/css?family=Philosopher:400,700,400italic,700italic' rel='stylesheet' type='text/css'>\n",
       "<link href='http://fonts.googleapis.com/css?family=Libre+Baskerville:400,400italic' rel='stylesheet' type='text/css'>\n",
       "<link href='http://fonts.googleapis.com/css?family=Lora:400,400italic' rel='stylesheet' type='text/css'>\n",
       "<link href='http://fonts.googleapis.com/css?family=Karla:400,400italic' rel='stylesheet' type='text/css'>\n",
       "\n",
       "<style>\n",
       "\n",
       "@font-face {\n",
       "    font-family: \"Computer Modern\";\n",
       "    src: url('http://mirrors.ctan.org/fonts/cm-unicode/fonts/otf/cmunss.otf');\n",
       "}\n",
       "\n",
       "#notebook_panel { /* main background */\n",
       "    background: #888;\n",
       "    color: #f6f6f6;\n",
       "}\n",
       "\n",
       "div.cell { /* set cell width to about 80 chars */\n",
       "    width: 800px;\n",
       "}\n",
       "\n",
       "div #notebook { /* centre the content */\n",
       "    background: #fff; /* white background for content */\n",
       "    width: 1000px;\n",
       "    margin: auto;\n",
       "    padding-left: 1em;\n",
       "}\n",
       "\n",
       "#notebook li { /* More space between bullet points */\n",
       "margin-top:0.8em;\n",
       "}\n",
       "\n",
       "/* draw border around running cells */\n",
       "div.cell.border-box-sizing.code_cell.running { \n",
       "    border: 3px solid #111;\n",
       "}\n",
       "\n",
       "/* Put a solid color box around each cell and its output, visually linking them together */\n",
       "div.cell.code_cell {\n",
       "    background: #ddd;  /* rgba(230,230,230,1.0);  */\n",
       "    border-radius: 10px; /* rounded borders */\n",
       "    width: 900px;\n",
       "    padding: 1em;\n",
       "    margin-top: 1em;\n",
       "}\n",
       "\n",
       "div.text_cell_render{\n",
       "    font-family: 'Arvo' sans-serif;\n",
       "    line-height: 130%;\n",
       "    font-size: 115%;\n",
       "    width:700px;\n",
       "    margin-left:auto;\n",
       "    margin-right:auto;\n",
       "}\n",
       "\n",
       "\n",
       "/* Formatting for header cells */\n",
       ".text_cell_render h1 {\n",
       "    font-family: 'Alegreya Sans', sans-serif;\n",
       "    /* font-family: 'Tangerine', serif; */\n",
       "    /* font-family: 'Libre Baskerville', serif; */\n",
       "    /* font-family: 'Karla', sans-serif;\n",
       "    /* font-family: 'Lora', serif; */\n",
       "    font-size: 50px;\n",
       "    text-align: center;\n",
       "    /* font-style: italic; */\n",
       "    font-weight: 400;\n",
       "    /* font-size: 40pt; */\n",
       "    /* text-shadow: 4px 4px 4px #aaa; */\n",
       "    line-height: 120%;\n",
       "    color: rgb(12,85,97);\n",
       "    margin-bottom: .5em;\n",
       "    margin-top: 0.1em;\n",
       "    display: block;\n",
       "}\t\n",
       ".text_cell_render h2 {\n",
       "    /* font-family: 'Arial', serif; */\n",
       "    /* font-family: 'Lora', serif; */\n",
       "    font-family: 'Alegreya Sans', sans-serif;\n",
       "    font-weight: 700;\n",
       "    font-size: 24pt;\n",
       "    line-height: 100%;\n",
       "    /* color: rgb(171,165,131); */\n",
       "    color: rgb(12,85,97);\n",
       "    margin-bottom: 0.1em;\n",
       "    margin-top: 0.1em;\n",
       "    display: block;\n",
       "}\t\n",
       "\n",
       ".text_cell_render h3 {\n",
       "    font-family: 'Arial', serif;\n",
       "    margin-top:12px;\n",
       "    margin-bottom: 3px;\n",
       "    font-style: italic;\n",
       "    color: rgb(95,92,72);\n",
       "}\n",
       "\n",
       ".text_cell_render h4 {\n",
       "    font-family: 'Arial', serif;\n",
       "}\n",
       "\n",
       ".text_cell_render h5 {\n",
       "    font-family: 'Alegreya Sans', sans-serif;\n",
       "    font-weight: 300;\n",
       "    font-size: 16pt;\n",
       "    color: grey;\n",
       "    font-style: italic;\n",
       "    margin-bottom: .1em;\n",
       "    margin-top: 0.1em;\n",
       "    display: block;\n",
       "}\n",
       "\n",
       ".text_cell_render h6 {\n",
       "    font-family: 'PT Mono', sans-serif;\n",
       "    font-weight: 300;\n",
       "    font-size: 10pt;\n",
       "    color: grey;\n",
       "    margin-bottom: 1px;\n",
       "    margin-top: 1px;\n",
       "}\n",
       "\n",
       ".CodeMirror{\n",
       "        font-family: \"PT Mono\";\n",
       "        font-size: 100%;\n",
       "}\n",
       "\n",
       "</style>\n"
      ],
      "text/plain": [
       "<IPython.core.display.HTML object>"
      ]
     },
     "execution_count": 4,
     "metadata": {},
     "output_type": "execute_result"
    }
   ],
   "source": [
    "from IPython.core.display import HTML\n",
    "css_file = 'pynoddy.css'\n",
    "HTML(open(css_file, \"r\").read())"
   ]
  },
  {
   "cell_type": "markdown",
   "metadata": {},
   "source": [
    "Read history file from Virtual Explorer\n",
    "----------\n",
    "\n",
    "Many Noddy models are available on the site of the Virtual Explorer in the Structural Geophysics Atlas. We will download and use one of these models here as the base model.\n",
    "\n",
    "We start with the history file of a \"Fold and Thrust Belt\" setting stored on:\n",
    "\n",
    "`http://virtualexplorer.com.au/special/noddyatlas/ch3/ch3_5/his/nfold_thrust.his`\n",
    "\n",
    "The file can directly be downloaded and opened with pynoddy:"
   ]
  },
  {
   "cell_type": "code",
   "execution_count": 5,
   "metadata": {
    "collapsed": false
   },
   "outputs": [],
   "source": [
    "import pynoddy.history\n",
    "reload(pynoddy.history)\n",
    "\n",
    "# read model directly from Atlas of Virtual Geophysics\n",
    "#his = pynoddy.history.NoddyHistory(url = http://virtualexplorer.com.au/special/noddyatlas/ch3/ch3_5/his/nfold_thrust.his\")\n",
    "# his = pynoddy.history.NoddyHistory(url = \"http://virtualexplorer.com.au/special/noddyatlas/ch3/ch3_6/his/ndome_basin.his\")\n",
    "\n",
    "his = pynoddy.history.NoddyHistory(url = \"http://tectonique.net/asg/ch3/ch3_5/his/fold_thrust.his\")\n",
    "\n",
    "his.determine_model_stratigraphy()"
   ]
  },
  {
   "cell_type": "code",
   "execution_count": 6,
   "metadata": {
    "collapsed": false
   },
   "outputs": [],
   "source": [
    "his.change_cube_size(50)"
   ]
  },
  {
   "cell_type": "code",
   "execution_count": 7,
   "metadata": {
    "collapsed": false
   },
   "outputs": [],
   "source": [
    "# Save to (local) file to compute and visualise model\n",
    "history_name = \"fold_thrust.his\"\n",
    "his.write_history(history_name)\n",
    "# his = pynoddy.history.NoddyHistory(history_name)"
   ]
  },
  {
   "cell_type": "code",
   "execution_count": 8,
   "metadata": {
    "collapsed": false
   },
   "outputs": [
    {
     "data": {
      "text/plain": [
       "'Running noddy exectuable at /Users/flow/git/pynoddy/pynoddy/noddy/noddy(.exe)\\n'"
      ]
     },
     "execution_count": 8,
     "metadata": {},
     "output_type": "execute_result"
    }
   ],
   "source": [
    "output = \"fold_thrust_out\"\n",
    "pynoddy.compute_model(history_name, output)"
   ]
  },
  {
   "cell_type": "code",
   "execution_count": 9,
   "metadata": {
    "collapsed": false
   },
   "outputs": [],
   "source": [
    "import pynoddy.output\n",
    "reload(pynoddy.output)\n",
    "# load and visualise model\n",
    "h_out = pynoddy.output.NoddyOutput(output)"
   ]
  },
  {
   "cell_type": "code",
   "execution_count": 10,
   "metadata": {
    "collapsed": false
   },
   "outputs": [
    {
     "data": {
      "image/png": "[encoded data removed]",
      "text/plain": [
       "<matplotlib.figure.Figure at 0x112da7610>"
      ]
     },
     "metadata": {},
     "output_type": "display_data"
    }
   ],
   "source": [
    "# his.determine_model_stratigraphy()\n",
    "h_out.plot_section('x', \n",
    "                   layer_labels = his.model_stratigraphy, \n",
    "                   colorbar_orientation = 'horizontal', \n",
    "                   colorbar=False,\n",
    "                   title = '',\n",
    "#                   savefig=True, fig_filename = 'fold_thrust_NS_section.eps',\n",
    "                   cmap = 'YlOrRd')\n"
   ]
  },
  {
   "cell_type": "code",
   "execution_count": 11,
   "metadata": {
    "collapsed": false
   },
   "outputs": [
    {
     "data": {
      "image/png": "[encoded data removed]",
      "text/plain": [
       "<matplotlib.figure.Figure at 0x116a20250>"
      ]
     },
     "metadata": {},
     "output_type": "display_data"
    }
   ],
   "source": [
    "h_out.plot_section('y', layer_labels = his.model_stratigraphy, \n",
    "                   colorbar_orientation = 'horizontal', title = '', cmap = 'YlOrRd', \n",
    "#                   savefig=True, fig_filename = 'fold_thrust_EW_section.eps',\n",
    "                   ve=1.5)\n",
    "                   "
   ]
  },
  {
   "cell_type": "code",
   "execution_count": 12,
   "metadata": {
    "collapsed": false
   },
   "outputs": [],
   "source": [
    "h_out.export_to_vtk(vtk_filename = \"fold_thrust\")"
   ]
  },
  {
   "cell_type": "markdown",
   "metadata": {},
   "source": [
    "Visualise calculated geophysical fields\n",
    "---------------------\n",
    "\n",
    "The first step is to recompute the model with the generation of the geophysical responses"
   ]
  },
  {
   "cell_type": "code",
   "execution_count": 13,
   "metadata": {
    "collapsed": false
   },
   "outputs": [
    {
     "data": {
      "text/plain": [
       "'Running noddy exectuable at /Users/flow/git/pynoddy/pynoddy/noddy/noddy(.exe)\\n'"
      ]
     },
     "execution_count": 13,
     "metadata": {},
     "output_type": "execute_result"
    }
   ],
   "source": [
    "pynoddy.compute_model(history_name, output, sim_type = 'GEOPHYSICS')"
   ]
  },
  {
   "cell_type": "markdown",
   "metadata": {},
   "source": [
    "We now get two files for the caluclated fields: '.grv' for gravity, and '.mag' for the magnetic field. We can extract the information of these files for visualisation and further processing in python:"
   ]
  },
  {
   "cell_type": "code",
   "execution_count": 14,
   "metadata": {
    "collapsed": false
   },
   "outputs": [],
   "source": [
    "reload(pynoddy.output)\n",
    "geophys = pynoddy.output.NoddyGeophysics(output)"
   ]
  },
  {
   "cell_type": "code",
   "execution_count": 15,
   "metadata": {
    "collapsed": false
   },
   "outputs": [
    {
     "data": {
      "image/png": "[encoded data removed]",
      "text/plain": [
       "<matplotlib.figure.Figure at 0x116c7f750>"
      ]
     },
     "metadata": {},
     "output_type": "display_data"
    }
   ],
   "source": [
    "fig = plt.figure(figsize = (8,8))\n",
    "ax = fig.add_subplot(111)\n",
    "# imshow(geophys.grv_data, cmap = 'jet')\n",
    "# define contour levels\n",
    "levels = np.arange(322,344,1)\n",
    "cf = ax.contourf(geophys.grv_data, levels, cmap = 'gray', vmin = 324, vmax = 342)\n",
    "cbar = plt.colorbar(cf, orientation = 'horizontal')\n",
    "# print levels"
   ]
  },
  {
   "cell_type": "markdown",
   "metadata": {},
   "source": [
    "Change history and compare gravity\n",
    "-------------\n",
    "\n",
    "As a next step, we will now change aspects of the geological history (paramtereised in as parameters of the kinematic events) and calculate the effect on the gravity. Then, we will compare the changed gravity field to the original field."
   ]
  },
  {
   "cell_type": "markdown",
   "metadata": {},
   "source": [
    "Let's have a look at the properties of the defined faults in the original model:"
   ]
  },
  {
   "cell_type": "code",
   "execution_count": 16,
   "metadata": {
    "collapsed": false
   },
   "outputs": [
    {
     "name": "stdout",
     "output_type": "stream",
     "text": [
      "\n",
      "Event 2\n",
      "Event type:\tFAULT\n",
      "Fault slip:\t-5000.0\n",
      "Fault dip:\t0.0\n",
      "Dip direction:\t90.0\n",
      "\n",
      "Event 3\n",
      "Event type:\tFAULT\n",
      "Fault slip:\t-3000.0\n",
      "Fault dip:\t0.0\n",
      "Dip direction:\t90.0\n",
      "\n",
      "Event 4\n",
      "Event type:\tFAULT\n",
      "Fault slip:\t-3000.0\n",
      "Fault dip:\t0.0\n",
      "Dip direction:\t90.0\n",
      "\n",
      "Event 5\n",
      "Event type:\tFAULT\n",
      "Fault slip:\t12000.0\n",
      "Fault dip:\t80.0\n",
      "Dip direction:\t170.0\n"
     ]
    }
   ],
   "source": [
    "for i in range(4):\n",
    "    print(\"\\nEvent %d\" % (i+2))\n",
    "    print \"Event type:\\t\" + his.events[i+2].event_type\n",
    "    print \"Fault slip:\\t%.1f\" % his.events[i+2].properties['Slip']\n",
    "    print \"Fault dip:\\t%.1f\" % his.events[i+2].properties['Dip']\n",
    "    print \"Dip direction:\\t%.1f\" % his.events[i+2].properties['Dip Direction']"
   ]
  },
  {
   "cell_type": "code",
   "execution_count": 17,
   "metadata": {
    "collapsed": false
   },
   "outputs": [
    {
     "name": "stdout",
     "output_type": "stream",
     "text": [
      "{'Dip': 130.0, 'Cylindricity': 0.0, 'Wavelength': 12000.0, 'Amplitude': 1000.0, 'Pitch': 0.0, 'Y': 0.0, 'X': 0.0, 'Single Fold': 'FALSE', 'Z': 0.0, 'Type': 'Fourier', 'Dip Direction': 110.0}\n"
     ]
    }
   ],
   "source": [
    "reload(pynoddy.history)\n",
    "reload(pynoddy.events)\n",
    "his2 = pynoddy.history.NoddyHistory(\"fold_thrust.his\")\n",
    "\n",
    "print his2.events[6].properties"
   ]
  },
  {
   "cell_type": "markdown",
   "metadata": {},
   "source": [
    "As a simple test, we are changing the fault slip for all the faults and simply add 1000 m to all defined slips. In order to not mess up the original model, we are creating a copy of the history object first:"
   ]
  },
  {
   "cell_type": "code",
   "execution_count": 18,
   "metadata": {
    "collapsed": false
   },
   "outputs": [],
   "source": [
    "import copy\n",
    "his = pynoddy.history.NoddyHistory(history_name)\n",
    "his.all_events_end += 1\n",
    "his_changed = copy.deepcopy(his)\n",
    "\n",
    "# change parameters of kinematic events\n",
    "slip_change = 2000.\n",
    "wavelength_change = 2000.\n",
    "# his_changed.events[3].properties['Slip'] += slip_change\n",
    "# his_changed.events[5].properties['Slip'] += slip_change\n",
    "# change fold wavelength\n",
    "his_changed.events[6].properties['Wavelength'] += wavelength_change\n",
    "his_changed.events[6].properties['X'] += wavelength_change/2."
   ]
  },
  {
   "cell_type": "markdown",
   "metadata": {},
   "source": [
    "We now write the adjusted history back to a new history file and then calculate the updated gravity field:"
   ]
  },
  {
   "cell_type": "code",
   "execution_count": null,
   "metadata": {
    "collapsed": false
   },
   "outputs": [],
   "source": [
    "his_changed.write_history('fold_thrust_changed.his')"
   ]
  },
  {
   "cell_type": "code",
   "execution_count": null,
   "metadata": {
    "collapsed": false
   },
   "outputs": [],
   "source": [
    "reload(pynoddy)"
   ]
  },
  {
   "cell_type": "code",
   "execution_count": null,
   "metadata": {
    "collapsed": false
   },
   "outputs": [],
   "source": [
    "# %%timeit\n",
    "# recompute block model\n",
    "pynoddy.compute_model('fold_thrust_changed.his', 'fold_thrust_changed_out')"
   ]
  },
  {
   "cell_type": "code",
   "execution_count": null,
   "metadata": {
    "collapsed": false
   },
   "outputs": [],
   "source": [
    "# %%timeit\n",
    "# recompute geophysical response\n",
    "pynoddy.compute_model('fold_thrust_changed.his', 'fold_thrust_changed_out', \n",
    "                      sim_type = 'GEOPHYSICS')"
   ]
  },
  {
   "cell_type": "code",
   "execution_count": null,
   "metadata": {
    "collapsed": false
   },
   "outputs": [],
   "source": [
    "# load changed block model\n",
    "geo_changed = pynoddy.output.NoddyOutput('fold_thrust_changed_out')\n",
    "# load output and visualise geophysical field\n",
    "geophys_changed = pynoddy.output.NoddyGeophysics('fold_thrust_changed_out')"
   ]
  },
  {
   "cell_type": "code",
   "execution_count": null,
   "metadata": {
    "collapsed": false
   },
   "outputs": [],
   "source": [
    "fig = plt.figure(figsize = (8,8))\n",
    "ax = fig.add_subplot(111)\n",
    "# imshow(geophys_changed.grv_data, cmap = 'jet')\n",
    "cf = ax.contourf(geophys_changed.grv_data, levels, cmap = 'gray', vmin = 324, vmax = 342)\n",
    "cbar = plt.colorbar(cf, orientation = 'horizontal')"
   ]
  },
  {
   "cell_type": "code",
   "execution_count": null,
   "metadata": {
    "collapsed": false
   },
   "outputs": [],
   "source": [
    "fig = plt.figure(figsize = (8,8))\n",
    "ax = fig.add_subplot(111)\n",
    "# imshow(geophys.grv_data - geophys_changed.grv_data, cmap = 'jet')\n",
    "maxval = np.ceil(np.max(np.abs(geophys.grv_data - geophys_changed.grv_data)))\n",
    "# comp_levels = np.arange(-maxval,1.01 * maxval, 0.05 * maxval)\n",
    "cf = ax.contourf(geophys.grv_data - geophys_changed.grv_data, 20, cmap = 'spectral') #, comp_levels, cmap = 'RdBu_r')\n",
    "cbar = plt.colorbar(cf, orientation = 'horizontal')"
   ]
  },
  {
   "cell_type": "code",
   "execution_count": null,
   "metadata": {
    "collapsed": false
   },
   "outputs": [],
   "source": [
    "# compare sections through model\n",
    "geo_changed.plot_section('y', colorbar = False)\n",
    "h_out.plot_section('y', colorbar = False)"
   ]
  },
  {
   "cell_type": "code",
   "execution_count": null,
   "metadata": {
    "collapsed": false
   },
   "outputs": [],
   "source": [
    "his.events"
   ]
  },
  {
   "cell_type": "code",
   "execution_count": null,
   "metadata": {
    "collapsed": false
   },
   "outputs": [],
   "source": [
    "for i in range(4):\n",
    "    print(\"Event %d\" % (i+2))\n",
    "    print his.events[i+2].properties['Slip']\n",
    "    print his.events[i+2].properties['Dip']\n",
    "    print his.events[i+2].properties['Dip Direction']\n",
    "\n",
    "    "
   ]
  },
  {
   "cell_type": "code",
   "execution_count": null,
   "metadata": {
    "collapsed": false
   },
   "outputs": [],
   "source": [
    "# recompute the geology blocks for comparison:\n",
    "pynoddy.compute_model('fold_thrust_changed', 'fold_thrust_changed_out')"
   ]
  },
  {
   "cell_type": "code",
   "execution_count": null,
   "metadata": {
    "collapsed": false
   },
   "outputs": [],
   "source": [
    "geology_changed = pynoddy.output.NoddyOutput('fold_thrust_changed_out')"
   ]
  },
  {
   "cell_type": "code",
   "execution_count": null,
   "metadata": {
    "collapsed": false
   },
   "outputs": [],
   "source": [
    "geology_changed.plot_section('x', \n",
    "#                    layer_labels = his.model_stratigraphy, \n",
    "                   colorbar_orientation = 'horizontal', \n",
    "                   colorbar=False,\n",
    "                   title = '',\n",
    "#                   savefig=True, fig_filename = 'fold_thrust_NS_section.eps',\n",
    "                   cmap = 'YlOrRd')\n",
    "\n"
   ]
  },
  {
   "cell_type": "code",
   "execution_count": null,
   "metadata": {
    "collapsed": false
   },
   "outputs": [],
   "source": [
    "geology_changed.plot_section('y', \n",
    "                             # layer_labels = his.model_stratigraphy, \n",
    "                   colorbar_orientation = 'horizontal', title = '', cmap = 'YlOrRd', \n",
    "#                   savefig=True, fig_filename = 'fold_thrust_EW_section.eps',\n",
    "                   ve=1.5)\n",
    "                   "
   ]
  },
  {
   "cell_type": "code",
   "execution_count": null,
   "metadata": {
    "collapsed": false
   },
   "outputs": [],
   "source": [
    "# Calculate block difference and export as VTK for 3-D visualisation:\n",
    "import copy\n",
    "diff_model = copy.deepcopy(geology_changed)\n",
    "diff_model.block -= h_out.block"
   ]
  },
  {
   "cell_type": "code",
   "execution_count": null,
   "metadata": {
    "collapsed": false
   },
   "outputs": [],
   "source": [
    "diff_model.export_to_vtk(vtk_filename = \"diff_model_fold_thrust_belt\")"
   ]
  },
  {
   "cell_type": "markdown",
   "metadata": {},
   "source": [
    "Figure with all results\n",
    "--------\n",
    "\n",
    "We now create a figure with the gravity field of the original and the changed model, as well as a difference plot to highlight areas with significant changes. This example also shows how additional equations can easily be combined with pynoddy classes."
   ]
  },
  {
   "cell_type": "code",
   "execution_count": null,
   "metadata": {
    "collapsed": false
   },
   "outputs": [],
   "source": [
    "fig = plt.figure(figsize=(20,8))\n",
    "ax1 = fig.add_subplot(131)\n",
    "# original plot\n",
    "levels = np.arange(322,344,1)\n",
    "cf1 = ax1.contourf(geophys.grv_data, levels, cmap = 'gray', vmin = 324, vmax = 342)\n",
    "# cbar1 = ax1.colorbar(cf1, orientation = 'horizontal')\n",
    "fig.colorbar(cf1, orientation='horizontal')\n",
    "ax1.set_title('Gravity of original model')\n",
    "\n",
    "ax2 = fig.add_subplot(132)\n",
    "\n",
    "\n",
    "\n",
    "\n",
    "cf2 = ax2.contourf(geophys_changed.grv_data, levels, cmap = 'gray', vmin = 324, vmax = 342)\n",
    "ax2.set_title('Gravity of changed model')\n",
    "fig.colorbar(cf2, orientation='horizontal')\n",
    "\n",
    "ax3 = fig.add_subplot(133)\n",
    "\n",
    "\n",
    "comp_levels = np.arange(-10.,10.1,0.25)\n",
    "cf3 = ax3.contourf(geophys.grv_data - geophys_changed.grv_data, comp_levels, cmap = 'RdBu_r')\n",
    "ax3.set_title('Gravity difference')\n",
    "\n",
    "fig.colorbar(cf3, orientation='horizontal')\n",
    "\n",
    "plt.savefig(\"grav_ori_changed_compared.eps\")\n",
    "\n"
   ]
  }
 ],
 "metadata": {
  "kernelspec": {
   "display_name": "Python 2",
   "language": "python",
   "name": "python2"
  },
  "language_info": {
   "codemirror_mode": {
    "name": "ipython",
    "version": 2
   },
   "file_extension": ".py",
   "mimetype": "text/x-python",
   "name": "python",
   "nbconvert_exporter": "python",
   "pygments_lexer": "ipython2",
   "version": "2.7.10"
  }
 },
 "nbformat": 4,
 "nbformat_minor": 0
}
