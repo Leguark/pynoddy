{
 "metadata": {
  "name": "",
  "signature": "sha256:e3deeaf9fc0d27d2a5333dff48380f9abb1f867ad838e22fe14fc405f79b2048"
 },
 "nbformat": 3,
 "nbformat_minor": 0,
 "worksheets": []
}