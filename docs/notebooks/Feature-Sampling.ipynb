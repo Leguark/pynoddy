{
 "cells": [
  {
   "cell_type": "markdown",
   "metadata": {},
   "source": [
    "# Using pynoddy to generate features in geological model space"
   ]
  },
  {
   "cell_type": "code",
   "execution_count": 1,
   "metadata": {
    "collapsed": false
   },
   "outputs": [
    {
     "data": {
      "text/html": [
       "<link href='http://fonts.googleapis.com/css?family=Alegreya+Sans:100,300,400,500,700,800,900,100italic,300italic,400italic,500italic,700italic,800italic,900italic' rel='stylesheet' type='text/css'>\n",
       "<link href='http://fonts.googleapis.com/css?family=Arvo:400,700,400italic' rel='stylesheet' type='text/css'>\n",
       "<link href='http://fonts.googleapis.com/css?family=PT+Mono' rel='stylesheet' type='text/css'>\n",
       "<link href='http://fonts.googleapis.com/css?family=Shadows+Into+Light' rel='stylesheet' type='text/css'>\n",
       "<link rel=\"stylesheet\" type=\"text/css\" href=\"http://fonts.googleapis.com/css?family=Tangerine\">\n",
       "<link href='http://fonts.googleapis.com/css?family=Philosopher:400,700,400italic,700italic' rel='stylesheet' type='text/css'>\n",
       "<link href='http://fonts.googleapis.com/css?family=Libre+Baskerville:400,400italic' rel='stylesheet' type='text/css'>\n",
       "<link href='http://fonts.googleapis.com/css?family=Lora:400,400italic' rel='stylesheet' type='text/css'>\n",
       "<link href='http://fonts.googleapis.com/css?family=Karla:400,400italic' rel='stylesheet' type='text/css'>\n",
       "\n",
       "<style>\n",
       "\n",
       "@font-face {\n",
       "    font-family: \"Computer Modern\";\n",
       "    src: url('http://mirrors.ctan.org/fonts/cm-unicode/fonts/otf/cmunss.otf');\n",
       "}\n",
       "\n",
       "#notebook_panel { /* main background */\n",
       "    background: #888;\n",
       "    color: #f6f6f6;\n",
       "}\n",
       "\n",
       "div.cell { /* set cell width to about 80 chars */\n",
       "    width: 800px;\n",
       "}\n",
       "\n",
       "div #notebook { /* centre the content */\n",
       "    background: #fff; /* white background for content */\n",
       "    width: 1000px;\n",
       "    margin: auto;\n",
       "    padding-left: 1em;\n",
       "}\n",
       "\n",
       "#notebook li { /* More space between bullet points */\n",
       "margin-top:0.8em;\n",
       "}\n",
       "\n",
       "/* draw border around running cells */\n",
       "div.cell.border-box-sizing.code_cell.running { \n",
       "    border: 3px solid #111;\n",
       "}\n",
       "\n",
       "/* Put a solid color box around each cell and its output, visually linking them together */\n",
       "div.cell.code_cell {\n",
       "    background: #ddd;  /* rgba(230,230,230,1.0);  */\n",
       "    border-radius: 10px; /* rounded borders */\n",
       "    width: 900px;\n",
       "    padding: 1em;\n",
       "    margin-top: 1em;\n",
       "}\n",
       "\n",
       "div.text_cell_render{\n",
       "    font-family: 'Arvo' sans-serif;\n",
       "    line-height: 130%;\n",
       "    font-size: 115%;\n",
       "    width:700px;\n",
       "    margin-left:auto;\n",
       "    margin-right:auto;\n",
       "}\n",
       "\n",
       "\n",
       "/* Formatting for header cells */\n",
       ".text_cell_render h1 {\n",
       "    font-family: 'Alegreya Sans', sans-serif;\n",
       "    /* font-family: 'Tangerine', serif; */\n",
       "    /* font-family: 'Libre Baskerville', serif; */\n",
       "    /* font-family: 'Karla', sans-serif;\n",
       "    /* font-family: 'Lora', serif; */\n",
       "    font-size: 50px;\n",
       "    text-align: center;\n",
       "    /* font-style: italic; */\n",
       "    font-weight: 400;\n",
       "    /* font-size: 40pt; */\n",
       "    /* text-shadow: 4px 4px 4px #aaa; */\n",
       "    line-height: 120%;\n",
       "    color: rgb(12,85,97);\n",
       "    margin-bottom: .5em;\n",
       "    margin-top: 0.1em;\n",
       "    display: block;\n",
       "}\t\n",
       ".text_cell_render h2 {\n",
       "    /* font-family: 'Arial', serif; */\n",
       "    /* font-family: 'Lora', serif; */\n",
       "    font-family: 'Alegreya Sans', sans-serif;\n",
       "    font-weight: 700;\n",
       "    font-size: 24pt;\n",
       "    line-height: 100%;\n",
       "    /* color: rgb(171,165,131); */\n",
       "    color: rgb(12,85,97);\n",
       "    margin-bottom: 0.1em;\n",
       "    margin-top: 0.1em;\n",
       "    display: block;\n",
       "}\t\n",
       "\n",
       ".text_cell_render h3 {\n",
       "    font-family: 'Arial', serif;\n",
       "    margin-top:12px;\n",
       "    margin-bottom: 3px;\n",
       "    font-style: italic;\n",
       "    color: rgb(95,92,72);\n",
       "}\n",
       "\n",
       ".text_cell_render h4 {\n",
       "    font-family: 'Arial', serif;\n",
       "}\n",
       "\n",
       ".text_cell_render h5 {\n",
       "    font-family: 'Alegreya Sans', sans-serif;\n",
       "    font-weight: 300;\n",
       "    font-size: 16pt;\n",
       "    color: grey;\n",
       "    font-style: italic;\n",
       "    margin-bottom: .1em;\n",
       "    margin-top: 0.1em;\n",
       "    display: block;\n",
       "}\n",
       "\n",
       ".text_cell_render h6 {\n",
       "    font-family: 'PT Mono', sans-serif;\n",
       "    font-weight: 300;\n",
       "    font-size: 10pt;\n",
       "    color: grey;\n",
       "    margin-bottom: 1px;\n",
       "    margin-top: 1px;\n",
       "}\n",
       "\n",
       ".CodeMirror{\n",
       "        font-family: \"PT Mono\";\n",
       "        font-size: 100%;\n",
       "}\n",
       "\n",
       "</style>\n"
      ],
      "text/plain": [
       "<IPython.core.display.HTML object>"
      ]
     },
     "execution_count": 1,
     "metadata": {},
     "output_type": "execute_result"
    }
   ],
   "source": [
    "from IPython.core.display import HTML\n",
    "css_file = 'pynoddy.css'\n",
    "HTML(open(css_file, \"r\").read())"
   ]
  },
  {
   "cell_type": "code",
   "execution_count": 2,
   "metadata": {
    "collapsed": true
   },
   "outputs": [],
   "source": [
    "import sys, os\n",
    "import matplotlib.pyplot as plt\n",
    "# adjust some settings for matplotlib\n",
    "from matplotlib import rcParams\n",
    "# print rcParams\n",
    "rcParams['font.size'] = 15\n",
    "# determine path of repository to set paths corretly below\n",
    "repo_path = os.path.realpath('../..')\n",
    "import pynoddy.history"
   ]
  },
  {
   "cell_type": "code",
   "execution_count": 3,
   "metadata": {
    "collapsed": true
   },
   "outputs": [],
   "source": [
    "%matplotlib inline"
   ]
  },
  {
   "cell_type": "code",
   "execution_count": 4,
   "metadata": {
    "collapsed": false
   },
   "outputs": [],
   "source": [
    "reload(pynoddy.history)\n",
    "reload(pynoddy.events)\n",
    "reload(pynoddy)\n",
    "history = \"feature_model.his\"\n",
    "output_name = \"feature_out\"\n",
    "nm = pynoddy.history.NoddyHistory()\n",
    "# add stratigraphy\n",
    "strati_options = {'num_layers' : 5,\n",
    "                  'layer_names' : ['layer 1', 'layer 2', 'layer 3',\n",
    "                                   'layer 4', 'layer 5'],\n",
    "                  'layer_thickness' : [1500, 500, 500, 1500, 500]}\n",
    "nm.add_event('stratigraphy', strati_options )\n",
    "\n",
    "fold_options = {'name' : 'Fold',\n",
    "                 'pos' : (4000, 3500, 5000),\n",
    "                 'amplitude' : 200,\n",
    "                'dip_dir' : 135.0,\n",
    "                 'wavelength' : 5000}\n",
    "\n",
    "nm.add_event('fold', fold_options)\n",
    "\n",
    "# The following options define the fault geometry:\n",
    "fault_options = {'name' : 'Fault_W',\n",
    "                 'pos' : (4000, 3500, 5000),\n",
    "                 'dip_dir' : 90,\n",
    "                 'dip' : 60,\n",
    "                 'slip' : 1000}\n",
    "\n",
    "nm.add_event('fault', fault_options)\n",
    "# The following options define the fault geometry:\n",
    "fault_options = {'name' : 'Fault_E',\n",
    "                 'pos' : (6000, 3500, 5000),\n",
    "                 'dip_dir' : 270,\n",
    "                 'dip' : 60,\n",
    "                 'slip' : 1000}\n",
    "\n",
    "nm.add_event('fault', fault_options)\n",
    "nm.write_history(history)"
   ]
  },
  {
   "cell_type": "code",
   "execution_count": 7,
   "metadata": {
    "collapsed": true
   },
   "outputs": [],
   "source": [
    "# Change cube size\n",
    "nm1 = pynoddy.history.NoddyHistory(history)\n",
    "nm1.change_cube_size(50)\n",
    "nm1.write_history(history)"
   ]
  },
  {
   "cell_type": "code",
   "execution_count": 8,
   "metadata": {
    "collapsed": false
   },
   "outputs": [
    {
     "data": {
      "text/plain": [
       "''"
      ]
     },
     "execution_count": 8,
     "metadata": {},
     "output_type": "execute_result"
    }
   ],
   "source": [
    "# Compute the model\n",
    "pynoddy.compute_model(history, output_name) "
   ]
  },
  {
   "cell_type": "code",
   "execution_count": 9,
   "metadata": {
    "collapsed": false
   },
   "outputs": [
    {
     "data": {
      "image/png": "[encoded data removed]",
      "text/plain": [
       "<matplotlib.figure.Figure at 0x10b6e81d0>"
      ]
     },
     "metadata": {},
     "output_type": "display_data"
    }
   ],
   "source": [
    "# Plot output\n",
    "import pynoddy.output\n",
    "reload(pynoddy.output)\n",
    "nout = pynoddy.output.NoddyOutput(output_name)\n",
    "nout.plot_section('x', layer_labels = strati_options['layer_names'][::-1], \n",
    "                  colorbar = True, title=\"\",\n",
    "                  savefig = False, fig_filename = \"ex01_faults_combined.eps\",\n",
    "                  cmap = 'YlOrRd') # note: YlOrRd colourmap should be suitable for colorblindness!"
   ]
  },
  {
   "cell_type": "code",
   "execution_count": 10,
   "metadata": {
    "collapsed": true
   },
   "outputs": [],
   "source": [
    "nout.export_to_vtk(vtk_filename = \"feature_model\")"
   ]
  },
  {
   "cell_type": "code",
   "execution_count": 11,
   "metadata": {
    "collapsed": true
   },
   "outputs": [],
   "source": [
    "import os\n",
    "history_file = os.path.join(repo_path, \"examples/GBasin_Ve1_V4.his\")"
   ]
  },
  {
   "cell_type": "code",
   "execution_count": 12,
   "metadata": {
    "collapsed": true
   },
   "outputs": [],
   "source": [
    "his_gipps = pynoddy.history.NoddyHistory(history_file)"
   ]
  },
  {
   "cell_type": "code",
   "execution_count": 13,
   "metadata": {
    "collapsed": false
   },
   "outputs": [
    {
     "data": {
      "text/plain": [
       "{'Amplitude': 500.0,\n",
       " 'Cylindricity': 0.0,\n",
       " 'Dip': 90.0,\n",
       " 'Dip Direction': 90.0,\n",
       " 'Pitch': 0.0,\n",
       " 'Single Fold': 'FALSE',\n",
       " 'Type': 'Sine',\n",
       " 'Wavelength': 15000.0,\n",
       " 'X': 0.0,\n",
       " 'Y': 0.0,\n",
       " 'Z': 0.0}"
      ]
     },
     "execution_count": 13,
     "metadata": {},
     "output_type": "execute_result"
    }
   ],
   "source": [
    "his_gipps.events[2].properties"
   ]
  },
  {
   "cell_type": "code",
   "execution_count": 14,
   "metadata": {
    "collapsed": false
   },
   "outputs": [
    {
     "data": {
      "text/plain": [
       "array([ 1.,  2.,  3.,  4.,  5.])"
      ]
     },
     "execution_count": 14,
     "metadata": {},
     "output_type": "execute_result"
    }
   ],
   "source": [
    "import numpy as np\n",
    "np.unique(nout.block)"
   ]
  },
  {
   "cell_type": "markdown",
   "metadata": {
    "collapsed": true
   },
   "source": [
    "## Adding features to geological layers\n",
    "\n",
    "The first step is to define the covariance matrix and mean values for all features and for all geological units. Then, for each cell in the model, a random feature value is generated.\n",
    "\n",
    "For this test, we consider the following model:\n",
    "- each layer has a different feature mean value\n",
    "- the covariance matrix is identical for all layers (assuming some physical relationship, for examlpe between porosity/ permability; or density, vp)\n"
   ]
  },
  {
   "cell_type": "code",
   "execution_count": 16,
   "metadata": {
    "collapsed": false
   },
   "outputs": [
    {
     "name": "stdout",
     "output_type": "stream",
     "text": [
      "[[1.0, 5.1, 1.0], [1.5, 5.25, 1.2], [1.2, 5.12, 1.4], [1.1, 5.02, 1.2], [1.9, 5.07, 1.0]]\n"
     ]
    }
   ],
   "source": [
    "cov = [[0.08, 0.0, 0.],\n",
    "       [0.0, 0.001, 0.],\n",
    "       [0., 0., 0.05]]\n",
    "\n",
    "# define mean values for features\n",
    "feature1_means = [1.0, 1.5, 1.2, 1.1, 1.9]\n",
    "feature2_means = [5.1, 5.25, 5.12, 5.02, 5.07]\n",
    "feature3_means = [1.0, 1.2, 1.4, 1.2, 1.0]\n",
    "\n",
    "# resort into unit means\n",
    "means_units = [[m1, m2, m3] for m1, m2, m3 in \n",
    "               zip(feature1_means, feature2_means, feature3_means)]\n",
    "print means_units"
   ]
  },
  {
   "cell_type": "code",
   "execution_count": 17,
   "metadata": {
    "collapsed": false
   },
   "outputs": [],
   "source": [
    "f1, f2, f3 = np.random.multivariate_normal(means_units[0], cov, 1000).T"
   ]
  },
  {
   "cell_type": "code",
   "execution_count": 18,
   "metadata": {
    "collapsed": false
   },
   "outputs": [],
   "source": [
    "n1 = int(np.sum(nout.block[nout.block == 1.0]))"
   ]
  },
  {
   "cell_type": "code",
   "execution_count": 19,
   "metadata": {
    "collapsed": false
   },
   "outputs": [],
   "source": [
    "# sample for geological unit 1\n",
    "f1, f2, f3 = np.random.multivariate_normal(means_units[0], cov, n1).T"
   ]
  },
  {
   "cell_type": "code",
   "execution_count": 20,
   "metadata": {
    "collapsed": true
   },
   "outputs": [],
   "source": [
    "tmp = np.copy(nout.block)"
   ]
  },
  {
   "cell_type": "code",
   "execution_count": 21,
   "metadata": {
    "collapsed": true
   },
   "outputs": [],
   "source": [
    "tmp[tmp == 1.0] = f1"
   ]
  },
  {
   "cell_type": "code",
   "execution_count": 22,
   "metadata": {
    "collapsed": false
   },
   "outputs": [
    {
     "data": {
      "text/plain": [
       "<matplotlib.image.AxesImage at 0x10b88d250>"
      ]
     },
     "execution_count": 22,
     "metadata": {},
     "output_type": "execute_result"
    },
    {
     "data": {
      "image/png": "[encoded data removed]",
      "text/plain": [
       "<matplotlib.figure.Figure at 0x10b811b10>"
      ]
     },
     "metadata": {},
     "output_type": "display_data"
    }
   ],
   "source": [
    "plt.imshow(tmp[0,:,:].T, origin = 'lower_left', interpolation = 'nearest')"
   ]
  },
  {
   "cell_type": "markdown",
   "metadata": {},
   "source": [
    "ok, seems to work - now for all:"
   ]
  },
  {
   "cell_type": "code",
   "execution_count": 23,
   "metadata": {
    "collapsed": false
   },
   "outputs": [
    {
     "name": "stdout",
     "output_type": "stream",
     "text": [
      "1.0\n",
      "2.0\n",
      "3.0\n",
      "4.0\n",
      "5.0\n"
     ]
    }
   ],
   "source": [
    "# create empty feature fields:\n",
    "feature_field_1 = np.copy(nout.block)\n",
    "feature_field_2 = np.copy(nout.block)\n",
    "feature_field_3 = np.copy(nout.block)\n",
    "\n",
    "for unit_id in np.unique(nout.block):\n",
    "    print unit_id\n",
    "    n_tmp = int(np.sum(nout.block == unit_id))\n",
    "    f1, f2, f3 = np.random.multivariate_normal(means_units[int(unit_id-1)], cov, n_tmp).T\n",
    "    feature_field_1[feature_field_1 == unit_id] = f1\n",
    "    feature_field_2[feature_field_2 == unit_id] = f2\n",
    "    feature_field_3[feature_field_3 == unit_id] = f3\n"
   ]
  },
  {
   "cell_type": "code",
   "execution_count": 24,
   "metadata": {
    "collapsed": false
   },
   "outputs": [],
   "source": [
    "# Export feature fields to VTK (via pynoddy output file)\n",
    "nout.block = feature_field_1\n",
    "nout.export_to_vtk(vtk_filename = \"feature_field_1\")\n",
    "nout.block = feature_field_2\n",
    "nout.export_to_vtk(vtk_filename = \"feature_field_2\")\n",
    "nout.block = feature_field_3\n",
    "nout.export_to_vtk(vtk_filename = \"feature_field_3\")"
   ]
  },
  {
   "cell_type": "code",
   "execution_count": 25,
   "metadata": {
    "collapsed": false
   },
   "outputs": [],
   "source": [
    "# write to feature file for Jack\n",
    "feature_file = open(\"features_highres.csv\", 'w')\n",
    "feature_file.write(\"x, y, z, f1, f2, f3\\n\")\n",
    "for zz in range(nout.nz):\n",
    "    for yy in range(nout.ny):\n",
    "        for xx in range(nout.nx):\n",
    "            feature_file.write(\"%d, %d, %d, %.5f, %.5f, %.5f\\n\" %\n",
    "                              (xx, yy, zz, feature_field_1[xx, yy, zz],\n",
    "                               feature_field_2[xx, yy, zz], feature_field_3[xx, yy, zz]))\n",
    "feature_file.close()\n",
    "                                                        "
   ]
  },
  {
   "cell_type": "code",
   "execution_count": 263,
   "metadata": {
    "collapsed": false
   },
   "outputs": [
    {
     "data": {
      "text/plain": [
       "43750"
      ]
     },
     "execution_count": 263,
     "metadata": {},
     "output_type": "execute_result"
    }
   ],
   "source": [
    "nout.n_total"
   ]
  },
  {
   "cell_type": "code",
   "execution_count": null,
   "metadata": {
    "collapsed": true
   },
   "outputs": [],
   "source": []
  }
 ],
 "metadata": {
  "kernelspec": {
   "display_name": "Python 2",
   "language": "python",
   "name": "python2"
  },
  "language_info": {
   "codemirror_mode": {
    "name": "ipython",
    "version": 2
   },
   "file_extension": ".py",
   "mimetype": "text/x-python",
   "name": "python",
   "nbconvert_exporter": "python",
   "pygments_lexer": "ipython2",
   "version": "2.7.11"
  }
 },
 "nbformat": 4,
 "nbformat_minor": 0
}
