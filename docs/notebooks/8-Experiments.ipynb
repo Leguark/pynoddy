{
 "metadata": {
  "name": "",
  "signature": "sha256:33ab1ec4610b3a7a1eabadcbd1b17e7a0a8e6ceac8be3a3d77f210534a795ca7"
 },
 "nbformat": 3,
 "nbformat_minor": 0,
 "worksheets": [
  {
   "cells": [
    {
     "cell_type": "markdown",
     "metadata": {},
     "source": [
      "# Combined experiments with Noddy experiment class"
     ]
    },
    {
     "cell_type": "code",
     "collapsed": false,
     "input": [
      "from IPython.core.display import HTML\n",
      "css_file = 'pynoddy.css'\n",
      "HTML(open(css_file, \"r\").read())"
     ],
     "language": "python",
     "metadata": {},
     "outputs": [
      {
       "html": [
        "<link href='http://fonts.googleapis.com/css?family=Alegreya+Sans:100,300,400,500,700,800,900,100italic,300italic,400italic,500italic,700italic,800italic,900italic' rel='stylesheet' type='text/css'>\n",
        "<link href='http://fonts.googleapis.com/css?family=Arvo:400,700,400italic' rel='stylesheet' type='text/css'>\n",
        "<link href='http://fonts.googleapis.com/css?family=PT+Mono' rel='stylesheet' type='text/css'>\n",
        "<link href='http://fonts.googleapis.com/css?family=Shadows+Into+Light' rel='stylesheet' type='text/css'>\n",
        "<link rel=\"stylesheet\" type=\"text/css\" href=\"http://fonts.googleapis.com/css?family=Tangerine\">\n",
        "<link href='http://fonts.googleapis.com/css?family=Philosopher:400,700,400italic,700italic' rel='stylesheet' type='text/css'>\n",
        "<link href='http://fonts.googleapis.com/css?family=Libre+Baskerville:400,400italic' rel='stylesheet' type='text/css'>\n",
        "<link href='http://fonts.googleapis.com/css?family=Lora:400,400italic' rel='stylesheet' type='text/css'>\n",
        "<link href='http://fonts.googleapis.com/css?family=Karla:400,400italic' rel='stylesheet' type='text/css'>\n",
        "\n",
        "<style>\n",
        "\n",
        "@font-face {\n",
        "    font-family: \"Computer Modern\";\n",
        "    src: url('http://mirrors.ctan.org/fonts/cm-unicode/fonts/otf/cmunss.otf');\n",
        "}\n",
        "\n",
        "#notebook_panel { /* main background */\n",
        "    background: #888;\n",
        "    color: #f6f6f6;\n",
        "}\n",
        "\n",
        "div.cell { /* set cell width to about 80 chars */\n",
        "    width: 800px;\n",
        "}\n",
        "\n",
        "div #notebook { /* centre the content */\n",
        "    background: #fff; /* white background for content */\n",
        "    width: 1000px;\n",
        "    margin: auto;\n",
        "    padding-left: 1em;\n",
        "}\n",
        "\n",
        "#notebook li { /* More space between bullet points */\n",
        "margin-top:0.8em;\n",
        "}\n",
        "\n",
        "/* draw border around running cells */\n",
        "div.cell.border-box-sizing.code_cell.running { \n",
        "    border: 3px solid #111;\n",
        "}\n",
        "\n",
        "/* Put a solid color box around each cell and its output, visually linking them together */\n",
        "div.cell.code_cell {\n",
        "    background: #ddd;  /* rgba(230,230,230,1.0);  */\n",
        "    border-radius: 10px; /* rounded borders */\n",
        "    width: 900px;\n",
        "    padding: 1em;\n",
        "    margin-top: 1em;\n",
        "}\n",
        "\n",
        "div.text_cell_render{\n",
        "    font-family: 'Arvo' sans-serif;\n",
        "    line-height: 130%;\n",
        "    font-size: 115%;\n",
        "    width:700px;\n",
        "    margin-left:auto;\n",
        "    margin-right:auto;\n",
        "}\n",
        "\n",
        "\n",
        "/* Formatting for header cells */\n",
        ".text_cell_render h1 {\n",
        "    font-family: 'Alegreya Sans', sans-serif;\n",
        "    /* font-family: 'Tangerine', serif; */\n",
        "    /* font-family: 'Libre Baskerville', serif; */\n",
        "    /* font-family: 'Karla', sans-serif;\n",
        "    /* font-family: 'Lora', serif; */\n",
        "    font-size: 50px;\n",
        "    text-align: center;\n",
        "    /* font-style: italic; */\n",
        "    font-weight: 400;\n",
        "    /* font-size: 40pt; */\n",
        "    /* text-shadow: 4px 4px 4px #aaa; */\n",
        "    line-height: 120%;\n",
        "    color: rgb(12,85,97);\n",
        "    margin-bottom: .5em;\n",
        "    margin-top: 0.1em;\n",
        "    display: block;\n",
        "}\t\n",
        ".text_cell_render h2 {\n",
        "    /* font-family: 'Arial', serif; */\n",
        "    /* font-family: 'Lora', serif; */\n",
        "    font-family: 'Alegreya Sans', sans-serif;\n",
        "    font-weight: 700;\n",
        "    font-size: 24pt;\n",
        "    line-height: 100%;\n",
        "    /* color: rgb(171,165,131); */\n",
        "    color: rgb(12,85,97);\n",
        "    margin-bottom: 0.1em;\n",
        "    margin-top: 0.1em;\n",
        "    display: block;\n",
        "}\t\n",
        "\n",
        ".text_cell_render h3 {\n",
        "    font-family: 'Arial', serif;\n",
        "    margin-top:12px;\n",
        "    margin-bottom: 3px;\n",
        "    font-style: italic;\n",
        "    color: rgb(95,92,72);\n",
        "}\n",
        "\n",
        ".text_cell_render h4 {\n",
        "    font-family: 'Arial', serif;\n",
        "}\n",
        "\n",
        ".text_cell_render h5 {\n",
        "    font-family: 'Alegreya Sans', sans-serif;\n",
        "    font-weight: 300;\n",
        "    font-size: 16pt;\n",
        "    color: grey;\n",
        "    font-style: italic;\n",
        "    margin-bottom: .1em;\n",
        "    margin-top: 0.1em;\n",
        "    display: block;\n",
        "}\n",
        "\n",
        ".text_cell_render h6 {\n",
        "    font-family: 'PT Mono', sans-serif;\n",
        "    font-weight: 300;\n",
        "    font-size: 10pt;\n",
        "    color: grey;\n",
        "    margin-bottom: 1px;\n",
        "    margin-top: 1px;\n",
        "}\n",
        "\n",
        ".CodeMirror{\n",
        "        font-family: \"PT Mono\";\n",
        "        font-size: 100%;\n",
        "}\n",
        "\n",
        "</style>\n"
       ],
       "metadata": {},
       "output_type": "pyout",
       "prompt_number": 13,
       "text": [
        "<IPython.core.display.HTML at 0x11190cc10>"
       ]
      }
     ],
     "prompt_number": 13
    },
    {
     "cell_type": "code",
     "collapsed": false,
     "input": [
      "%matplotlib inline"
     ],
     "language": "python",
     "metadata": {},
     "outputs": [],
     "prompt_number": 14
    },
    {
     "cell_type": "code",
     "collapsed": false,
     "input": [
      "# settings for figures\n",
      "from matplotlib import rc_params, rcParams\n",
      "rcParams.update({'font.size': 20})"
     ],
     "language": "python",
     "metadata": {},
     "outputs": [],
     "prompt_number": 15
    },
    {
     "cell_type": "code",
     "collapsed": false,
     "input": [
      "import sys, os\n",
      "import matplotlib.pyplot as plt\n",
      "# adjust some settings for matplotlib\n",
      "from matplotlib import rcParams\n",
      "# print rcParams\n",
      "rcParams['font.size'] = 15\n",
      "# determine path of repository to set paths corretly below\n",
      "os.chdir(r'/Users/flow/git/pynoddy/docs/notebooks/')\n",
      "repo_path = os.path.realpath('../..')\n",
      "import pynoddy.experiment"
     ],
     "language": "python",
     "metadata": {},
     "outputs": [],
     "prompt_number": 16
    },
    {
     "cell_type": "markdown",
     "metadata": {},
     "source": [
      "## Experiments combine input and output\n",
      "\n",
      "The simplest set-up for an experiment is based on a pre-existing Noddy history file. The history file can directly be loaded into the experiment object with the filename passed as keyword argument:"
     ]
    },
    {
     "cell_type": "code",
     "collapsed": false,
     "input": [
      "reload(pynoddy.experiment)\n",
      "\n",
      "\n",
      "\n",
      "his_filename = \"two_faults_sensi.his\"\n",
      "ex1 = pynoddy.experiment.Experiment(history = his_filename)\n",
      "\n",
      "\n"
     ],
     "language": "python",
     "metadata": {},
     "outputs": [
      {
       "output_type": "stream",
       "stream": "stdout",
       "text": [
        " STRATIGRAPHY\n",
        " FAULT\n",
        " FAULT\n"
       ]
      }
     ],
     "prompt_number": 17
    },
    {
     "cell_type": "markdown",
     "metadata": {},
     "source": [
      "The first notable difference to the standard Noddy way of using history and output files is that, within the experiment, model computation is performed \"on the fly\", whenever required. We can, for example, obtain a direct visualisation of the model in a cross-section (default is: slice through centre of model in y-direction, resolution as defined in the history file cube size):"
     ]
    },
    {
     "cell_type": "code",
     "collapsed": false,
     "input": [
      "\n",
      "ex1.plot_section('y', position = 'center', \n",
      "                 resolution = 10, savefig = True, fig_filename = \"test.pdf\")\n"
     ],
     "language": "python",
     "metadata": {},
     "outputs": [
      {
       "output_type": "stream",
       "stream": "stdout",
       "text": [
        "\n"
       ]
      },
      {
       "metadata": {},
       "output_type": "display_data",
       "png": "[encoded data removed]",
       "text": [
        "<matplotlib.figure.Figure at 0x10dd1ba10>"
       ]
      }
     ],
     "prompt_number": 18
    },
    {
     "cell_type": "markdown",
     "metadata": {},
     "source": [
      "The important difference to the previous approach is that the output is now only generated at the position of the section. Therefore, creating a section with higher resolution is possible without blowing up computing time.\n",
      "\n",
      "As the section is re-computed automatically, we can easily obtain a section with a higher resolution, passing \"resolution\" as a keyword:\n"
     ]
    },
    {
     "cell_type": "code",
     "collapsed": false,
     "input": [
      "ex1.plot_section(resolution = 10)"
     ],
     "language": "python",
     "metadata": {},
     "outputs": [
      {
       "output_type": "stream",
       "stream": "stdout",
       "text": [
        "\n"
       ]
      },
      {
       "metadata": {},
       "output_type": "display_data",
       "png": "[encoded data removed]",
       "text": [
        "<matplotlib.figure.Figure at 0x11538bf10>"
       ]
      }
     ],
     "prompt_number": 11
    },
    {
     "cell_type": "markdown",
     "metadata": {},
     "source": [
      "Also, all the required settings and default values are combined from both input (history) and output files, so the combined approach offers directly more flexibility and ease of use. One example is that the layer names for the plot are directly determined from the history file."
     ]
    },
    {
     "cell_type": "markdown",
     "metadata": {},
     "source": [
      "## Changing properties and directly obtain update of section\n",
      "\n",
      "We can now combine options from input and output more easily, for example: change properties of an event (e.g. fault dip) and directly observe the effect in an update section. Let's actually create two plots side-by-side:"
     ]
    },
    {
     "cell_type": "code",
     "collapsed": false,
     "input": [
      "reload(pynoddy.experiment)\n",
      "\n",
      "# Start again with the original model\n",
      "his_filename = \"two_faults_sensi.his\"\n",
      "ex1 = pynoddy.experiment.Experiment(history = his_filename)\n",
      "\n",
      "fig = plt.figure(figsize = (12,6))\n",
      "# first, create a figure of the original model section:\n",
      "ax1 = fig.add_subplot(121)\n",
      "ex1.plot_section(ax = ax1, colorbar = False)\n",
      "\n",
      "# now, let's change the fault dip of event 2:\n",
      "ex1.events[3].properties['Dip'] = 50\n",
      "\n",
      "# Then, update the plot:\n",
      "ax2 = fig.add_subplot(122)\n",
      "ex1.plot_section(ax = ax2, colorbar = False)"
     ],
     "language": "python",
     "metadata": {},
     "outputs": [
      {
       "output_type": "stream",
       "stream": "stdout",
       "text": [
        " STRATIGRAPHY\n",
        " FAULT\n",
        " FAULT\n"
       ]
      },
      {
       "output_type": "stream",
       "stream": "stdout",
       "text": [
        "\n"
       ]
      },
      {
       "output_type": "stream",
       "stream": "stdout",
       "text": [
        "\n"
       ]
      },
      {
       "metadata": {},
       "output_type": "display_data",
       "png": "[encoded data removed]",
       "text": [
        "<matplotlib.figure.Figure at 0x10dd1c890>"
       ]
      }
     ],
     "prompt_number": 19
    },
    {
     "cell_type": "markdown",
     "metadata": {},
     "source": [
      "**That's it!** A lot easier than using noddy history and output files separately! Plus: faster computation and less memory requirements as the model \"views\" are only created when - and where - they are required!\n",
      "\n",
      "The functionality to automatically update the model now brings pynoddy a bit more towards the functionality of the GUI as it is easier to actually quickly test and update models. However, the main reason for writing pynoddy was not initially to replace the GUI - but to enable more flexible (and automatted) experiments!\n",
      "\n",
      "In the following, we will have a look at some of the new types of experiments that we can now perform."
     ]
    },
    {
     "cell_type": "markdown",
     "metadata": {},
     "source": [
      "## The real value of experiment objects: uncertainty simulation and sensitivity studies\n",
      "\n",
      "The real reason for combining both history and output into one class is actually to enable a new set of experiments that are not possible with the GUI itself."
     ]
    },
    {
     "cell_type": "code",
     "collapsed": false,
     "input": [
      "reload(pynoddy.experiment)\n",
      "\n",
      "# Start again with the original model\n",
      "his_filename = \"two_faults_sensi.his\"\n",
      "ex1 = pynoddy.experiment.Experiment(history = his_filename)"
     ],
     "language": "python",
     "metadata": {},
     "outputs": [
      {
       "output_type": "stream",
       "stream": "stdout",
       "text": [
        " STRATIGRAPHY\n",
        " FAULT\n",
        " FAULT\n"
       ]
      }
     ],
     "prompt_number": 34
    },
    {
     "cell_type": "markdown",
     "metadata": {},
     "source": [
      "### Random replacement of event order\n",
      "\n",
      "One possibility is now to randomly re-shuffle the order of events, directly with a class method:"
     ]
    },
    {
     "cell_type": "code",
     "collapsed": false,
     "input": [
      "ex1.shuffle_event_order([2,3])\n",
      "ex1.plot_section(colorbar = False)"
     ],
     "language": "python",
     "metadata": {},
     "outputs": [
      {
       "output_type": "stream",
       "stream": "stdout",
       "text": [
        "\n"
       ]
      },
      {
       "metadata": {},
       "output_type": "display_data",
       "png": "[encoded data removed]",
       "text": [
        "<matplotlib.figure.Figure at 0x105d20dd0>"
       ]
      }
     ],
     "prompt_number": 35
    },
    {
     "cell_type": "markdown",
     "metadata": {},
     "source": [
      "### Define statistics for event parameters\n",
      "\n",
      "It is now possible to assign parameter statistics to the standard Noddy event properties (Dip of faults, wavelength of folds, etc.). These statistics are internally assigned to a parameter statistics dictionary. One possibility is to define the dictionary explicitly:"
     ]
    },
    {
     "cell_type": "code",
     "collapsed": false,
     "input": [
      "reload(pynoddy.experiment)\n",
      "# Start again with the original model\n",
      "his_filename = \"two_faults_sensi.his\"\n",
      "ex1 = pynoddy.experiment.Experiment(history = his_filename)"
     ],
     "language": "python",
     "metadata": {},
     "outputs": [
      {
       "output_type": "stream",
       "stream": "stdout",
       "text": [
        " STRATIGRAPHY\n",
        " FAULT\n",
        " FAULT\n"
       ]
      }
     ],
     "prompt_number": 36
    },
    {
     "cell_type": "code",
     "collapsed": false,
     "input": [
      "# Initialise dictionary\n",
      "param_stats = {}\n",
      "\n",
      "# Definition of stats dictionary is:\n",
      "# param_stats[event_id][parameter_name][stats_type] = value\n",
      "\n",
      "\n",
      "# Define statistics for event 2 (first fault):\n",
      "param_stats[2] = {'Dip' : {'min' : 50., 'max' : 70.},\n",
      "                  'Slip' : {'min' : 500., 'max' : 1500.}}\n",
      "\n",
      "# and for event 3 (second fault):\n",
      "param_stats[3] = {'Dip' : {'min' : 50., 'max' : 70.},\n",
      "                  'Slip' : {'min' : 500., 'max' : 1500.}}\n",
      "\n",
      "# Assign to experiment object:\n",
      "ex1.set_parameter_statistics(param_stats)"
     ],
     "language": "python",
     "metadata": {},
     "outputs": [],
     "prompt_number": 37
    },
    {
     "cell_type": "markdown",
     "metadata": {},
     "source": [
      "### Random model perturbation\n",
      "\n",
      "We can now directly generate a random realisation of the model, in the range of the assigned model parameters (note: if no distribution is assigned, then simply a value within the range is chosen, assuming a uniform distribution):"
     ]
    },
    {
     "cell_type": "code",
     "collapsed": false,
     "input": [
      "reload(pynoddy.experiment)\n",
      "# Start again with the original model\n",
      "his_filename = \"two_faults_sensi.his\"\n",
      "ex1 = pynoddy.experiment.Experiment(history = his_filename)\n",
      "\n",
      "# Initialise list\n",
      "param_stats = []\n",
      "\n",
      "# Add one entry as dictionary with relevant properties:\n",
      "\n",
      "# for event 2:\n",
      "param_stats.append({'event' : 2, 'parameter' : 'Dip', 'min' : 50., 'max' : 70., \n",
      "                    'type' : 'normal', 'stdev' : 10., 'mean' : 60.})\n",
      "param_stats.append({'event' : 2, 'parameter' : 'Slip', 'min' : 500., 'max' : 1500., \n",
      "                    'type' : 'normal', 'stdev' : 500, 'mean' : 1000.})\n",
      "# for event 3:\n",
      "param_stats.append({'event' : 3, 'parameter' : 'Dip', 'min' : 50., 'max' : 70., \n",
      "                    'type' : 'normal', 'stdev' : 10., 'mean' : 60.})\n",
      "param_stats.append({'event' : 3, 'parameter' : 'Slip', 'min' : 500., 'max' : 1500., \n",
      "                    'type' : 'normal', 'stdev' : 500, 'mean' : 1000.})\n",
      "\n",
      "ex1.set_parameter_statistics(param_stats)"
     ],
     "language": "python",
     "metadata": {},
     "outputs": [
      {
       "output_type": "stream",
       "stream": "stdout",
       "text": [
        " STRATIGRAPHY\n",
        " FAULT\n",
        " FAULT\n"
       ]
      }
     ],
     "prompt_number": 38
    },
    {
     "cell_type": "code",
     "collapsed": false,
     "input": [
      "ex1.random_perturbation()\n",
      "ex1.plot_section()"
     ],
     "language": "python",
     "metadata": {},
     "outputs": [
      {
       "output_type": "stream",
       "stream": "stdout",
       "text": [
        "\n"
       ]
      },
      {
       "metadata": {},
       "output_type": "display_data",
       "png": "[encoded data removed]",
       "text": [
        "<matplotlib.figure.Figure at 0x107606c50>"
       ]
      }
     ],
     "prompt_number": 39
    },
    {
     "cell_type": "code",
     "collapsed": false,
     "input": [],
     "language": "python",
     "metadata": {},
     "outputs": [],
     "prompt_number": 39
    },
    {
     "cell_type": "markdown",
     "metadata": {},
     "source": [
      "And here another model perturbation:"
     ]
    },
    {
     "cell_type": "code",
     "collapsed": false,
     "input": [
      "ex1.random_perturbation()\n",
      "ex1.plot_section()"
     ],
     "language": "python",
     "metadata": {},
     "outputs": [
      {
       "output_type": "stream",
       "stream": "stdout",
       "text": [
        "\n"
       ]
      },
      {
       "metadata": {},
       "output_type": "display_data",
       "png": "[encoded data removed]",
       "text": [
        "<matplotlib.figure.Figure at 0x10c384d50>"
       ]
      }
     ],
     "prompt_number": 40
    },
    {
     "cell_type": "markdown",
     "metadata": {},
     "source": [
      "The sampled parameter changes (note: *not* the values, but the relative changes!) are stored for later analysis:"
     ]
    },
    {
     "cell_type": "code",
     "collapsed": false,
     "input": [
      "print ex1.random_parameter_changes"
     ],
     "language": "python",
     "metadata": {},
     "outputs": [
      {
       "output_type": "stream",
       "stream": "stdout",
       "text": [
        "[[], []]\n"
       ]
      }
     ],
     "prompt_number": 41
    },
    {
     "cell_type": "markdown",
     "metadata": {},
     "source": [
      "## Derived experiment classes\n",
      "\n",
      "The \"Experiment\" class can be used as a base class to define more refined and specialised experiments with kinematic models. We will show here the extension to sensitivity analysis and stochastic uncertainty simulations.\n",
      "\n",
      "### Stochastic model generation\n",
      "\n",
      "### Information entropy analysis\n",
      "\n",
      "### Sensitivity analysis\n",
      "\n"
     ]
    },
    {
     "cell_type": "code",
     "collapsed": false,
     "input": [
      "reload(pynoddy.history)\n",
      "reload(pynoddy.experiment)\n",
      "# Start again with the original model\n",
      "his_filename = \"two_faults_sensi.his\"\n",
      "sa = pynoddy.experiment.SensitivityAnalysis(history = his_filename)"
     ],
     "language": "python",
     "metadata": {},
     "outputs": [
      {
       "output_type": "stream",
       "stream": "stdout",
       "text": [
        " STRATIGRAPHY\n",
        " FAULT\n",
        " FAULT\n"
       ]
      }
     ],
     "prompt_number": 42
    },
    {
     "cell_type": "markdown",
     "metadata": {},
     "source": [
      "First, we define the parameter statistics in a list for a clear order (required, for example, for the following sensitivity analysis):"
     ]
    },
    {
     "cell_type": "code",
     "collapsed": false,
     "input": [
      "# Initialise list\n",
      "param_stats = []\n",
      "\n",
      "# Add one entry as dictionary with relevant properties:\n",
      "\n",
      "# for event 2:\n",
      "param_stats.append({'event' : 2, 'parameter' : 'Dip', 'min' : 50., 'max' : 70., \n",
      "                    'type' : 'normal', 'stdev' : 10., 'mean' : 60.})\n",
      "param_stats.append({'event' : 2, 'parameter' : 'Slip', 'min' : 500., 'max' : 1500., \n",
      "                    'type' : 'normal', 'stdev' : 500, 'mean' : 1000.})\n",
      "# for event 3:\n",
      "param_stats.append({'event' : 3, 'parameter' : 'Dip', 'min' : 50., 'max' : 70., \n",
      "                    'type' : 'normal', 'stdev' : 10., 'mean' : 60.})\n",
      "param_stats.append({'event' : 3, 'parameter' : 'Slip', 'min' : 500., 'max' : 1500., \n",
      "                    'type' : 'normal', 'stdev' : 500, 'mean' : 1000.})\n",
      "\n",
      "sa.set_parameter_statistics(param_stats)"
     ],
     "language": "python",
     "metadata": {},
     "outputs": [],
     "prompt_number": 43
    },
    {
     "cell_type": "markdown",
     "metadata": {},
     "source": [
      "For the distance calculate, we first define sampling lines along which the distance to the original model is then calculated."
     ]
    },
    {
     "cell_type": "code",
     "collapsed": false,
     "input": [
      "sa.add_sampling_line(5000, 3500, label = 'centre')\n",
      "sa.add_sampling_line(2500, 3500, label = 'left')\n",
      "sa.add_sampling_line(7500, 3500, label = 'right')"
     ],
     "language": "python",
     "metadata": {},
     "outputs": [],
     "prompt_number": 44
    },
    {
     "cell_type": "code",
     "collapsed": false,
     "input": [
      "sa.sampling_lines.values()"
     ],
     "language": "python",
     "metadata": {},
     "outputs": [
      {
       "metadata": {},
       "output_type": "pyout",
       "prompt_number": 45,
       "text": [
        "[{'x': 2500, 'y': 3500, 'z_max': 5000.0, 'z_min': 5000.0},\n",
        " {'x': 7500, 'y': 3500, 'z_max': 5000.0, 'z_min': 5000.0},\n",
        " {'x': 5000, 'y': 3500, 'z_max': 5000.0, 'z_min': 5000.0}]"
       ]
      }
     ],
     "prompt_number": 45
    },
    {
     "cell_type": "markdown",
     "metadata": {},
     "source": [
      "We now \"freeze\" the current state of the model as the base state to which compare the following realisations to (i.e. to calculate the distances). We basically create a copy of the events and store it in a class variable (self.base_events):"
     ]
    },
    {
     "cell_type": "code",
     "collapsed": false,
     "input": [
      "sa.freeze()"
     ],
     "language": "python",
     "metadata": {},
     "outputs": [],
     "prompt_number": 46
    },
    {
     "cell_type": "markdown",
     "metadata": {},
     "source": [
      "As a next step, we export the model realisation for the base model along the sampling lines (it is here possible to define a sampling resolution):"
     ]
    },
    {
     "cell_type": "code",
     "collapsed": false,
     "input": [
      "resolution = 10\n",
      "sa.random_perturbation()\n",
      "current_model = sa.get_model_lines(resolution = resolution, model_type = 'current')"
     ],
     "language": "python",
     "metadata": {},
     "outputs": [
      {
       "output_type": "stream",
       "stream": "stdout",
       "text": [
        "\n",
        "\n",
        "\n"
       ]
      }
     ],
     "prompt_number": 47
    },
    {
     "cell_type": "code",
     "collapsed": false,
     "input": [
      "plt.plot(current_model, '-')\n",
      "sa.get_model_lines(resolution = resolution, model_type = 'base')\n",
      "plt.plot(sa.base_model_lines, 'k--', lw=2)"
     ],
     "language": "python",
     "metadata": {},
     "outputs": [
      {
       "output_type": "stream",
       "stream": "stdout",
       "text": [
        "\n",
        "\n",
        "\n"
       ]
      },
      {
       "metadata": {},
       "output_type": "pyout",
       "prompt_number": 49,
       "text": [
        "[<matplotlib.lines.Line2D at 0x10d593710>]"
       ]
      },
      {
       "metadata": {},
       "output_type": "display_data",
       "png": "[encoded data removed]",
       "text": [
        "<matplotlib.figure.Figure at 0x10c331590>"
       ]
      }
     ],
     "prompt_number": 49
    },
    {
     "cell_type": "markdown",
     "metadata": {},
     "source": [
      "We can now define a penalty/ objective/ distance function for the model values along those lines. Several reasonable choices are possible and, as always, the choice depends on the experimental question.\n",
      "\n",
      "The standard distance (L1 of stratigraphic difference) is obtained with the \"distance()\" method:"
     ]
    },
    {
     "cell_type": "code",
     "collapsed": false,
     "input": [
      "sa.random_draw()\n",
      "sa.distance()"
     ],
     "language": "python",
     "metadata": {},
     "outputs": [
      {
       "output_type": "stream",
       "stream": "stdout",
       "text": [
        "\n"
       ]
      },
      {
       "output_type": "stream",
       "stream": "stdout",
       "text": [
        "\n"
       ]
      },
      {
       "output_type": "stream",
       "stream": "stdout",
       "text": [
        "\n"
       ]
      },
      {
       "metadata": {},
       "output_type": "pyout",
       "prompt_number": 53,
       "text": [
        "1.5771999999999999"
       ]
      }
     ],
     "prompt_number": 53
    },
    {
     "cell_type": "code",
     "collapsed": false,
     "input": [
      "sa.plot_section()"
     ],
     "language": "python",
     "metadata": {},
     "outputs": [
      {
       "output_type": "stream",
       "stream": "stdout",
       "text": [
        "\n"
       ]
      },
      {
       "metadata": {},
       "output_type": "display_data",
       "png": "[encoded data removed]",
       "text": [
        "<matplotlib.figure.Figure at 0x10909dc10>"
       ]
      }
     ],
     "prompt_number": 54
    },
    {
     "cell_type": "markdown",
     "metadata": {},
     "source": [
      "Let's have a look at a couple of realisations to see if the distance makes sense. Recall that the distance is only calculated along three vertical line in the model (i.e. our virtual \"drillholes\") - and does not represent an actual distance for the entire section! We plot the position of the \"drillholes\" for comparison:"
     ]
    },
    {
     "cell_type": "code",
     "collapsed": false,
     "input": [
      "fig = plt.figure(figsize = (10,16))\n",
      "ax = fig.add_subplot(5,2,1)\n",
      "\n",
      "sa.reset_base()\n",
      "\n",
      "# plot base model\n",
      "sa.plot_section(ax = ax, model_type = 'base', title = 'Base model', colorbar = False)\n",
      "\n",
      "ax.plot([25,25], [0,50], 'k--')\n",
      "ax.plot([50,50], [0,50], 'k--')\n",
      "ax.plot([75,75], [0,50], 'k--')\n",
      "\n",
      "ax.set_xlim([0,100])\n",
      "ax.set_ylim([0,50])\n",
      "\n",
      "# set random seed for comparison\n",
      "# np.random.seed(12345)\n",
      "\n",
      "for i in range(9):\n",
      "    ax = fig.add_subplot(5,2,i+2)\n",
      "    sa.random_draw()\n",
      "    distance = sa.distance()\n",
      "    sa.plot_section(ax = ax, title = 'Distance = %.2f' % distance, colorbar = False)\n",
      "    ax.plot([25,25], [0,50], 'k--')\n",
      "    ax.plot([50,50], [0,50], 'k--')\n",
      "    ax.plot([75,75], [0,50], 'k--')\n",
      "\n",
      "    ax.set_xlim([0,100])\n",
      "    ax.set_ylim([0,50])    "
     ],
     "language": "python",
     "metadata": {},
     "outputs": [
      {
       "output_type": "stream",
       "stream": "stdout",
       "text": [
        "\n"
       ]
      },
      {
       "output_type": "stream",
       "stream": "stdout",
       "text": [
        "\n"
       ]
      },
      {
       "output_type": "stream",
       "stream": "stdout",
       "text": [
        "\n"
       ]
      },
      {
       "output_type": "stream",
       "stream": "stdout",
       "text": [
        "\n"
       ]
      },
      {
       "output_type": "stream",
       "stream": "stdout",
       "text": [
        "\n"
       ]
      },
      {
       "output_type": "stream",
       "stream": "stdout",
       "text": [
        "\n"
       ]
      },
      {
       "output_type": "stream",
       "stream": "stdout",
       "text": [
        "\n"
       ]
      },
      {
       "output_type": "stream",
       "stream": "stdout",
       "text": [
        "\n"
       ]
      },
      {
       "output_type": "stream",
       "stream": "stdout",
       "text": [
        "\n"
       ]
      },
      {
       "output_type": "stream",
       "stream": "stdout",
       "text": [
        "\n"
       ]
      },
      {
       "output_type": "stream",
       "stream": "stdout",
       "text": [
        "\n"
       ]
      },
      {
       "output_type": "stream",
       "stream": "stdout",
       "text": [
        "\n"
       ]
      },
      {
       "output_type": "stream",
       "stream": "stdout",
       "text": [
        "\n"
       ]
      },
      {
       "output_type": "stream",
       "stream": "stdout",
       "text": [
        "\n"
       ]
      },
      {
       "output_type": "stream",
       "stream": "stdout",
       "text": [
        "\n"
       ]
      },
      {
       "output_type": "stream",
       "stream": "stdout",
       "text": [
        "\n"
       ]
      },
      {
       "output_type": "stream",
       "stream": "stdout",
       "text": [
        "\n"
       ]
      },
      {
       "output_type": "stream",
       "stream": "stdout",
       "text": [
        "\n"
       ]
      },
      {
       "output_type": "stream",
       "stream": "stdout",
       "text": [
        "\n"
       ]
      },
      {
       "output_type": "stream",
       "stream": "stdout",
       "text": [
        "\n"
       ]
      },
      {
       "output_type": "stream",
       "stream": "stdout",
       "text": [
        "\n"
       ]
      },
      {
       "output_type": "stream",
       "stream": "stdout",
       "text": [
        "\n"
       ]
      },
      {
       "output_type": "stream",
       "stream": "stdout",
       "text": [
        "\n"
       ]
      },
      {
       "output_type": "stream",
       "stream": "stdout",
       "text": [
        "\n"
       ]
      },
      {
       "output_type": "stream",
       "stream": "stdout",
       "text": [
        "\n"
       ]
      },
      {
       "output_type": "stream",
       "stream": "stdout",
       "text": [
        "\n"
       ]
      },
      {
       "output_type": "stream",
       "stream": "stdout",
       "text": [
        "\n"
       ]
      },
      {
       "output_type": "stream",
       "stream": "stdout",
       "text": [
        "\n"
       ]
      },
      {
       "output_type": "stream",
       "stream": "stdout",
       "text": [
        "\n"
       ]
      },
      {
       "output_type": "stream",
       "stream": "stdout",
       "text": [
        "\n"
       ]
      },
      {
       "output_type": "stream",
       "stream": "stdout",
       "text": [
        "\n"
       ]
      },
      {
       "output_type": "stream",
       "stream": "stdout",
       "text": [
        "\n"
       ]
      },
      {
       "output_type": "stream",
       "stream": "stdout",
       "text": [
        "\n"
       ]
      },
      {
       "output_type": "stream",
       "stream": "stdout",
       "text": [
        "\n"
       ]
      },
      {
       "output_type": "stream",
       "stream": "stdout",
       "text": [
        "\n"
       ]
      },
      {
       "output_type": "stream",
       "stream": "stdout",
       "text": [
        "\n"
       ]
      },
      {
       "output_type": "stream",
       "stream": "stdout",
       "text": [
        "\n"
       ]
      },
      {
       "metadata": {},
       "output_type": "display_data",
       "png": "[encoded data removed]",
       "text": [
        "<matplotlib.figure.Figure at 0x10c155f10>"
       ]
      }
     ],
     "prompt_number": 56
    },
    {
     "cell_type": "code",
     "collapsed": false,
     "input": [],
     "language": "python",
     "metadata": {},
     "outputs": [],
     "prompt_number": 52
    }
   ],
   "metadata": {}
  }
 ]
}