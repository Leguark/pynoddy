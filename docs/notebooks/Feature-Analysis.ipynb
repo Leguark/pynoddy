{
 "cells": [
  {
   "cell_type": "markdown",
   "metadata": {},
   "source": [
    "# Analysis of classification results\n",
    "\n",
    "Objective: read back in the classification results and compare to original model"
   ]
  },
  {
   "cell_type": "code",
   "execution_count": 1,
   "metadata": {
    "collapsed": false
   },
   "outputs": [
    {
     "data": {
      "text/html": [
       "<link href='http://fonts.googleapis.com/css?family=Alegreya+Sans:100,300,400,500,700,800,900,100italic,300italic,400italic,500italic,700italic,800italic,900italic' rel='stylesheet' type='text/css'>\n",
       "<link href='http://fonts.googleapis.com/css?family=Arvo:400,700,400italic' rel='stylesheet' type='text/css'>\n",
       "<link href='http://fonts.googleapis.com/css?family=PT+Mono' rel='stylesheet' type='text/css'>\n",
       "<link href='http://fonts.googleapis.com/css?family=Shadows+Into+Light' rel='stylesheet' type='text/css'>\n",
       "<link rel=\"stylesheet\" type=\"text/css\" href=\"http://fonts.googleapis.com/css?family=Tangerine\">\n",
       "<link href='http://fonts.googleapis.com/css?family=Philosopher:400,700,400italic,700italic' rel='stylesheet' type='text/css'>\n",
       "<link href='http://fonts.googleapis.com/css?family=Libre+Baskerville:400,400italic' rel='stylesheet' type='text/css'>\n",
       "<link href='http://fonts.googleapis.com/css?family=Lora:400,400italic' rel='stylesheet' type='text/css'>\n",
       "<link href='http://fonts.googleapis.com/css?family=Karla:400,400italic' rel='stylesheet' type='text/css'>\n",
       "\n",
       "<style>\n",
       "\n",
       "@font-face {\n",
       "    font-family: \"Computer Modern\";\n",
       "    src: url('http://mirrors.ctan.org/fonts/cm-unicode/fonts/otf/cmunss.otf');\n",
       "}\n",
       "\n",
       "#notebook_panel { /* main background */\n",
       "    background: #888;\n",
       "    color: #f6f6f6;\n",
       "}\n",
       "\n",
       "div.cell { /* set cell width to about 80 chars */\n",
       "    width: 800px;\n",
       "}\n",
       "\n",
       "div #notebook { /* centre the content */\n",
       "    background: #fff; /* white background for content */\n",
       "    width: 1000px;\n",
       "    margin: auto;\n",
       "    padding-left: 1em;\n",
       "}\n",
       "\n",
       "#notebook li { /* More space between bullet points */\n",
       "margin-top:0.8em;\n",
       "}\n",
       "\n",
       "/* draw border around running cells */\n",
       "div.cell.border-box-sizing.code_cell.running { \n",
       "    border: 3px solid #111;\n",
       "}\n",
       "\n",
       "/* Put a solid color box around each cell and its output, visually linking them together */\n",
       "div.cell.code_cell {\n",
       "    background: #ddd;  /* rgba(230,230,230,1.0);  */\n",
       "    border-radius: 10px; /* rounded borders */\n",
       "    width: 900px;\n",
       "    padding: 1em;\n",
       "    margin-top: 1em;\n",
       "}\n",
       "\n",
       "div.text_cell_render{\n",
       "    font-family: 'Arvo' sans-serif;\n",
       "    line-height: 130%;\n",
       "    font-size: 115%;\n",
       "    width:700px;\n",
       "    margin-left:auto;\n",
       "    margin-right:auto;\n",
       "}\n",
       "\n",
       "\n",
       "/* Formatting for header cells */\n",
       ".text_cell_render h1 {\n",
       "    font-family: 'Alegreya Sans', sans-serif;\n",
       "    /* font-family: 'Tangerine', serif; */\n",
       "    /* font-family: 'Libre Baskerville', serif; */\n",
       "    /* font-family: 'Karla', sans-serif;\n",
       "    /* font-family: 'Lora', serif; */\n",
       "    font-size: 50px;\n",
       "    text-align: center;\n",
       "    /* font-style: italic; */\n",
       "    font-weight: 400;\n",
       "    /* font-size: 40pt; */\n",
       "    /* text-shadow: 4px 4px 4px #aaa; */\n",
       "    line-height: 120%;\n",
       "    color: rgb(12,85,97);\n",
       "    margin-bottom: .5em;\n",
       "    margin-top: 0.1em;\n",
       "    display: block;\n",
       "}\t\n",
       ".text_cell_render h2 {\n",
       "    /* font-family: 'Arial', serif; */\n",
       "    /* font-family: 'Lora', serif; */\n",
       "    font-family: 'Alegreya Sans', sans-serif;\n",
       "    font-weight: 700;\n",
       "    font-size: 24pt;\n",
       "    line-height: 100%;\n",
       "    /* color: rgb(171,165,131); */\n",
       "    color: rgb(12,85,97);\n",
       "    margin-bottom: 0.1em;\n",
       "    margin-top: 0.1em;\n",
       "    display: block;\n",
       "}\t\n",
       "\n",
       ".text_cell_render h3 {\n",
       "    font-family: 'Arial', serif;\n",
       "    margin-top:12px;\n",
       "    margin-bottom: 3px;\n",
       "    font-style: italic;\n",
       "    color: rgb(95,92,72);\n",
       "}\n",
       "\n",
       ".text_cell_render h4 {\n",
       "    font-family: 'Arial', serif;\n",
       "}\n",
       "\n",
       ".text_cell_render h5 {\n",
       "    font-family: 'Alegreya Sans', sans-serif;\n",
       "    font-weight: 300;\n",
       "    font-size: 16pt;\n",
       "    color: grey;\n",
       "    font-style: italic;\n",
       "    margin-bottom: .1em;\n",
       "    margin-top: 0.1em;\n",
       "    display: block;\n",
       "}\n",
       "\n",
       ".text_cell_render h6 {\n",
       "    font-family: 'PT Mono', sans-serif;\n",
       "    font-weight: 300;\n",
       "    font-size: 10pt;\n",
       "    color: grey;\n",
       "    margin-bottom: 1px;\n",
       "    margin-top: 1px;\n",
       "}\n",
       "\n",
       ".CodeMirror{\n",
       "        font-family: \"PT Mono\";\n",
       "        font-size: 100%;\n",
       "}\n",
       "\n",
       "</style>\n"
      ],
      "text/plain": [
       "<IPython.core.display.HTML object>"
      ]
     },
     "execution_count": 1,
     "metadata": {},
     "output_type": "execute_result"
    }
   ],
   "source": [
    "from IPython.core.display import HTML\n",
    "css_file = 'pynoddy.css'\n",
    "HTML(open(css_file, \"r\").read())"
   ]
  },
  {
   "cell_type": "code",
   "execution_count": 21,
   "metadata": {
    "collapsed": true
   },
   "outputs": [],
   "source": [
    "import sys, os\n",
    "import matplotlib.pyplot as plt\n",
    "# adjust some settings for matplotlib\n",
    "from matplotlib import rcParams\n",
    "# print rcParams\n",
    "rcParams['font.size'] = 15\n",
    "# determine path of repository to set paths corretly below\n",
    "repo_path = os.path.realpath('../..')\n",
    "import pynoddy.history\n",
    "import numpy as np"
   ]
  },
  {
   "cell_type": "code",
   "execution_count": 3,
   "metadata": {
    "collapsed": true
   },
   "outputs": [],
   "source": [
    "%matplotlib inline"
   ]
  },
  {
   "cell_type": "markdown",
   "metadata": {},
   "source": [
    "Load original model:"
   ]
  },
  {
   "cell_type": "code",
   "execution_count": 5,
   "metadata": {
    "collapsed": false
   },
   "outputs": [],
   "source": [
    "import pynoddy.output\n",
    "reload(pynoddy.output)\n",
    "output_name = \"feature_out\"\n",
    "nout = pynoddy.output.NoddyOutput(output_name)"
   ]
  },
  {
   "cell_type": "code",
   "execution_count": 7,
   "metadata": {
    "collapsed": false
   },
   "outputs": [
    {
     "data": {
      "image/png": "[encoded data removed]",
      "text/plain": [
       "<matplotlib.figure.Figure at 0x10f6dd910>"
      ]
     },
     "metadata": {},
     "output_type": "display_data"
    }
   ],
   "source": [
    "nout.plot_section('x', \n",
    "                  colorbar = True, title=\"\",\n",
    "                  savefig = False, fig_filename = \"ex01_faults_combined.eps\",\n",
    "                  cmap = 'YlOrRd') # note: YlOrRd colourmap should be suitable for colorblindness!"
   ]
  },
  {
   "cell_type": "markdown",
   "metadata": {},
   "source": [
    "## Load sample classification results\n",
    "\n",
    "The implemented classification method does not return a single best-fit model, but an ensemble of probable model (as it is an MCMC sampling from the posterior). As a first test, we will therefore import single models first and check the misclassification rate defined as:\n",
    "\n",
    "$$\\mbox{MCR} = \\frac{\\mbox{Number of misclassified voxels}}{\\mbox{Total number of voxels}}$$"
   ]
  },
  {
   "cell_type": "code",
   "execution_count": 139,
   "metadata": {
    "collapsed": false
   },
   "outputs": [],
   "source": [
    "f_set1 = open(\"../../sandbox/jack/features_lowres-5 with class ID.csv\").readlines()"
   ]
  },
  {
   "cell_type": "code",
   "execution_count": 140,
   "metadata": {
    "collapsed": false
   },
   "outputs": [
    {
     "data": {
      "text/plain": [
       "'x, y, z, f1, f2, f3,ID\\n'"
      ]
     },
     "execution_count": 140,
     "metadata": {},
     "output_type": "execute_result"
    }
   ],
   "source": [
    "f_set1[0]"
   ]
  },
  {
   "cell_type": "code",
   "execution_count": 141,
   "metadata": {
    "collapsed": true
   },
   "outputs": [],
   "source": [
    "# initialise classification results array\n",
    "cf1 = np.empty_like(nout.block)"
   ]
  },
  {
   "cell_type": "code",
   "execution_count": 142,
   "metadata": {
    "collapsed": false
   },
   "outputs": [],
   "source": [
    "# iterate through results and append\n",
    "for f in f_set1[1:]:\n",
    "    fl = f.rstrip().split(\",\")\n",
    "    cf1[int(fl[0]),int(fl[1]),int(fl[2])] = int(fl[6])"
   ]
  },
  {
   "cell_type": "code",
   "execution_count": null,
   "metadata": {
    "collapsed": false
   },
   "outputs": [],
   "source": []
  },
  {
   "cell_type": "code",
   "execution_count": 143,
   "metadata": {
    "collapsed": false
   },
   "outputs": [
    {
     "data": {
      "text/plain": [
       "['1,0,0,1.99307,5.07239,0.93235,2\\n',\n",
       " '2,0,0,1.80728,5.09784,1.1543,2\\n',\n",
       " '3,0,0,1.64958,5.04218,1.30599,2\\n',\n",
       " '4,0,0,1.53292,5.13074,0.91244,2\\n']"
      ]
     },
     "execution_count": 143,
     "metadata": {},
     "output_type": "execute_result"
    }
   ],
   "source": [
    "f_set1[2:6]"
   ]
  },
  {
   "cell_type": "code",
   "execution_count": 144,
   "metadata": {
    "collapsed": false
   },
   "outputs": [
    {
     "data": {
      "image/png": "[encoded data removed]",
      "text/plain": [
       "<matplotlib.figure.Figure at 0x116baba50>"
      ]
     },
     "metadata": {},
     "output_type": "display_data"
    }
   ],
   "source": [
    "nout.plot_section('x', data = cf1,\n",
    "                  colorbar = True, title=\"\", layer_labels = range(5),\n",
    "                  savefig = False, fig_filename = \"ex01_faults_combined.eps\",\n",
    "                  cmap = 'YlOrRd') "
   ]
  },
  {
   "cell_type": "code",
   "execution_count": 146,
   "metadata": {
    "collapsed": false,
    "scrolled": true
   },
   "outputs": [
    {
     "data": {
      "text/plain": [
       "<matplotlib.axes._subplots.AxesSubplot at 0x110f7c550>"
      ]
     },
     "execution_count": 146,
     "metadata": {},
     "output_type": "execute_result"
    },
    {
     "data": {
      "image/png": "[encoded data removed]",
      "text/plain": [
       "<matplotlib.figure.Figure at 0x11722b790>"
      ]
     },
     "metadata": {},
     "output_type": "display_data"
    }
   ],
   "source": [
    "# compare to original model:\n",
    "fig = plt.figure(figsize = (12,6))\n",
    "ax1 = fig.add_subplot(121)\n",
    "ax2 = fig.add_subplot(122)\n",
    "nout.plot_section('x', ax = ax1, \n",
    "                  colorbar = False, title=\"\",\n",
    "                  savefig = False, fig_filename = \"ex01_faults_combined.eps\",\n",
    "                  cmap = 'YlOrRd') # note: YlOrRd colourmap should be suitable for colorblindness!\n",
    "nout.plot_section('x', data = cf1,ax = ax2,\n",
    "                  colorbar = False, title=\"\",\n",
    "                  savefig = False, fig_filename = \"ex01_faults_combined.eps\",\n",
    "                  cmap = 'YlOrRd') "
   ]
  },
  {
   "cell_type": "markdown",
   "metadata": {},
   "source": [
    "Results of the classification do not necessarily contain the same ids as the units in the initial model. This seems to be the case here, as well. Re-sort:"
   ]
  },
  {
   "cell_type": "code",
   "execution_count": 147,
   "metadata": {
    "collapsed": false
   },
   "outputs": [
    {
     "data": {
      "image/png": "[encoded data removed]",
      "text/plain": [
       "<matplotlib.figure.Figure at 0x1110ed510>"
      ]
     },
     "metadata": {},
     "output_type": "display_data"
    }
   ],
   "source": [
    "fig = plt.figure(figsize = (12,6))\n",
    "ax1 = fig.add_subplot(121)\n",
    "ax2 = fig.add_subplot(122)\n",
    "im1 = ax1.imshow(nout.block[15,:,:].transpose(), \n",
    "           interpolation = 'none', cmap = 'YlOrRd', origin = 'lower left')\n",
    "plt.colorbar(im1)\n",
    "im2 = ax2.imshow(cf1[15,:,:].transpose(), \n",
    "           interpolation = 'none', \n",
    "           cmap = 'YlOrRd', origin = 'lower left')"
   ]
  },
  {
   "cell_type": "code",
   "execution_count": 148,
   "metadata": {
    "collapsed": false
   },
   "outputs": [
    {
     "name": "stdout",
     "output_type": "stream",
     "text": [
      "[ 1.  2.  3.  4.  5.]\n",
      "[ 1.  2.  3.  4.  5.]\n"
     ]
    }
   ],
   "source": [
    "print np.unique(nout.block)\n",
    "print np.unique(cf1)\n",
    "# define id mapping from cluster results to original:\n",
    "# id_mapping = {2:1, 3:2, 4:5, 5:3, 1:4}\n",
    "# remapping for result 4:\n",
    "# id_mapping = {4:5, 3:4, 1:3, 5:2, 2:1}\n",
    "# remapping for result 5:\n",
    "id_mapping = {2:5, 1:4, 3:3, 5:2, 4:1}"
   ]
  },
  {
   "cell_type": "markdown",
   "metadata": {},
   "source": [
    "Now remap results and compare again:\n",
    "\n",
    "**Note**: create a vectorised function to enable a direct re-mapping of the entire array while keeping the structure!"
   ]
  },
  {
   "cell_type": "code",
   "execution_count": 149,
   "metadata": {
    "collapsed": true
   },
   "outputs": [],
   "source": [
    "def re_map(id_val):\n",
    "    return id_mapping[id_val]"
   ]
  },
  {
   "cell_type": "code",
   "execution_count": 150,
   "metadata": {
    "collapsed": false
   },
   "outputs": [],
   "source": [
    "re_map_vect = np.vectorize(re_map)"
   ]
  },
  {
   "cell_type": "code",
   "execution_count": 151,
   "metadata": {
    "collapsed": false
   },
   "outputs": [],
   "source": [
    "cf1_remap = re_map_vect(cf1)"
   ]
  },
  {
   "cell_type": "code",
   "execution_count": 152,
   "metadata": {
    "collapsed": false
   },
   "outputs": [
    {
     "data": {
      "text/plain": [
       "<matplotlib.axes._subplots.AxesSubplot at 0x1132643d0>"
      ]
     },
     "execution_count": 152,
     "metadata": {},
     "output_type": "execute_result"
    },
    {
     "data": {
      "image/png": "[encoded data removed]",
      "text/plain": [
       "<matplotlib.figure.Figure at 0x11249e110>"
      ]
     },
     "metadata": {},
     "output_type": "display_data"
    }
   ],
   "source": [
    "# compare to original model:\n",
    "fig = plt.figure(figsize = (12,6))\n",
    "ax1 = fig.add_subplot(121)\n",
    "ax2 = fig.add_subplot(122)\n",
    "nout.plot_section('x', ax = ax1, \n",
    "                  colorbar = False, title=\"\",\n",
    "                  savefig = False, fig_filename = \"ex01_faults_combined.eps\",\n",
    "                  cmap = 'YlOrRd') # note: YlOrRd colourmap should be suitable for colorblindness!\n",
    "nout.plot_section('x', data = cf1_remap, ax = ax2,\n",
    "                  colorbar = False, title=\"\",\n",
    "                  savefig = False, fig_filename = \"ex01_faults_combined.eps\",\n",
    "                  cmap = 'YlOrRd') "
   ]
  },
  {
   "cell_type": "code",
   "execution_count": 153,
   "metadata": {
    "collapsed": true
   },
   "outputs": [],
   "source": [
    "feature_diff = (nout.block != cf1_remap)"
   ]
  },
  {
   "cell_type": "code",
   "execution_count": 154,
   "metadata": {
    "collapsed": false
   },
   "outputs": [
    {
     "data": {
      "image/png": "[encoded data removed]",
      "text/plain": [
       "<matplotlib.figure.Figure at 0x111107750>"
      ]
     },
     "metadata": {},
     "output_type": "display_data"
    }
   ],
   "source": [
    "nout.plot_section('x', data = feature_diff,\n",
    "                  colorbar = False, title=\"Difference between real and matched model\",\n",
    "                  cmap = 'YlOrRd') "
   ]
  },
  {
   "cell_type": "code",
   "execution_count": 155,
   "metadata": {
    "collapsed": false
   },
   "outputs": [
    {
     "data": {
      "text/plain": [
       "0.059177142857142859"
      ]
     },
     "execution_count": 155,
     "metadata": {},
     "output_type": "execute_result"
    }
   ],
   "source": [
    "# Calculate the misclassification:\n",
    "np.sum(feature_diff) / float(nout.n_total)"
   ]
  },
  {
   "cell_type": "code",
   "execution_count": 156,
   "metadata": {
    "collapsed": false
   },
   "outputs": [],
   "source": [
    "# Export misclassification to VTK:\n",
    "misclass = feature_diff.astype('int')"
   ]
  },
  {
   "cell_type": "code",
   "execution_count": 157,
   "metadata": {
    "collapsed": false
   },
   "outputs": [],
   "source": [
    "nout.export_to_vtk(vtk_filename = \"misclass\", data=misclass)"
   ]
  },
  {
   "cell_type": "markdown",
   "metadata": {},
   "source": [
    "## Combined analysis in a single function\n",
    "\n",
    "*Note*: function assumes correct EOL character in data file (check/ adjust with vi: %s/\\r/\\r/g)\n",
    "\n",
    "**Problem**: remapping is unfortunatley not identical!"
   ]
  },
  {
   "cell_type": "code",
   "execution_count": 132,
   "metadata": {
    "collapsed": true
   },
   "outputs": [],
   "source": [
    "def calc_misclassification(nout, filename):\n",
    "    \"\"\"Calculate misclassification for classification results data stored in file\n",
    "    \n",
    "    **Arguments**:\n",
    "        - *nout* = NoddyOutput: original model (Noddy object)\n",
    "        - *filename* = filename (with path): file with classification results\n",
    "    \"\"\"\n",
    "    f_set1 = open(filename).readlines()\n",
    "    # initialise classification results array\n",
    "    cf1 = np.empty_like(nout.block)\n",
    "    # iterate through results and append\n",
    "    for f in f_set1[1:]:\n",
    "        fl = f.rstrip().split(\",\")\n",
    "        cf1[int(fl[0]),int(fl[1]),int(fl[2])] = int(fl[6])\n",
    "    # remap ids\n",
    "    cf1_remap = re_map_vect(cf1)\n",
    "    # determine differences in class ids:\n",
    "    feature_diff = (nout.block != cf1_remap)\n",
    "    # Calculate the misclassification:\n",
    "    misclass = np.sum(feature_diff) / float(nout.n_total)\n",
    "    return misclass"
   ]
  },
  {
   "cell_type": "code",
   "execution_count": 138,
   "metadata": {
    "collapsed": false
   },
   "outputs": [
    {
     "data": {
      "text/plain": [
       "0.09332571428571429"
      ]
     },
     "execution_count": 138,
     "metadata": {},
     "output_type": "execute_result"
    }
   ],
   "source": [
    "filename = r\"../../sandbox/jack/features_lowres-4 with class ID.csv\"\n",
    "calc_misclassification(nout, filename)"
   ]
  },
  {
   "cell_type": "markdown",
   "metadata": {},
   "source": [
    "## Determine validity of uncertainty estimate\n",
    "\n",
    "In addition to single model realisations, an esitmate of model uncertainty is calculated (this is, actually, also one of the main \"selling points\" of the paper). So, we will now check if the correct model is actually in the range of the estimated model uncertainty bounds (i.e.: if all voxets values from the original model actually have a non-zero probability in the estimated model)!\n",
    "\n",
    "First step: load estimated class probabilities:"
   ]
  },
  {
   "cell_type": "code",
   "execution_count": 198,
   "metadata": {
    "collapsed": true
   },
   "outputs": [],
   "source": [
    "# f_set1 = open(\"../../sandbox/jack/features_lowres-6 with class ID and Prob.csv\").readlines()\n",
    "f_set1 = open(\"../../sandbox/jack/features_lowres-8 with Prob (weak Beta).csv\").readlines()"
   ]
  },
  {
   "cell_type": "code",
   "execution_count": 199,
   "metadata": {
    "collapsed": false
   },
   "outputs": [
    {
     "data": {
      "text/plain": [
       "'x, y, z, f1, f2, f3,P1,P2,P3,P4,P5\\n'"
      ]
     },
     "execution_count": 199,
     "metadata": {},
     "output_type": "execute_result"
    }
   ],
   "source": [
    "f_set1[0]"
   ]
  },
  {
   "cell_type": "code",
   "execution_count": 200,
   "metadata": {
    "collapsed": true
   },
   "outputs": [],
   "source": [
    "# initialise classification results array\n",
    "cf1 = np.empty_like(nout.block)"
   ]
  },
  {
   "cell_type": "code",
   "execution_count": 201,
   "metadata": {
    "collapsed": false
   },
   "outputs": [],
   "source": [
    "# Initialise probability array\n",
    "probs = np.empty((5, cf1.shape[0], cf1.shape[1], cf1.shape[2]))"
   ]
  },
  {
   "cell_type": "code",
   "execution_count": 204,
   "metadata": {
    "collapsed": false
   },
   "outputs": [],
   "source": [
    "# iterate through results and append\n",
    "for f in f_set1[1:]:\n",
    "    fl = f.rstrip().split(\",\")\n",
    "    i,j,k = int(fl[0]),int(fl[1]),int(fl[2])\n",
    "    # cf1[i,j,k] = int(fl[6])\n",
    "    for i2 in range(5):\n",
    "        probs[i2,i,j,k] = float(fl[i2+6])"
   ]
  },
  {
   "cell_type": "markdown",
   "metadata": {},
   "source": [
    "We now need to perform the remapping similar to before, but now for the probability fields:"
   ]
  },
  {
   "cell_type": "code",
   "execution_count": 210,
   "metadata": {
    "collapsed": false
   },
   "outputs": [
    {
     "data": {
      "image/png": "[encoded data removed]",
      "text/plain": [
       "<matplotlib.figure.Figure at 0x115635d90>"
      ]
     },
     "metadata": {},
     "output_type": "display_data"
    }
   ],
   "source": [
    "fig = plt.figure(figsize = (12,6))\n",
    "ax1 = fig.add_subplot(121)\n",
    "ax2 = fig.add_subplot(122)\n",
    "im1 = ax1.imshow(nout.block[15,:,:].transpose(), \n",
    "           interpolation = 'none', cmap = 'YlOrRd', origin = 'lower left')\n",
    "plt.colorbar(im2)\n",
    "im2 = ax2.imshow(probs[4,15,:,:].transpose(), \n",
    "           interpolation = 'none', \n",
    "           cmap = 'YlOrRd', origin = 'lower left')"
   ]
  },
  {
   "cell_type": "code",
   "execution_count": 211,
   "metadata": {
    "collapsed": true
   },
   "outputs": [],
   "source": [
    "# Note: map now ids from original model to probability fields in results:\n",
    "prob_mapping = {4:0, 5:1, 3:2, 1:3, 2:4}"
   ]
  },
  {
   "cell_type": "code",
   "execution_count": 212,
   "metadata": {
    "collapsed": false
   },
   "outputs": [
    {
     "name": "stdout",
     "output_type": "stream",
     "text": [
      "1 0.0\n",
      "2 32.0\n",
      "3 0.0\n",
      "4 1.0\n",
      "5 3.0\n"
     ]
    }
   ],
   "source": [
    "# Check membership for each class in original model\n",
    "for i in range(1,6):\n",
    "    tmp = np.ones_like(nout.block) * (nout.block==i)\n",
    "    # test if voxels have non-zero probability by checking conjunction with zero-prob voxels\n",
    "    prob_zero = probs[prob_mapping[i],:,:,:] == 0\n",
    "    misidentified = np.sum(tmp * prob_zero)\n",
    "    print i, misidentified\n",
    "    "
   ]
  },
  {
   "cell_type": "code",
   "execution_count": 191,
   "metadata": {
    "collapsed": false
   },
   "outputs": [],
   "source": [
    "prob_zero = probs[prob_mapping[1],:,:,:] == 0"
   ]
  },
  {
   "cell_type": "markdown",
   "metadata": {},
   "source": [
    "## Determination of misclassification statistics\n",
    "\n",
    "Next step: use multiple results from one chain to determine misclassification statistics."
   ]
  },
  {
   "cell_type": "code",
   "execution_count": 291,
   "metadata": {
    "collapsed": true
   },
   "outputs": [],
   "source": [
    "f_set1 = open(\"../../sandbox/jack/features_lowres-7 with 151 realizations.csv\").readlines()"
   ]
  },
  {
   "cell_type": "code",
   "execution_count": 292,
   "metadata": {
    "collapsed": false
   },
   "outputs": [],
   "source": [
    "# Initialise results array\n",
    "all_results = np.empty((152, cf1.shape[0], cf1.shape[1], cf1.shape[2]))"
   ]
  },
  {
   "cell_type": "code",
   "execution_count": 293,
   "metadata": {
    "collapsed": false
   },
   "outputs": [],
   "source": [
    "# iterate through results and append\n",
    "for f in f_set1[1:]:\n",
    "    fl = f.rstrip().split(\",\")\n",
    "    i,j,k = int(fl[0]),int(fl[1]),int(fl[2])\n",
    "    # cf1[i,j,k] = int(fl[6])\n",
    "    for i2 in range(152):\n",
    "        try:\n",
    "            all_results[i2,i,j,k] = float(fl[i2+5])\n",
    "        except IndexError:\n",
    "            print i2, i, j, k"
   ]
  },
  {
   "cell_type": "markdown",
   "metadata": {},
   "source": [
    "First, we again need to check the assignment of the units/ class ids:"
   ]
  },
  {
   "cell_type": "code",
   "execution_count": 294,
   "metadata": {
    "collapsed": false
   },
   "outputs": [
    {
     "data": {
      "image/png": "[encoded data removed]",
      "text/plain": [
       "<matplotlib.figure.Figure at 0x116374d10>"
      ]
     },
     "metadata": {},
     "output_type": "display_data"
    }
   ],
   "source": [
    "fig = plt.figure(figsize = (12,6))\n",
    "ax1 = fig.add_subplot(121)\n",
    "ax2 = fig.add_subplot(122)\n",
    "im1 = ax1.imshow(nout.block[15,:,:].transpose(), \n",
    "           interpolation = 'none', cmap = 'YlOrRd', origin = 'lower left')\n",
    "plt.colorbar(im1)\n",
    "im2 = ax2.imshow(all_results[5,15,:,:].transpose(), \n",
    "           interpolation = 'none', \n",
    "           cmap = 'YlOrRd', origin = 'lower left')"
   ]
  },
  {
   "cell_type": "code",
   "execution_count": 295,
   "metadata": {
    "collapsed": false
   },
   "outputs": [],
   "source": [
    "# mapping from results to original:\n",
    "id_mapping = {2:5, 1:4, 3:3, 5:2, 4:1}"
   ]
  },
  {
   "cell_type": "code",
   "execution_count": 296,
   "metadata": {
    "collapsed": true
   },
   "outputs": [],
   "source": [
    "def re_map(id_val):\n",
    "    return id_mapping[id_val]\n",
    "re_map_vect = np.vectorize(re_map)"
   ]
  },
  {
   "cell_type": "code",
   "execution_count": 297,
   "metadata": {
    "collapsed": false
   },
   "outputs": [],
   "source": [
    "# Apply remapping to all but first result (seems to be original feature)\n",
    "all_results_remap = re_map_vect(all_results[1:,:,:,:])"
   ]
  },
  {
   "cell_type": "code",
   "execution_count": 298,
   "metadata": {
    "collapsed": false,
    "scrolled": true
   },
   "outputs": [
    {
     "data": {
      "image/png": "[encoded data removed]",
      "text/plain": [
       "<matplotlib.figure.Figure at 0x111144d50>"
      ]
     },
     "metadata": {},
     "output_type": "display_data"
    }
   ],
   "source": [
    "fig = plt.figure(figsize = (12,6))\n",
    "ax1 = fig.add_subplot(121)\n",
    "ax2 = fig.add_subplot(122)\n",
    "im1 = ax1.imshow(nout.block[30,:,:].transpose(), \n",
    "           interpolation = 'none', cmap = 'YlOrRd', origin = 'lower left')\n",
    "# plt.colorbar(im1)\n",
    "im2 = ax2.imshow(all_results_remap[85,30,:,:].transpose(), \n",
    "           interpolation = 'none', \n",
    "           cmap = 'YlOrRd', origin = 'lower left')"
   ]
  },
  {
   "cell_type": "markdown",
   "metadata": {},
   "source": [
    "We can now determine the misclassification for all results:"
   ]
  },
  {
   "cell_type": "code",
   "execution_count": 299,
   "metadata": {
    "collapsed": false
   },
   "outputs": [],
   "source": [
    "all_misclass = np.empty(151)\n",
    "for i in range(151):\n",
    "    # determine differences in class ids:\n",
    "    feature_diff = (nout.block != all_results_remap[i,:,:,:])\n",
    "    # Calculate the misclassification:\n",
    "    all_misclass[i] = np.sum(feature_diff) / float(nout.n_total)\n"
   ]
  },
  {
   "cell_type": "code",
   "execution_count": 301,
   "metadata": {
    "collapsed": false,
    "scrolled": true
   },
   "outputs": [
    {
     "data": {
      "text/plain": [
       "<matplotlib.text.Text at 0x116b50b10>"
      ]
     },
     "execution_count": 301,
     "metadata": {},
     "output_type": "execute_result"
    },
    {
     "data": {
      "image/png": "[encoded data removed]",
      "text/plain": [
       "<matplotlib.figure.Figure at 0x1168b4050>"
      ]
     },
     "metadata": {},
     "output_type": "display_data"
    }
   ],
   "source": [
    "plt.plot(all_misclass)\n",
    "plt.title(\"Misclassification of suite lowres-7\")\n",
    "plt.xlabel(\"Model id\")\n",
    "plt.ylabel(\"MCR\")"
   ]
  },
  {
   "cell_type": "markdown",
   "metadata": {},
   "source": [
    "It seems to be the case that the upper thin layer vanishes after approimately 30-40 iterations. From then on, the misclassification rate is approximately constant at around 9.5 percent (which is still quite acceptable!).\n",
    "\n",
    "Let's compare this now to classifications with another (lower) beta value (which should put more weight to the data?):"
   ]
  },
  {
   "cell_type": "code",
   "execution_count": 276,
   "metadata": {
    "collapsed": true
   },
   "outputs": [],
   "source": [
    "f_set1 = open(\"../../sandbox/jack/features_lowres-9 with 151 realizations.csv\").readlines()"
   ]
  },
  {
   "cell_type": "code",
   "execution_count": 277,
   "metadata": {
    "collapsed": true
   },
   "outputs": [],
   "source": [
    "# Initialise results array\n",
    "all_results = np.empty((151, cf1.shape[0], cf1.shape[1], cf1.shape[2]))"
   ]
  },
  {
   "cell_type": "code",
   "execution_count": 278,
   "metadata": {
    "collapsed": true
   },
   "outputs": [],
   "source": [
    "# iterate through results and append\n",
    "for f in f_set1[1:]:\n",
    "    fl = f.rstrip().split(\",\")\n",
    "    i,j,k = int(fl[0]),int(fl[1]),int(fl[2])\n",
    "    # cf1[i,j,k] = int(fl[6])\n",
    "    for i2 in range(151):\n",
    "        try:\n",
    "            all_results[i2,i,j,k] = float(fl[i2+6])\n",
    "        except IndexError:\n",
    "            print i2, i, j, k"
   ]
  },
  {
   "cell_type": "code",
   "execution_count": 279,
   "metadata": {
    "collapsed": false
   },
   "outputs": [
    {
     "data": {
      "image/png": "[encoded data removed]",
      "text/plain": [
       "<matplotlib.figure.Figure at 0x1163aac90>"
      ]
     },
     "metadata": {},
     "output_type": "display_data"
    }
   ],
   "source": [
    "fig = plt.figure(figsize = (12,6))\n",
    "ax1 = fig.add_subplot(121)\n",
    "ax2 = fig.add_subplot(122)\n",
    "im1 = ax1.imshow(nout.block[15,:,:].transpose(), \n",
    "           interpolation = 'none', cmap = 'YlOrRd', origin = 'lower left')\n",
    "plt.colorbar(im1)\n",
    "im2 = ax2.imshow(all_results[20,15,:,:].transpose(), \n",
    "           interpolation = 'none', \n",
    "           cmap = 'YlOrRd', origin = 'lower left')"
   ]
  },
  {
   "cell_type": "code",
   "execution_count": 280,
   "metadata": {
    "collapsed": true
   },
   "outputs": [],
   "source": [
    "# define re-mapping\n",
    "id_mapping = {2:5, 1:4, 3:3, 5:2, 4:1}"
   ]
  },
  {
   "cell_type": "code",
   "execution_count": 281,
   "metadata": {
    "collapsed": true
   },
   "outputs": [],
   "source": [
    "# Apply remapping to all but first result (seems to be original feature)\n",
    "all_results_remap = re_map_vect(all_results[1:,:,:,:])"
   ]
  },
  {
   "cell_type": "code",
   "execution_count": 287,
   "metadata": {
    "collapsed": false
   },
   "outputs": [
    {
     "data": {
      "image/png": "[encoded data removed]",
      "text/plain": [
       "<matplotlib.figure.Figure at 0x11892df10>"
      ]
     },
     "metadata": {},
     "output_type": "display_data"
    }
   ],
   "source": [
    "fig = plt.figure(figsize = (12,6))\n",
    "ax1 = fig.add_subplot(121)\n",
    "ax2 = fig.add_subplot(122)\n",
    "im1 = ax1.imshow(nout.block[30,:,:].transpose(), \n",
    "           interpolation = 'none', cmap = 'YlOrRd', origin = 'lower left')\n",
    "# plt.colorbar(im1)\n",
    "im2 = ax2.imshow(all_results_remap[115,30,:,:].transpose(), \n",
    "           interpolation = 'none', \n",
    "           cmap = 'YlOrRd', origin = 'lower left')"
   ]
  },
  {
   "cell_type": "code",
   "execution_count": 284,
   "metadata": {
    "collapsed": false
   },
   "outputs": [],
   "source": [
    "all_misclass = np.empty(150)\n",
    "for i in range(150):\n",
    "    # determine differences in class ids:\n",
    "    feature_diff = (nout.block != all_results_remap[i,:,:,:])\n",
    "    # Calculate the misclassification:\n",
    "    all_misclass[i] = np.sum(feature_diff) / float(nout.n_total)\n"
   ]
  },
  {
   "cell_type": "code",
   "execution_count": 289,
   "metadata": {
    "collapsed": false
   },
   "outputs": [
    {
     "data": {
      "text/plain": [
       "<matplotlib.text.Text at 0x1186ce610>"
      ]
     },
     "execution_count": 289,
     "metadata": {},
     "output_type": "execute_result"
    },
    {
     "data": {
      "image/png": "[encoded data removed]",
      "text/plain": [
       "<matplotlib.figure.Figure at 0x11699dd90>"
      ]
     },
     "metadata": {},
     "output_type": "display_data"
    }
   ],
   "source": [
    "plt.plot(all_misclass)\n",
    "plt.title(\"Misclassification of suite lowres-9\")\n",
    "plt.xlabel(\"Model id\")\n",
    "plt.ylabel(\"MCR\")"
   ]
  },
  {
   "cell_type": "code",
   "execution_count": 302,
   "metadata": {
    "collapsed": true
   },
   "outputs": [],
   "source": [
    "f_set1 = open(\"../../sandbox/jack/features_lowres-10 with 2000 realizations.csv\").readlines()"
   ]
  },
  {
   "cell_type": "code",
   "execution_count": null,
   "metadata": {
    "collapsed": false
   },
   "outputs": [],
   "source": []
  },
  {
   "cell_type": "code",
   "execution_count": 303,
   "metadata": {
    "collapsed": true
   },
   "outputs": [],
   "source": [
    "# Initialise results array\n",
    "all_results = np.empty((2000, cf1.shape[0], cf1.shape[1], cf1.shape[2]))"
   ]
  },
  {
   "cell_type": "code",
   "execution_count": 304,
   "metadata": {
    "collapsed": true
   },
   "outputs": [],
   "source": [
    "# iterate through results and append\n",
    "for f in f_set1[1:]:\n",
    "    fl = f.rstrip().split(\",\")\n",
    "    i,j,k = int(fl[0]),int(fl[1]),int(fl[2])\n",
    "    # cf1[i,j,k] = int(fl[6])\n",
    "    for i2 in range(2000):\n",
    "        try:\n",
    "            all_results[i2,i,j,k] = float(fl[i2+6])\n",
    "        except IndexError:\n",
    "            print i2, i, j, k"
   ]
  },
  {
   "cell_type": "code",
   "execution_count": 305,
   "metadata": {
    "collapsed": false
   },
   "outputs": [
    {
     "data": {
      "image/png": "[encoded data removed]",
      "text/plain": [
       "<matplotlib.figure.Figure at 0x116fd7d90>"
      ]
     },
     "metadata": {},
     "output_type": "display_data"
    }
   ],
   "source": [
    "fig = plt.figure(figsize = (12,6))\n",
    "ax1 = fig.add_subplot(121)\n",
    "ax2 = fig.add_subplot(122)\n",
    "im1 = ax1.imshow(nout.block[15,:,:].transpose(), \n",
    "           interpolation = 'none', cmap = 'YlOrRd', origin = 'lower left')\n",
    "plt.colorbar(im1)\n",
    "im2 = ax2.imshow(all_results[20,15,:,:].transpose(), \n",
    "           interpolation = 'none', \n",
    "           cmap = 'YlOrRd', origin = 'lower left')"
   ]
  },
  {
   "cell_type": "code",
   "execution_count": 318,
   "metadata": {
    "collapsed": true
   },
   "outputs": [],
   "source": [
    "# define re-mapping\n",
    "id_mapping = {3:5, 4:4, 2:3, 1:2, 5:1, 0:0}"
   ]
  },
  {
   "cell_type": "code",
   "execution_count": 319,
   "metadata": {
    "collapsed": false
   },
   "outputs": [],
   "source": [
    "# Apply remapping to all but first result (seems to be original feature)\n",
    "all_results_remap = re_map_vect(all_results[2:,:,:,:])"
   ]
  },
  {
   "cell_type": "code",
   "execution_count": 313,
   "metadata": {
    "collapsed": false
   },
   "outputs": [
    {
     "data": {
      "text/plain": [
       "array([ 0.,  1.,  2.,  3.,  4.,  5.])"
      ]
     },
     "execution_count": 313,
     "metadata": {},
     "output_type": "execute_result"
    }
   ],
   "source": [
    "np.unique(all_results[1999,:,:,:])"
   ]
  },
  {
   "cell_type": "code",
   "execution_count": 320,
   "metadata": {
    "collapsed": false
   },
   "outputs": [
    {
     "data": {
      "image/png": "[encoded data removed]",
      "text/plain": [
       "<matplotlib.figure.Figure at 0x117135a50>"
      ]
     },
     "metadata": {},
     "output_type": "display_data"
    }
   ],
   "source": [
    "fig = plt.figure(figsize = (12,6))\n",
    "ax1 = fig.add_subplot(121)\n",
    "ax2 = fig.add_subplot(122)\n",
    "im1 = ax1.imshow(nout.block[30,:,:].transpose(), \n",
    "           interpolation = 'none', cmap = 'YlOrRd', origin = 'lower left')\n",
    "# plt.colorbar(im1)\n",
    "im2 = ax2.imshow(all_results_remap[115,30,:,:].transpose(), \n",
    "           interpolation = 'none', \n",
    "           cmap = 'YlOrRd', origin = 'lower left')"
   ]
  },
  {
   "cell_type": "code",
   "execution_count": 322,
   "metadata": {
    "collapsed": false
   },
   "outputs": [],
   "source": [
    "all_misclass = np.empty(1998)\n",
    "for i in range(1998):\n",
    "    # determine differences in class ids:\n",
    "    feature_diff = (nout.block != all_results_remap[i,:,:,:])\n",
    "    # Calculate the misclassification:\n",
    "    all_misclass[i] = np.sum(feature_diff) / float(nout.n_total)\n",
    "\n"
   ]
  },
  {
   "cell_type": "code",
   "execution_count": 327,
   "metadata": {
    "collapsed": false
   },
   "outputs": [
    {
     "data": {
      "text/plain": [
       "<matplotlib.text.Text at 0x1186c2a90>"
      ]
     },
     "execution_count": 327,
     "metadata": {},
     "output_type": "execute_result"
    },
    {
     "data": {
      "image/png": "[encoded data removed]",
      "text/plain": [
       "<matplotlib.figure.Figure at 0x116d97e10>"
      ]
     },
     "metadata": {},
     "output_type": "display_data"
    }
   ],
   "source": [
    "plt.plot(all_misclass[100:])\n",
    "plt.title(\"Misclassification of suite lowres-10\")\n",
    "plt.xlabel(\"Model id\")\n",
    "plt.ylabel(\"MCR\")"
   ]
  },
  {
   "cell_type": "code",
   "execution_count": 328,
   "metadata": {
    "collapsed": false
   },
   "outputs": [
    {
     "data": {
      "text/plain": [
       "(array([   8.,   42.,  177.,  432.,  494.,  418.,  230.,   75.,   21.,    1.]),\n",
       " array([ 0.03572571,  0.03636571,  0.03700571,  0.03764571,  0.03828571,\n",
       "         0.03892571,  0.03956571,  0.04020571,  0.04084571,  0.04148571,\n",
       "         0.04212571]),\n",
       " <a list of 10 Patch objects>)"
      ]
     },
     "execution_count": 328,
     "metadata": {},
     "output_type": "execute_result"
    },
    {
     "data": {
      "image/png": "[encoded data removed]",
      "text/plain": [
       "<matplotlib.figure.Figure at 0x11629c250>"
      ]
     },
     "metadata": {},
     "output_type": "display_data"
    }
   ],
   "source": [
    "plt.hist(all_misclass[100:])"
   ]
  },
  {
   "cell_type": "markdown",
   "metadata": {},
   "source": [
    "## Determine validity of estimated probability\n"
   ]
  },
  {
   "cell_type": "code",
   "execution_count": 332,
   "metadata": {
    "collapsed": true
   },
   "outputs": [],
   "source": [
    "# f_set1 = open(\"../../sandbox/jack/features_lowres-6 with class ID and Prob.csv\").readlines()\n",
    "f_set1 = open(\"../../sandbox/jack/features_lowres-10 with Prob (weak Beta).csv\").readlines()"
   ]
  },
  {
   "cell_type": "code",
   "execution_count": 333,
   "metadata": {
    "collapsed": true
   },
   "outputs": [],
   "source": [
    "# initialise classification results array\n",
    "cf1 = np.empty_like(nout.block)"
   ]
  },
  {
   "cell_type": "code",
   "execution_count": 334,
   "metadata": {
    "collapsed": false
   },
   "outputs": [
    {
     "data": {
      "text/plain": [
       "'x, y, z, f1, f2, f3,P1,P2,P3,P4,P5\\n'"
      ]
     },
     "execution_count": 334,
     "metadata": {},
     "output_type": "execute_result"
    }
   ],
   "source": [
    "f_set1[0]"
   ]
  },
  {
   "cell_type": "code",
   "execution_count": 335,
   "metadata": {
    "collapsed": true
   },
   "outputs": [],
   "source": [
    "# Initialise probability array\n",
    "probs = np.empty((5, cf1.shape[0], cf1.shape[1], cf1.shape[2]))"
   ]
  },
  {
   "cell_type": "code",
   "execution_count": 336,
   "metadata": {
    "collapsed": true
   },
   "outputs": [],
   "source": [
    "# iterate through results and append\n",
    "for f in f_set1[1:]:\n",
    "    fl = f.rstrip().split(\",\")\n",
    "    i,j,k = int(fl[0]),int(fl[1]),int(fl[2])\n",
    "    # cf1[i,j,k] = int(fl[6])\n",
    "    for i2 in range(5):\n",
    "        probs[i2,i,j,k] = float(fl[i2+6])"
   ]
  },
  {
   "cell_type": "code",
   "execution_count": 346,
   "metadata": {
    "collapsed": false
   },
   "outputs": [
    {
     "data": {
      "image/png": "[encoded data removed]",
      "text/plain": [
       "<matplotlib.figure.Figure at 0x11308c210>"
      ]
     },
     "metadata": {},
     "output_type": "display_data"
    }
   ],
   "source": [
    "fig = plt.figure(figsize = (12,6))\n",
    "ax1 = fig.add_subplot(121)\n",
    "ax2 = fig.add_subplot(122)\n",
    "im1 = ax1.imshow(nout.block[15,:,:].transpose(), \n",
    "           interpolation = 'none', cmap = 'YlOrRd', origin = 'lower left')\n",
    "plt.colorbar(im2)\n",
    "im2 = ax2.imshow(probs[0,15,:,:].transpose(), \n",
    "           interpolation = 'none', \n",
    "           cmap = 'YlOrRd', origin = 'lower left')"
   ]
  },
  {
   "cell_type": "code",
   "execution_count": 344,
   "metadata": {
    "collapsed": true
   },
   "outputs": [],
   "source": [
    "# Note: map now ids from original model to probability fields in results:\n",
    "prob_mapping = {2:0, 3:1, 5:2, 4:3, 1:4}"
   ]
  },
  {
   "cell_type": "code",
   "execution_count": 345,
   "metadata": {
    "collapsed": false
   },
   "outputs": [
    {
     "name": "stdout",
     "output_type": "stream",
     "text": [
      "1 0.0\n",
      "2 0.0\n",
      "3 0.0\n",
      "4 0.0\n",
      "5 0.0\n"
     ]
    }
   ],
   "source": [
    "# Check membership for each class in original model\n",
    "for i in range(1,6):\n",
    "    tmp = np.ones_like(nout.block) * (nout.block==i)\n",
    "    # test if voxels have non-zero probability by checking conjunction with zero-prob voxels\n",
    "    prob_zero = probs[prob_mapping[i],:,:,:] == 0\n",
    "    misidentified = np.sum(tmp * prob_zero)\n",
    "    print i, misidentified\n",
    "    "
   ]
  },
  {
   "cell_type": "code",
   "execution_count": 370,
   "metadata": {
    "collapsed": false
   },
   "outputs": [],
   "source": [
    "info_entropy = np.zeros_like(nout.block)"
   ]
  },
  {
   "cell_type": "code",
   "execution_count": 371,
   "metadata": {
    "collapsed": false
   },
   "outputs": [],
   "source": [
    "for prob in probs:\n",
    "    info_entropy[prob > 0] -= prob[prob > 0] * np.log2(prob[prob > 0])\n"
   ]
  },
  {
   "cell_type": "code",
   "execution_count": 372,
   "metadata": {
    "collapsed": false
   },
   "outputs": [
    {
     "data": {
      "image/png": "[encoded data removed]",
      "text/plain": [
       "<matplotlib.figure.Figure at 0x11631dfd0>"
      ]
     },
     "metadata": {},
     "output_type": "display_data"
    }
   ],
   "source": [
    "fig = plt.figure(figsize = (12,6))\n",
    "ax1 = fig.add_subplot(121)\n",
    "ax2 = fig.add_subplot(122)\n",
    "im1 = ax1.imshow(nout.block[15,:,:].transpose(), \n",
    "           interpolation = 'none', cmap = 'YlOrRd', origin = 'lower left')\n",
    "plt.colorbar(im2)\n",
    "im2 = ax2.imshow(info_entropy[1,:,:].transpose(), \n",
    "           interpolation = 'none', \n",
    "           cmap = 'YlOrRd', origin = 'lower left')"
   ]
  },
  {
   "cell_type": "code",
   "execution_count": 373,
   "metadata": {
    "collapsed": true
   },
   "outputs": [],
   "source": [
    "nout.export_to_vtk(vtk_filename = \"../../sandbox/jack/info_entropy\", data = info_entropy)"
   ]
  },
  {
   "cell_type": "code",
   "execution_count": 374,
   "metadata": {
    "collapsed": false
   },
   "outputs": [
    {
     "data": {
      "text/plain": [
       "1.0"
      ]
     },
     "execution_count": 374,
     "metadata": {},
     "output_type": "execute_result"
    }
   ],
   "source": [
    "np.max(probs)"
   ]
  },
  {
   "cell_type": "code",
   "execution_count": 369,
   "metadata": {
    "collapsed": false
   },
   "outputs": [
    {
     "data": {
      "text/plain": [
       "nan"
      ]
     },
     "execution_count": 369,
     "metadata": {},
     "output_type": "execute_result"
    }
   ],
   "source": [
    "np.max(info_entropy)"
   ]
  },
  {
   "cell_type": "code",
   "execution_count": null,
   "metadata": {
    "collapsed": true
   },
   "outputs": [],
   "source": []
  }
 ],
 "metadata": {
  "kernelspec": {
   "display_name": "Python 2",
   "language": "python",
   "name": "python2"
  },
  "language_info": {
   "codemirror_mode": {
    "name": "ipython",
    "version": 2
   },
   "file_extension": ".py",
   "mimetype": "text/x-python",
   "name": "python",
   "nbconvert_exporter": "python",
   "pygments_lexer": "ipython2",
   "version": "2.7.11"
  }
 },
 "nbformat": 4,
 "nbformat_minor": 0
}
