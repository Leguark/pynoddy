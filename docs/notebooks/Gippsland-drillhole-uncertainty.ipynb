{
 "metadata": {
  "name": "",
  "signature": "sha256:8a4e690767418c360faaf3fb0a25690c502d5491d057659a463cfb8444e3ee4d"
 },
 "nbformat": 3,
 "nbformat_minor": 0,
 "worksheets": [
  {
   "cells": [
    {
     "cell_type": "markdown",
     "metadata": {},
     "source": [
      "# Uncertainty analysis for drillholes in Gippsland Basin Model\n",
      "\n",
      "We here evaluate how to analyse and visualise uncertainties in a kinematic model. The basic idea is that we have a set of drillhole locations and depths and want to know how uncertain the model is at these specific locations.\n",
      "\n",
      "The required methods are implemented in an Experiment subclass and tested here with an application to the Gippsland Basin model."
     ]
    },
    {
     "cell_type": "code",
     "collapsed": false,
     "input": [
      "from IPython.core.display import HTML\n",
      "css_file = 'pynoddy.css'\n",
      "HTML(open(css_file, \"r\").read())"
     ],
     "language": "python",
     "metadata": {},
     "outputs": [
      {
       "html": [
        "<link href='http://fonts.googleapis.com/css?family=Alegreya+Sans:100,300,400,500,700,800,900,100italic,300italic,400italic,500italic,700italic,800italic,900italic' rel='stylesheet' type='text/css'>\n",
        "<link href='http://fonts.googleapis.com/css?family=Arvo:400,700,400italic' rel='stylesheet' type='text/css'>\n",
        "<link href='http://fonts.googleapis.com/css?family=PT+Mono' rel='stylesheet' type='text/css'>\n",
        "<link href='http://fonts.googleapis.com/css?family=Shadows+Into+Light' rel='stylesheet' type='text/css'>\n",
        "<link rel=\"stylesheet\" type=\"text/css\" href=\"http://fonts.googleapis.com/css?family=Tangerine\">\n",
        "<link href='http://fonts.googleapis.com/css?family=Philosopher:400,700,400italic,700italic' rel='stylesheet' type='text/css'>\n",
        "<link href='http://fonts.googleapis.com/css?family=Libre+Baskerville:400,400italic' rel='stylesheet' type='text/css'>\n",
        "<link href='http://fonts.googleapis.com/css?family=Lora:400,400italic' rel='stylesheet' type='text/css'>\n",
        "<link href='http://fonts.googleapis.com/css?family=Karla:400,400italic' rel='stylesheet' type='text/css'>\n",
        "\n",
        "<style>\n",
        "\n",
        "@font-face {\n",
        "    font-family: \"Computer Modern\";\n",
        "    src: url('http://mirrors.ctan.org/fonts/cm-unicode/fonts/otf/cmunss.otf');\n",
        "}\n",
        "\n",
        "#notebook_panel { /* main background */\n",
        "    background: #888;\n",
        "    color: #f6f6f6;\n",
        "}\n",
        "\n",
        "div.cell { /* set cell width to about 80 chars */\n",
        "    width: 800px;\n",
        "}\n",
        "\n",
        "div #notebook { /* centre the content */\n",
        "    background: #fff; /* white background for content */\n",
        "    width: 1000px;\n",
        "    margin: auto;\n",
        "    padding-left: 1em;\n",
        "}\n",
        "\n",
        "#notebook li { /* More space between bullet points */\n",
        "margin-top:0.8em;\n",
        "}\n",
        "\n",
        "/* draw border around running cells */\n",
        "div.cell.border-box-sizing.code_cell.running { \n",
        "    border: 3px solid #111;\n",
        "}\n",
        "\n",
        "/* Put a solid color box around each cell and its output, visually linking them together */\n",
        "div.cell.code_cell {\n",
        "    background: #ddd;  /* rgba(230,230,230,1.0);  */\n",
        "    border-radius: 10px; /* rounded borders */\n",
        "    width: 900px;\n",
        "    padding: 1em;\n",
        "    margin-top: 1em;\n",
        "}\n",
        "\n",
        "div.text_cell_render{\n",
        "    font-family: 'Arvo' sans-serif;\n",
        "    line-height: 130%;\n",
        "    font-size: 115%;\n",
        "    width:700px;\n",
        "    margin-left:auto;\n",
        "    margin-right:auto;\n",
        "}\n",
        "\n",
        "\n",
        "/* Formatting for header cells */\n",
        ".text_cell_render h1 {\n",
        "    font-family: 'Alegreya Sans', sans-serif;\n",
        "    /* font-family: 'Tangerine', serif; */\n",
        "    /* font-family: 'Libre Baskerville', serif; */\n",
        "    /* font-family: 'Karla', sans-serif;\n",
        "    /* font-family: 'Lora', serif; */\n",
        "    font-size: 50px;\n",
        "    text-align: center;\n",
        "    /* font-style: italic; */\n",
        "    font-weight: 400;\n",
        "    /* font-size: 40pt; */\n",
        "    /* text-shadow: 4px 4px 4px #aaa; */\n",
        "    line-height: 120%;\n",
        "    color: rgb(12,85,97);\n",
        "    margin-bottom: .5em;\n",
        "    margin-top: 0.1em;\n",
        "    display: block;\n",
        "}\t\n",
        ".text_cell_render h2 {\n",
        "    /* font-family: 'Arial', serif; */\n",
        "    /* font-family: 'Lora', serif; */\n",
        "    font-family: 'Alegreya Sans', sans-serif;\n",
        "    font-weight: 700;\n",
        "    font-size: 24pt;\n",
        "    line-height: 100%;\n",
        "    /* color: rgb(171,165,131); */\n",
        "    color: rgb(12,85,97);\n",
        "    margin-bottom: 0.1em;\n",
        "    margin-top: 0.1em;\n",
        "    display: block;\n",
        "}\t\n",
        "\n",
        ".text_cell_render h3 {\n",
        "    font-family: 'Arial', serif;\n",
        "    margin-top:12px;\n",
        "    margin-bottom: 3px;\n",
        "    font-style: italic;\n",
        "    color: rgb(95,92,72);\n",
        "}\n",
        "\n",
        ".text_cell_render h4 {\n",
        "    font-family: 'Arial', serif;\n",
        "}\n",
        "\n",
        ".text_cell_render h5 {\n",
        "    font-family: 'Alegreya Sans', sans-serif;\n",
        "    font-weight: 300;\n",
        "    font-size: 16pt;\n",
        "    color: grey;\n",
        "    font-style: italic;\n",
        "    margin-bottom: .1em;\n",
        "    margin-top: 0.1em;\n",
        "    display: block;\n",
        "}\n",
        "\n",
        ".text_cell_render h6 {\n",
        "    font-family: 'PT Mono', sans-serif;\n",
        "    font-weight: 300;\n",
        "    font-size: 10pt;\n",
        "    color: grey;\n",
        "    margin-bottom: 1px;\n",
        "    margin-top: 1px;\n",
        "}\n",
        "\n",
        ".CodeMirror{\n",
        "        font-family: \"PT Mono\";\n",
        "        font-size: 100%;\n",
        "}\n",
        "\n",
        "</style>\n"
       ],
       "metadata": {},
       "output_type": "pyout",
       "prompt_number": 1,
       "text": [
        "<IPython.core.display.HTML at 0x103ab6f50>"
       ]
      }
     ],
     "prompt_number": 1
    },
    {
     "cell_type": "code",
     "collapsed": false,
     "input": [
      "%matplotlib inline"
     ],
     "language": "python",
     "metadata": {},
     "outputs": [],
     "prompt_number": 2
    },
    {
     "cell_type": "code",
     "collapsed": false,
     "input": [
      "# here the usual imports. If any of the imports fails, make sure that pynoddy is installed\n",
      "# properly, ideally with 'python setup.py develop' or 'python setup.py install'\n",
      "import sys, os\n",
      "import matplotlib.pyplot as plt\n",
      "import numpy as np\n",
      "# adjust some settings for matplotlib\n",
      "from matplotlib import rcParams\n",
      "# print rcParams\n",
      "rcParams['font.size'] = 15\n",
      "# determine path of repository to set paths corretly below\n",
      "repo_path = os.path.realpath('../..')\n",
      "import pynoddy.history\n",
      "import pynoddy.experiment\n",
      "rcParams.update({'font.size': 20})"
     ],
     "language": "python",
     "metadata": {},
     "outputs": [],
     "prompt_number": 3
    },
    {
     "cell_type": "markdown",
     "metadata": {},
     "source": [
      "## Creating an experiment object\n",
      "\n",
      "First, we start with generating a pynoddy experiment object. The experiment class inherits all the methods from the base pynoddy.history class and we can directly import the Gippsland Basin model that we want to analyse into the object:"
     ]
    },
    {
     "cell_type": "code",
     "collapsed": false,
     "input": [
      "reload(pynoddy.history)\n",
      "reload(pynoddy.output)\n",
      "reload(pynoddy.experiment)\n",
      "# the model itself is now part of the repository, in the examples directory:\n",
      "history_file = os.path.join(repo_path, \"examples/GBasin_Ve1_V4_b.his\")\n",
      "gipps_topo_ex = pynoddy.experiment.Experiment(history = history_file) "
     ],
     "language": "python",
     "metadata": {},
     "outputs": [
      {
       "output_type": "stream",
       "stream": "stdout",
       "text": [
        " STRATIGRAPHY\n",
        " FOLD\n",
        " UNCONFORMITY\n",
        " FAULT\n",
        " FAULT\n",
        " UNCONFORMITY\n",
        " FAULT\n",
        " FAULT\n",
        " UNCONFORMITY\n",
        " FAULT\n",
        " FAULT\n",
        " UNCONFORMITY\n",
        " TILT\n",
        " FOLD\n"
       ]
      }
     ],
     "prompt_number": 10
    },
    {
     "cell_type": "markdown",
     "metadata": {},
     "source": [
      "Some basic information about the model can be obtained with:"
     ]
    },
    {
     "cell_type": "code",
     "collapsed": false,
     "input": [
      "print gipps_topo_ex"
     ],
     "language": "python",
     "metadata": {},
     "outputs": [
      {
       "output_type": "stream",
       "stream": "stdout",
       "text": [
        "************************************************************\n",
        "\t\t\tModel Information\n",
        "************************************************************\n",
        "\n",
        "This model consists of 14 events:\n",
        "\t(1) - STRATIGRAPHY\n",
        "\t(2) - FOLD\n",
        "\t(3) - UNCONFORMITY\n",
        "\t(4) - FAULT\n",
        "\t(5) - FAULT\n",
        "\t(6) - UNCONFORMITY\n",
        "\t(7) - FAULT\n",
        "\t(8) - FAULT\n",
        "\t(9) - UNCONFORMITY\n",
        "\t(10) - FAULT\n",
        "\t(11) - FAULT\n",
        "\t(12) - UNCONFORMITY\n",
        "\t(13) - TILT\n",
        "\t(14) - FOLD\n",
        "The model extent is:\n",
        "\tx - 26630.0 m\n",
        "\ty - 19291.0 m\n",
        "\tz - 1500.0 m\n",
        "Number of cells in each direction:\n",
        "\tnx = 532\n",
        "\tny = 385\n",
        "\tnz = 30\n",
        "The model origin is located at: \n",
        "\t(0.0, 0.0, 1500.0)\n",
        "The cubesize for model export is: \n",
        "\t50 m\n",
        "\n",
        "\n",
        "************************************************************\n",
        "\t\t\tMeta Data\n",
        "************************************************************\n",
        "\n",
        "The filename of the model is:\n",
        "\t GBasin_Ve1_V4.his\n",
        "It was last saved (if origin was a history file!) at:\n",
        "\t 12/11/2014 11:33:12\n",
        "\n"
       ]
      }
     ],
     "prompt_number": 11
    },
    {
     "cell_type": "markdown",
     "metadata": {},
     "source": [
      "We can have a quick look at the model in a section view (note that Noddy is now executed in the background when required - and the output automatically generated in the required resolution):"
     ]
    },
    {
     "cell_type": "code",
     "collapsed": false,
     "input": [
      "gipps_topo_ex.plot_section('y')"
     ],
     "language": "python",
     "metadata": {},
     "outputs": [
      {
       "metadata": {},
       "output_type": "display_data",
       "png": "[encoded data removed]",
       "text": [
        "<matplotlib.figure.Figure at 0x105e0b290>"
       ]
      }
     ],
     "prompt_number": 12
    },
    {
     "cell_type": "markdown",
     "metadata": {},
     "source": [
      "The base plot is not very useful - but we can create a section plot with a define vertical exaggeration (keyword ve) and plot the colorbar in horizontal orientation:"
     ]
    },
    {
     "cell_type": "code",
     "collapsed": false,
     "input": [
      "# gipps_topo_ex.determine_model_stratigraphy()\n",
      "gipps_topo_ex.plot_section('x', ve = 5, position = 'centre',\n",
      "                cmap = 'YlOrRd',\n",
      "                title = '',\n",
      "                colorbar = False)\n",
      "gipps_topo_ex.plot_section('y', position = 100, ve = 5.,\n",
      "                cmap = 'YlOrRd',\n",
      "                title = '',\n",
      "                colorbar_orientation = 'horizontal')"
     ],
     "language": "python",
     "metadata": {},
     "outputs": [
      {
       "metadata": {},
       "output_type": "display_data",
       "png": "[encoded data removed]",
       "text": [
        "<matplotlib.figure.Figure at 0x1056add50>"
       ]
      },
      {
       "metadata": {},
       "output_type": "display_data",
       "png": "[encoded data removed]",
       "text": [
        "<matplotlib.figure.Figure at 0x102fc4390>"
       ]
      }
     ],
     "prompt_number": 13
    },
    {
     "cell_type": "markdown",
     "metadata": {},
     "source": [
      "*Note: The names of the model stratigraphy (colorbar labels) are unfortunately not defined correctly in the input file - we need to fix that, then we should get useful labels, as well!*"
     ]
    },
    {
     "cell_type": "markdown",
     "metadata": {},
     "source": [
      "## Loading parameters ranges from file\n",
      "\n",
      "We now need to define the parameter ranges. This step can either be done through explicit definition in the notebook (see the previous notebook on the Experiment class), or a list of parameters and defined ranges plus statistics can be read in from a csv file. This enables the convenient parameter definition in a spreadsheed (for example through Excel).\n",
      "\n",
      "In order to be read in correctly, the header should contain the labels:\n",
      "\n",
      "- 'event' : event id\n",
      "- 'parameter' : Noddy parameter ('Dip', 'Dip Direction', etc.)\n",
      "- 'min' : minimum value\n",
      "- 'max' : maximum value\n",
      "- 'initial' : initial value\n",
      "\n",
      "In addition, it is possible to define PDF type and parameters. For now, the following settings are supported:\n",
      "\n",
      "- 'type' = 'normal' \n",
      "- 'stdev' : standard deviation\n",
      "- 'mean' : mean value (default: 'initial' value)\n",
      "\n",
      "We can read in the parameters simply with:"
     ]
    },
    {
     "cell_type": "code",
     "collapsed": false,
     "input": [
      "reload(pynoddy.experiment)\n",
      "# the model itself is now part of the repository, in the examples directory:\n",
      "history_file = os.path.join(repo_path, \"examples/GBasin_Ve1_V4_b.his\")\n",
      "gipps_topo_ex = pynoddy.experiment.Experiment(history = history_file) \n",
      "gipps_topo_ex.load_parameter_file(os.path.join(repo_path, \"examples/gipps_params.csv\"))"
     ],
     "language": "python",
     "metadata": {},
     "outputs": [
      {
       "output_type": "stream",
       "stream": "stdout",
       "text": [
        " STRATIGRAPHY\n",
        " FOLD\n",
        " UNCONFORMITY\n",
        " FAULT\n",
        " FAULT\n",
        " UNCONFORMITY\n",
        " FAULT\n",
        " FAULT\n",
        " UNCONFORMITY\n",
        " FAULT\n",
        " FAULT\n",
        " UNCONFORMITY\n",
        " TILT\n",
        " FOLD\n"
       ]
      }
     ],
     "prompt_number": 14
    },
    {
     "cell_type": "markdown",
     "metadata": {},
     "source": [
      "## Generating random perturbations of the model\n",
      "\n"
     ]
    },
    {
     "cell_type": "markdown",
     "metadata": {},
     "source": [
      "Before generating random prerturbations, we should now store the base version so that we can always revert to it at a later stage:"
     ]
    },
    {
     "cell_type": "code",
     "collapsed": false,
     "input": [
      "gipps_topo_ex.freeze()"
     ],
     "language": "python",
     "metadata": {},
     "outputs": [],
     "prompt_number": 15
    },
    {
     "cell_type": "markdown",
     "metadata": {},
     "source": [
      "For a reproducible experiment, we can also set the random seed:"
     ]
    },
    {
     "cell_type": "code",
     "collapsed": false,
     "input": [
      "gipps_topo_ex.set_random_seed(12345)"
     ],
     "language": "python",
     "metadata": {},
     "outputs": [],
     "prompt_number": 16
    },
    {
     "cell_type": "markdown",
     "metadata": {},
     "source": [
      "And now, let's perturb the model:"
     ]
    },
    {
     "cell_type": "code",
     "collapsed": false,
     "input": [
      "gipps_topo_ex.random_perturbation()"
     ],
     "language": "python",
     "metadata": {},
     "outputs": [
      {
       "output_type": "stream",
       "stream": "stdout",
       "text": [
        "{2: {'Z': -277.865152173745}, 3: {'Z': 196.5780572502714}, 4: {'Slip': 76.90225676118388}, 5: {'Slip': 135.29168351654496}, 6: {'Z': 88.64293405915885}, 7: {'Slip': -43.85697358355719}, 8: {'Slip': 12.412127567340804}, 9: {'Z': 30.26135619125114}, 10: {'Slip': -237.02316539567448}, 11: {'Slip': -126.59344916936925}, 12: {'Z': 11.98271246605509}, 13: {'Rotation': 1.6644135780383635}, 14: {'Y': -13106.96198692995}}\n"
       ]
      }
     ],
     "prompt_number": 17
    },
    {
     "cell_type": "markdown",
     "metadata": {},
     "source": [
      "Let's see what happened: we can compare the new model to the base model as we stored it before:"
     ]
    },
    {
     "cell_type": "code",
     "collapsed": false,
     "input": [
      "fig = plt.figure(figsize = (12,6))\n",
      "ax1 = fig.add_subplot(211)\n",
      "ax2 = fig.add_subplot(212)\n",
      "gipps_topo_ex.plot_section(ax = ax1, direction = 'x', model_type = \"base\", \n",
      "                           colorbar = False, title = \"\", ve = 5.)\n",
      "gipps_topo_ex.plot_section(ax = ax2, direction = 'x', colorbar = False, \n",
      "                           title = \"\", ve = 5.)"
     ],
     "language": "python",
     "metadata": {},
     "outputs": [
      {
       "metadata": {},
       "output_type": "display_data",
       "png": "[encoded data removed]",
       "text": [
        "<matplotlib.figure.Figure at 0x102fd6dd0>"
       ]
      }
     ],
     "prompt_number": 18
    },
    {
     "cell_type": "code",
     "collapsed": false,
     "input": [
      "#\n",
      "# Note: keep these lines only for debugging!\n",
      "#\n",
      "reload(pynoddy.output)\n",
      "reload(pynoddy.history)\n",
      "reload(pynoddy.experiment)\n",
      "# the model itself is now part of the repository, in the examples directory:\n",
      "history_file = os.path.join(repo_path, \"examples/GBasin_Ve1_V4_b.his\")\n",
      "gipps_topo_ex = pynoddy.experiment.Experiment(history = history_file) \n",
      "gipps_topo_ex.load_parameter_file(os.path.join(repo_path, \"examples/gipps_params.csv\"))\n",
      "# freeze base state\n",
      "gipps_topo_ex.freeze()\n",
      "# set seed\n",
      "gipps_topo_ex.set_random_seed(12345)\n",
      "# randomize\n",
      "gipps_topo_ex.random_perturbation()\n",
      "\n",
      "b1 = gipps_topo_ex.get_section('x', resolution = 50, model_type = 'base')\n",
      "# b1.plot_section(direction = 'x', colorbar = False, title = \"\", ve = 5.)\n",
      "b2 = gipps_topo_ex.get_section('x', resolution = 50, model_type = 'current')"
     ],
     "language": "python",
     "metadata": {},
     "outputs": [
      {
       "output_type": "stream",
       "stream": "stdout",
       "text": [
        " STRATIGRAPHY\n",
        " FOLD\n",
        " UNCONFORMITY\n",
        " FAULT\n",
        " FAULT\n",
        " UNCONFORMITY\n",
        " FAULT\n",
        " FAULT\n",
        " UNCONFORMITY\n",
        " FAULT\n",
        " FAULT\n",
        " UNCONFORMITY\n",
        " TILT\n",
        " FOLD\n",
        "{2: {'Z': -277.865152173745}, 3: {'Z': 196.5780572502714}, 4: {'Slip': 76.90225676118388}, 5: {'Slip': 135.29168351654496}, 6: {'Z': 88.64293405915885}, 7: {'Slip': -43.85697358355719}, 8: {'Slip': 12.412127567340804}, 9: {'Z': 30.26135619125114}, 10: {'Slip': -237.02316539567448}, 11: {'Slip': -126.59344916936925}, 12: {'Z': 11.98271246605509}, 13: {'Rotation': 1.6644135780383635}, 14: {'Y': -13106.96198692995}}\n"
       ]
      }
     ],
     "prompt_number": 102
    },
    {
     "cell_type": "code",
     "collapsed": false,
     "input": [
      "# b1.plot_section(direction = 'x', colorbar = True, title = \"\", ve = 5.)\n",
      "b1 -= b2\n",
      "# b1.plot_section(direction = 'x', colorbar = True, title = \"\", ve = 5.)\n",
      "print np.min(b1.block), np.max(b1.block)"
     ],
     "language": "python",
     "metadata": {},
     "outputs": [
      {
       "output_type": "stream",
       "stream": "stdout",
       "text": [
        "-14.0 14.0\n"
       ]
      }
     ],
     "prompt_number": 103
    },
    {
     "cell_type": "code",
     "collapsed": false,
     "input": [
      "type(b1)"
     ],
     "language": "python",
     "metadata": {},
     "outputs": [
      {
       "metadata": {},
       "output_type": "pyout",
       "prompt_number": 105,
       "text": [
        "pynoddy.output.NoddyOutput"
       ]
      }
     ],
     "prompt_number": 105
    },
    {
     "cell_type": "markdown",
     "metadata": {},
     "source": [
      "...and another perturbation:"
     ]
    },
    {
     "cell_type": "code",
     "collapsed": false,
     "input": [
      "gipps_topo_ex.random_perturbation()"
     ],
     "language": "python",
     "metadata": {},
     "outputs": [
      {
       "output_type": "stream",
       "stream": "stdout",
       "text": [
        "{2: {'Z': 188.99205546868865}, 3: {'Z': -75.38865347898968}, 4: {'Slip': 24.667410998222795}, 5: {'Slip': 2.218459865817252}, 6: {'Z': 75.83631450155792}, 7: {'Slip': 5.000935590418351}, 8: {'Slip': -65.24688414608954}, 9: {'Z': -121.83019765811389}, 10: {'Slip': -50.30873913603446}, 11: {'Slip': 22.289554583517685}, 12: {'Z': 5.131610092088749}, 13: {'Rotation': 4.083534679453123}, 14: {'Y': 15511.439296441264}}\n"
       ]
      }
     ],
     "prompt_number": 14
    },
    {
     "cell_type": "code",
     "collapsed": false,
     "input": [
      "fig = plt.figure(figsize = (12,6))\n",
      "ax1 = fig.add_subplot(311)\n",
      "ax2 = fig.add_subplot(312)\n",
      "ax3 = fig.add_subplot(313)\n",
      "gipps_topo_ex.plot_section(ax = ax1, direction = 'x', model_type = \"base\", \n",
      "                           colorbar = False, title = \"\", ve = 5.)\n",
      "gipps_topo_ex.plot_section(ax = ax2, direction = 'x', colorbar = False, \n",
      "                           title = \"\", ve = 5.)\n",
      "# plot difference\n"
     ],
     "language": "python",
     "metadata": {},
     "outputs": [
      {
       "metadata": {},
       "output_type": "display_data",
       "png": "[encoded data removed]",
       "text": [
        "<matplotlib.figure.Figure at 0x112539950>"
       ]
      }
     ],
     "prompt_number": 15
    },
    {
     "cell_type": "code",
     "collapsed": false,
     "input": [
      "fig = plt.figure(figsize = (12,6))\n",
      "ax1 = fig.add_subplot(211)\n",
      "ax2 = fig.add_subplot(212)\n",
      "gipps_topo_ex.plot_section(ax = ax1, direction = 'x', model_type = \"base\", \n",
      "                           colorbar = False, title = \"\", ve = 5.)\n",
      "gipps_topo_ex.plot_section(ax = ax2, direction = 'x', colorbar = False, \n",
      "                           title = \"\", ve = 5.)"
     ],
     "language": "python",
     "metadata": {},
     "outputs": [
      {
       "metadata": {},
       "output_type": "display_data",
       "png": "[encoded data removed]",
       "text": [
        "<matplotlib.figure.Figure at 0x11252a110>"
       ]
      }
     ],
     "prompt_number": 16
    },
    {
     "cell_type": "code",
     "collapsed": false,
     "input": [
      "gipps_topo_ex.param_stats"
     ],
     "language": "python",
     "metadata": {},
     "outputs": [
      {
       "metadata": {},
       "output_type": "pyout",
       "prompt_number": 109,
       "text": [
        "[{'event': 2,\n",
        "  'event_type': 'Fold',\n",
        "  'initial': 500.0,\n",
        "  'max': 600.0,\n",
        "  'min': 400.0,\n",
        "  'parameter': 'Amplitude',\n",
        "  'parameter_id': 'ev2_fold_amplitude',\n",
        "  'stdev': 100.0,\n",
        "  'type': 'normal'},\n",
        " {'event': 2,\n",
        "  'event_type': 'Fold',\n",
        "  'initial': 15000.0,\n",
        "  'max': 17500.0,\n",
        "  'min': 12500.0,\n",
        "  'parameter': 'Wavelength',\n",
        "  'parameter_id': 'ev2_fold_wavelength',\n",
        "  'stdev': 2500.0,\n",
        "  'type': 'normal'},\n",
        " {'event': 2,\n",
        "  'event_type': 'Fold',\n",
        "  'initial': 0.0,\n",
        "  'max': 15000.0,\n",
        "  'min': 0.0,\n",
        "  'parameter': 'X',\n",
        "  'parameter_id': 'ev2_fold_x',\n",
        "  'stdev': 7500.0,\n",
        "  'type': 'normal'},\n",
        " {'event': 2,\n",
        "  'event_type': 'Fold',\n",
        "  'initial': 0.0,\n",
        "  'max': 1000.0,\n",
        "  'min': 0.0,\n",
        "  'parameter': 'Z',\n",
        "  'parameter_id': 'ev2_fold_z',\n",
        "  'stdev': 500.0,\n",
        "  'type': 'normal'},\n",
        " {'event': 3,\n",
        "  'event_type': 'Unconformity',\n",
        "  'initial': 250.0,\n",
        "  'max': 350.0,\n",
        "  'min': 150.0,\n",
        "  'parameter': 'Z',\n",
        "  'parameter_id': 'ev3_uc_z',\n",
        "  'stdev': 100.0,\n",
        "  'type': 'normal'},\n",
        " {'event': 4,\n",
        "  'event_type': 'Fault',\n",
        "  'initial': 70.0,\n",
        "  'max': 80.0,\n",
        "  'min': 60.0,\n",
        "  'parameter': 'Dip',\n",
        "  'parameter_id': 'ev4_fault_dip',\n",
        "  'stdev': 10.0,\n",
        "  'type': 'normal'},\n",
        " {'event': 4,\n",
        "  'event_type': 'Fault',\n",
        "  'initial': 23000.0,\n",
        "  'max': 24000.0,\n",
        "  'min': 22000.0,\n",
        "  'parameter': 'X',\n",
        "  'parameter_id': 'ev4_fault_x',\n",
        "  'stdev': 1000.0,\n",
        "  'type': 'normal'},\n",
        " {'event': 4,\n",
        "  'event_type': 'Fault',\n",
        "  'initial': 5000.0,\n",
        "  'max': 6000.0,\n",
        "  'min': 4000.0,\n",
        "  'parameter': 'Z',\n",
        "  'parameter_id': 'ev4_fault_z',\n",
        "  'stdev': 1000.0,\n",
        "  'type': 'normal'},\n",
        " {'event': 4,\n",
        "  'event_type': 'Fault',\n",
        "  'initial': -100.0,\n",
        "  'max': -200.0,\n",
        "  'min': 0.0,\n",
        "  'parameter': 'Slip',\n",
        "  'parameter_id': 'ev4_fault_slip',\n",
        "  'stdev': 100.0,\n",
        "  'type': 'normal'},\n",
        " {'event': 5,\n",
        "  'event_type': 'Fault',\n",
        "  'initial': 70.0,\n",
        "  'max': 80.0,\n",
        "  'min': 60.0,\n",
        "  'parameter': 'Dip',\n",
        "  'parameter_id': 'ev5_fault_dip',\n",
        "  'stdev': 10.0,\n",
        "  'type': 'normal'},\n",
        " {'event': 5,\n",
        "  'event_type': 'Fault',\n",
        "  'initial': 286.0,\n",
        "  'max': 296.0,\n",
        "  'min': 276.0,\n",
        "  'parameter': 'Dip Direction',\n",
        "  'parameter_id': 'ev5_fault_dip_dir',\n",
        "  'stdev': 10.0,\n",
        "  'type': 'normal'},\n",
        " {'event': 5,\n",
        "  'event_type': 'Fault',\n",
        "  'initial': 18000.0,\n",
        "  'max': 19000.0,\n",
        "  'min': 17000.0,\n",
        "  'parameter': 'X',\n",
        "  'parameter_id': 'ev5_fault_x',\n",
        "  'stdev': 1000.0,\n",
        "  'type': 'normal'},\n",
        " {'event': 5,\n",
        "  'event_type': 'Fault',\n",
        "  'initial': 0.0,\n",
        "  'max': 1000.0,\n",
        "  'min': 0.0,\n",
        "  'parameter': 'Y',\n",
        "  'parameter_id': 'ev5_fault_y',\n",
        "  'stdev': 500.0,\n",
        "  'type': 'normal'},\n",
        " {'event': 5,\n",
        "  'event_type': 'Fault',\n",
        "  'initial': 5000.0,\n",
        "  'max': 6000.0,\n",
        "  'min': 4000.0,\n",
        "  'parameter': 'Z',\n",
        "  'parameter_id': 'ev5_fault_z',\n",
        "  'stdev': 1000.0,\n",
        "  'type': 'normal'},\n",
        " {'event': 5,\n",
        "  'event_type': 'Fault',\n",
        "  'initial': -100.0,\n",
        "  'max': -200.0,\n",
        "  'min': 0.0,\n",
        "  'parameter': 'Slip',\n",
        "  'parameter_id': 'ev5_fault_slip',\n",
        "  'stdev': 100.0,\n",
        "  'type': 'normal'},\n",
        " {'event': 6,\n",
        "  'event_type': 'Unconformity',\n",
        "  'initial': 750.0,\n",
        "  'max': 850.0,\n",
        "  'min': 650.0,\n",
        "  'parameter': 'Z',\n",
        "  'parameter_id': 'ev6_uc_z',\n",
        "  'stdev': 100.0,\n",
        "  'type': 'normal'},\n",
        " {'event': 7,\n",
        "  'event_type': 'Fault',\n",
        "  'initial': 70.0,\n",
        "  'max': 80.0,\n",
        "  'min': 60.0,\n",
        "  'parameter': 'Dip',\n",
        "  'parameter_id': 'ev7_fault_dip',\n",
        "  'stdev': 10.0,\n",
        "  'type': 'normal'},\n",
        " {'event': 7,\n",
        "  'event_type': 'Fault',\n",
        "  'initial': 13000.0,\n",
        "  'max': 14000.0,\n",
        "  'min': 12000.0,\n",
        "  'parameter': 'Y',\n",
        "  'parameter_id': 'ev7_fault_y',\n",
        "  'stdev': 1000.0,\n",
        "  'type': 'normal'},\n",
        " {'event': 7,\n",
        "  'event_type': 'Fault',\n",
        "  'initial': 5000.0,\n",
        "  'max': 6000.0,\n",
        "  'min': 4000.0,\n",
        "  'parameter': 'Z',\n",
        "  'parameter_id': 'ev7_fault_z',\n",
        "  'stdev': 1000.0,\n",
        "  'type': 'normal'},\n",
        " {'event': 7,\n",
        "  'event_type': 'Fault',\n",
        "  'initial': 500.0,\n",
        "  'max': 600.0,\n",
        "  'min': 400.0,\n",
        "  'parameter': 'Slip',\n",
        "  'parameter_id': 'ev7_fault_slip',\n",
        "  'stdev': 100.0,\n",
        "  'type': 'normal'},\n",
        " {'event': 8,\n",
        "  'event_type': 'Fault',\n",
        "  'initial': 45.0,\n",
        "  'max': 55.0,\n",
        "  'min': 35.0,\n",
        "  'parameter': 'Dip',\n",
        "  'parameter_id': 'ev8_fault_dip',\n",
        "  'stdev': 10.0,\n",
        "  'type': 'normal'},\n",
        " {'event': 8,\n",
        "  'event_type': 'Fault',\n",
        "  'initial': 10.0,\n",
        "  'max': 20.0,\n",
        "  'min': 0.0,\n",
        "  'parameter': 'Dip Direction',\n",
        "  'parameter_id': 'ev8_fault_dip_dir',\n",
        "  'stdev': 10.0,\n",
        "  'type': 'normal'},\n",
        " {'event': 8,\n",
        "  'event_type': 'Fault',\n",
        "  'initial': 8730.0,\n",
        "  'max': 9730.0,\n",
        "  'min': 7730.0,\n",
        "  'parameter': 'X',\n",
        "  'parameter_id': 'ev8_fault_x',\n",
        "  'stdev': 1000.0,\n",
        "  'type': 'normal'},\n",
        " {'event': 8,\n",
        "  'event_type': 'Fault',\n",
        "  'initial': 0.0,\n",
        "  'max': 1000.0,\n",
        "  'min': -1000.0,\n",
        "  'parameter': 'Y',\n",
        "  'parameter_id': 'ev8_fault_y',\n",
        "  'stdev': 1000.0,\n",
        "  'type': 'normal'},\n",
        " {'event': 8,\n",
        "  'event_type': 'Fault',\n",
        "  'initial': 5000.0,\n",
        "  'max': 6000.0,\n",
        "  'min': 4000.0,\n",
        "  'parameter': 'Z',\n",
        "  'parameter_id': 'ev8_fault_z',\n",
        "  'stdev': 1000.0,\n",
        "  'type': 'normal'},\n",
        " {'event': 8,\n",
        "  'event_type': 'Fault',\n",
        "  'initial': 500.0,\n",
        "  'max': 600.0,\n",
        "  'min': 400.0,\n",
        "  'parameter': 'Slip',\n",
        "  'parameter_id': 'ev8_fault_slip',\n",
        "  'stdev': 100.0,\n",
        "  'type': 'normal'},\n",
        " {'event': 9,\n",
        "  'event_type': 'Unconformity',\n",
        "  'initial': 750.0,\n",
        "  'max': 850.0,\n",
        "  'min': 650.0,\n",
        "  'parameter': 'Z',\n",
        "  'parameter_id': 'ev9_uc_z',\n",
        "  'stdev': 100.0,\n",
        "  'type': 'normal'},\n",
        " {'event': 10,\n",
        "  'event_type': 'Fault',\n",
        "  'initial': 70.0,\n",
        "  'max': 80.0,\n",
        "  'min': 60.0,\n",
        "  'parameter': 'Dip',\n",
        "  'parameter_id': 'ev10_fault_dip',\n",
        "  'stdev': 10.0,\n",
        "  'type': 'normal'},\n",
        " {'event': 10,\n",
        "  'event_type': 'Fault',\n",
        "  'initial': 286.0,\n",
        "  'max': 296.0,\n",
        "  'min': 276.0,\n",
        "  'parameter': 'Dip Direction',\n",
        "  'parameter_id': 'ev10_fault_dip_dir',\n",
        "  'stdev': 10.0,\n",
        "  'type': 'normal'},\n",
        " {'event': 10,\n",
        "  'event_type': 'Fault',\n",
        "  'initial': 18000.0,\n",
        "  'max': 19000.0,\n",
        "  'min': 17000.0,\n",
        "  'parameter': 'X',\n",
        "  'parameter_id': 'ev10_fault_x',\n",
        "  'stdev': 1000.0,\n",
        "  'type': 'normal'},\n",
        " {'event': 10,\n",
        "  'event_type': 'Fault',\n",
        "  'initial': 0.0,\n",
        "  'max': 1000.0,\n",
        "  'min': -1000.0,\n",
        "  'parameter': 'Y',\n",
        "  'parameter_id': 'ev10_fault_y',\n",
        "  'stdev': 1000.0,\n",
        "  'type': 'normal'},\n",
        " {'event': 10,\n",
        "  'event_type': 'Fault',\n",
        "  'initial': 5000.0,\n",
        "  'max': 6000.0,\n",
        "  'min': 4000.0,\n",
        "  'parameter': 'Z',\n",
        "  'parameter_id': 'ev10_fault_z',\n",
        "  'stdev': 1000.0,\n",
        "  'type': 'normal'},\n",
        " {'event': 10,\n",
        "  'event_type': 'Fault',\n",
        "  'initial': 200.0,\n",
        "  'max': 300.0,\n",
        "  'min': 100.0,\n",
        "  'parameter': 'Slip',\n",
        "  'parameter_id': 'ev10_fault_slip',\n",
        "  'stdev': 100.0,\n",
        "  'type': 'normal'},\n",
        " {'event': 11,\n",
        "  'event_type': 'Fault',\n",
        "  'initial': 70.0,\n",
        "  'max': 80.0,\n",
        "  'min': 60.0,\n",
        "  'parameter': 'Dip',\n",
        "  'parameter_id': 'ev11_fault_dip',\n",
        "  'stdev': 10.0,\n",
        "  'type': 'normal'},\n",
        " {'event': 11,\n",
        "  'event_type': 'Fault',\n",
        "  'initial': 23000.0,\n",
        "  'max': 24000.0,\n",
        "  'min': 22000.0,\n",
        "  'parameter': 'X',\n",
        "  'parameter_id': 'ev11_fault_x',\n",
        "  'stdev': 1000.0,\n",
        "  'type': 'normal'},\n",
        " {'event': 11,\n",
        "  'event_type': 'Fault',\n",
        "  'initial': 5000.0,\n",
        "  'max': 6000.0,\n",
        "  'min': 4000.0,\n",
        "  'parameter': 'Z',\n",
        "  'parameter_id': 'ev11_fault_z',\n",
        "  'stdev': 1000.0,\n",
        "  'type': 'normal'},\n",
        " {'event': 11,\n",
        "  'event_type': 'Fault',\n",
        "  'initial': 200.0,\n",
        "  'max': 300.0,\n",
        "  'min': 100.0,\n",
        "  'parameter': 'Slip',\n",
        "  'parameter_id': 'ev11_fault_slip',\n",
        "  'stdev': 100.0,\n",
        "  'type': 'normal'},\n",
        " {'event': 12,\n",
        "  'event_type': 'Unconformity',\n",
        "  'initial': 1000.0,\n",
        "  'max': 1100.0,\n",
        "  'min': 900.0,\n",
        "  'parameter': 'Z',\n",
        "  'parameter_id': 'ev12_uc_z',\n",
        "  'stdev': 100.0,\n",
        "  'type': 'normal'},\n",
        " {'event': 13,\n",
        "  'event_type': 'Tilt',\n",
        "  'initial': 48.0,\n",
        "  'max': 58.0,\n",
        "  'min': 38.0,\n",
        "  'parameter': 'Plunge',\n",
        "  'parameter_id': 'ev13_tilt_plunge_dir',\n",
        "  'stdev': 10.0,\n",
        "  'type': 'normal'},\n",
        " {'event': 13,\n",
        "  'event_type': 'Tilt',\n",
        "  'initial': 358.0,\n",
        "  'max': 360.0,\n",
        "  'min': 350.0,\n",
        "  'parameter': 'Rotation',\n",
        "  'parameter_id': 'ev13_tilt_rot',\n",
        "  'stdev': 5.0,\n",
        "  'type': 'normal'},\n",
        " {'event': 14,\n",
        "  'event_type': 'Fold',\n",
        "  'initial': 500.0,\n",
        "  'max': 600.0,\n",
        "  'min': 400.0,\n",
        "  'parameter': 'Amplitude',\n",
        "  'parameter_id': 'ev14_fold_amplitude',\n",
        "  'stdev': 100.0,\n",
        "  'type': 'normal'},\n",
        " {'event': 14,\n",
        "  'event_type': 'Fold',\n",
        "  'initial': 17000.0,\n",
        "  'max': 18000.0,\n",
        "  'min': 16000.0,\n",
        "  'parameter': 'Wavelength',\n",
        "  'parameter_id': 'ev14_fold_wavelength',\n",
        "  'stdev': 1000.0,\n",
        "  'type': 'normal'},\n",
        " {'event': 14,\n",
        "  'event_type': 'Fold',\n",
        "  'initial': 7000.0,\n",
        "  'max': 17000.0,\n",
        "  'min': 0.0,\n",
        "  'parameter': 'Y',\n",
        "  'parameter_id': 'ev14_fold_y',\n",
        "  'stdev': 8500.0,\n",
        "  'type': 'normal'}]"
       ]
      }
     ],
     "prompt_number": 109
    },
    {
     "cell_type": "code",
     "collapsed": false,
     "input": [],
     "language": "python",
     "metadata": {},
     "outputs": []
    }
   ],
   "metadata": {}
  }
 ]
}